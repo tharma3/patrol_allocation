{
 "cells": [
  {
   "cell_type": "code",
   "execution_count": 93,
   "metadata": {},
   "outputs": [
    {
     "name": "stdout",
     "output_type": "stream",
     "text": [
      "Populating the interactive namespace from numpy and matplotlib\n"
     ]
    }
   ],
   "source": [
    "import pandas as pd\n",
    "import geopandas as gpd\n",
    "import os\n",
    "import matplotlib.pyplot as plt\n",
    "from fiona.crs import from_epsg\n",
    "%pylab inline"
   ]
  },
  {
   "cell_type": "code",
   "execution_count": 79,
   "metadata": {},
   "outputs": [],
   "source": [
    "ems_calls = 'https://data.cityofnewyork.us/resource/66ae-7zpy.csv?$query=SELECT%20policeprecinct,%20date_extract_y(first_activation_datetime)%20AS%20year,%20count(cad_incident_id)%20AS%20calls%20GROUP%20BY%20policeprecinct,%20date_extract_y(first_activation_datetime)%20LIMIT%2050000'"
   ]
  },
  {
   "cell_type": "code",
   "execution_count": 80,
   "metadata": {},
   "outputs": [
    {
     "name": "stdout",
     "output_type": "stream",
     "text": [
      "https://data.cityofnewyork.us/resource/66ae-7zpy.csv?$query=SELECT%20policeprecinct,%20date_extract_y(first_activation_datetime)%20AS%20year,%20count(cad_incident_id)%20AS%20calls%20GROUP%20BY%20policeprecinct,%20date_extract_y(first_activation_datetime)%20LIMIT%2050000\n"
     ]
    }
   ],
   "source": [
    "print(ems_calls)"
   ]
  },
  {
   "cell_type": "code",
   "execution_count": 81,
   "metadata": {},
   "outputs": [],
   "source": [
    "ems = pd.read_csv(ems_calls)"
   ]
  },
  {
   "cell_type": "code",
   "execution_count": 82,
   "metadata": {},
   "outputs": [
    {
     "data": {
      "text/plain": [
       "(476, 3)"
      ]
     },
     "execution_count": 82,
     "metadata": {},
     "output_type": "execute_result"
    }
   ],
   "source": [
    "ems.shape"
   ]
  },
  {
   "cell_type": "code",
   "execution_count": 83,
   "metadata": {},
   "outputs": [],
   "source": [
    "ems.dropna(axis=0, how='any',inplace=True)"
   ]
  },
  {
   "cell_type": "code",
   "execution_count": 84,
   "metadata": {},
   "outputs": [],
   "source": [
    "ems.year = ems.year.astype(int)\n",
    "ems.policeprecinct = ems.policeprecinct.astype(int)"
   ]
  },
  {
   "cell_type": "code",
   "execution_count": 85,
   "metadata": {},
   "outputs": [
    {
     "data": {
      "text/html": [
       "<div>\n",
       "<table border=\"1\" class=\"dataframe\">\n",
       "  <thead>\n",
       "    <tr style=\"text-align: right;\">\n",
       "      <th></th>\n",
       "      <th>calls</th>\n",
       "      <th>policeprecinct</th>\n",
       "      <th>year</th>\n",
       "    </tr>\n",
       "  </thead>\n",
       "  <tbody>\n",
       "    <tr>\n",
       "      <th>0</th>\n",
       "      <td>14037</td>\n",
       "      <td>1</td>\n",
       "      <td>2013</td>\n",
       "    </tr>\n",
       "    <tr>\n",
       "      <th>1</th>\n",
       "      <td>15856</td>\n",
       "      <td>1</td>\n",
       "      <td>2014</td>\n",
       "    </tr>\n",
       "    <tr>\n",
       "      <th>2</th>\n",
       "      <td>15711</td>\n",
       "      <td>1</td>\n",
       "      <td>2015</td>\n",
       "    </tr>\n",
       "    <tr>\n",
       "      <th>3</th>\n",
       "      <td>14709</td>\n",
       "      <td>1</td>\n",
       "      <td>2016</td>\n",
       "    </tr>\n",
       "    <tr>\n",
       "      <th>4</th>\n",
       "      <td>16212</td>\n",
       "      <td>1</td>\n",
       "      <td>2017</td>\n",
       "    </tr>\n",
       "  </tbody>\n",
       "</table>\n",
       "</div>"
      ],
      "text/plain": [
       "   calls  policeprecinct  year\n",
       "0  14037               1  2013\n",
       "1  15856               1  2014\n",
       "2  15711               1  2015\n",
       "3  14709               1  2016\n",
       "4  16212               1  2017"
      ]
     },
     "execution_count": 85,
     "metadata": {},
     "output_type": "execute_result"
    }
   ],
   "source": [
    "ems.head()"
   ]
  },
  {
   "cell_type": "code",
   "execution_count": 101,
   "metadata": {},
   "outputs": [],
   "source": [
    "year_denom = ems.groupby(['year'])[['calls']].sum().reset_index()"
   ]
  },
  {
   "cell_type": "code",
   "execution_count": 102,
   "metadata": {},
   "outputs": [],
   "source": [
    "ems = ems.merge(year_denom, left_on='year', right_on='year')"
   ]
  },
  {
   "cell_type": "code",
   "execution_count": 104,
   "metadata": {},
   "outputs": [],
   "source": [
    "ems['share'] = ems.calls_x / ems.calls_y.astype(float)"
   ]
  },
  {
   "cell_type": "code",
   "execution_count": 105,
   "metadata": {},
   "outputs": [
    {
     "data": {
      "text/html": [
       "<div>\n",
       "<table border=\"1\" class=\"dataframe\">\n",
       "  <thead>\n",
       "    <tr style=\"text-align: right;\">\n",
       "      <th></th>\n",
       "      <th>calls_x</th>\n",
       "      <th>policeprecinct</th>\n",
       "      <th>year</th>\n",
       "      <th>calls_y</th>\n",
       "      <th>share</th>\n",
       "    </tr>\n",
       "  </thead>\n",
       "  <tbody>\n",
       "    <tr>\n",
       "      <th>0</th>\n",
       "      <td>14037</td>\n",
       "      <td>1</td>\n",
       "      <td>2013</td>\n",
       "      <td>1269484</td>\n",
       "      <td>0.011057</td>\n",
       "    </tr>\n",
       "    <tr>\n",
       "      <th>1</th>\n",
       "      <td>12761</td>\n",
       "      <td>5</td>\n",
       "      <td>2013</td>\n",
       "      <td>1269484</td>\n",
       "      <td>0.010052</td>\n",
       "    </tr>\n",
       "    <tr>\n",
       "      <th>2</th>\n",
       "      <td>9454</td>\n",
       "      <td>6</td>\n",
       "      <td>2013</td>\n",
       "      <td>1269484</td>\n",
       "      <td>0.007447</td>\n",
       "    </tr>\n",
       "    <tr>\n",
       "      <th>3</th>\n",
       "      <td>10935</td>\n",
       "      <td>7</td>\n",
       "      <td>2013</td>\n",
       "      <td>1269484</td>\n",
       "      <td>0.008614</td>\n",
       "    </tr>\n",
       "    <tr>\n",
       "      <th>4</th>\n",
       "      <td>17220</td>\n",
       "      <td>9</td>\n",
       "      <td>2013</td>\n",
       "      <td>1269484</td>\n",
       "      <td>0.013565</td>\n",
       "    </tr>\n",
       "  </tbody>\n",
       "</table>\n",
       "</div>"
      ],
      "text/plain": [
       "   calls_x  policeprecinct  year  calls_y     share\n",
       "0    14037               1  2013  1269484  0.011057\n",
       "1    12761               5  2013  1269484  0.010052\n",
       "2     9454               6  2013  1269484  0.007447\n",
       "3    10935               7  2013  1269484  0.008614\n",
       "4    17220               9  2013  1269484  0.013565"
      ]
     },
     "execution_count": 105,
     "metadata": {},
     "output_type": "execute_result"
    }
   ],
   "source": [
    "ems.head()"
   ]
  },
  {
   "cell_type": "code",
   "execution_count": 106,
   "metadata": {},
   "outputs": [
    {
     "data": {
      "text/html": [
       "<div>\n",
       "<table border=\"1\" class=\"dataframe\">\n",
       "  <thead>\n",
       "    <tr style=\"text-align: right;\">\n",
       "      <th></th>\n",
       "      <th>precinct</th>\n",
       "      <th>shape_area</th>\n",
       "      <th>shape_leng</th>\n",
       "      <th>geometry</th>\n",
       "    </tr>\n",
       "  </thead>\n",
       "  <tbody>\n",
       "    <tr>\n",
       "      <th>0</th>\n",
       "      <td>1</td>\n",
       "      <td>47301761.2426</td>\n",
       "      <td>80586.1546155</td>\n",
       "      <td>(POLYGON ((-74.0438776157395 40.69018767637665...</td>\n",
       "    </tr>\n",
       "    <tr>\n",
       "      <th>1</th>\n",
       "      <td>5</td>\n",
       "      <td>18088797.9526</td>\n",
       "      <td>18676.1242594</td>\n",
       "      <td>(POLYGON ((-73.98863862848766 40.7229337202636...</td>\n",
       "    </tr>\n",
       "    <tr>\n",
       "      <th>2</th>\n",
       "      <td>6</td>\n",
       "      <td>22098189.8026</td>\n",
       "      <td>26402.9006691</td>\n",
       "      <td>(POLYGON ((-73.99968392160721 40.7385522486597...</td>\n",
       "    </tr>\n",
       "    <tr>\n",
       "      <th>3</th>\n",
       "      <td>71</td>\n",
       "      <td>45331787.1744</td>\n",
       "      <td>29978.0942611</td>\n",
       "      <td>(POLYGON ((-73.92854313809303 40.6645732858473...</td>\n",
       "    </tr>\n",
       "    <tr>\n",
       "      <th>4</th>\n",
       "      <td>72</td>\n",
       "      <td>104621257.743</td>\n",
       "      <td>87968.1945199</td>\n",
       "      <td>(POLYGON ((-73.99840899113158 40.6718687230323...</td>\n",
       "    </tr>\n",
       "  </tbody>\n",
       "</table>\n",
       "</div>"
      ],
      "text/plain": [
       "  precinct     shape_area     shape_leng  \\\n",
       "0        1  47301761.2426  80586.1546155   \n",
       "1        5  18088797.9526  18676.1242594   \n",
       "2        6  22098189.8026  26402.9006691   \n",
       "3       71  45331787.1744  29978.0942611   \n",
       "4       72  104621257.743  87968.1945199   \n",
       "\n",
       "                                            geometry  \n",
       "0  (POLYGON ((-74.0438776157395 40.69018767637665...  \n",
       "1  (POLYGON ((-73.98863862848766 40.7229337202636...  \n",
       "2  (POLYGON ((-73.99968392160721 40.7385522486597...  \n",
       "3  (POLYGON ((-73.92854313809303 40.6645732858473...  \n",
       "4  (POLYGON ((-73.99840899113158 40.6718687230323...  "
      ]
     },
     "execution_count": 106,
     "metadata": {},
     "output_type": "execute_result"
    }
   ],
   "source": [
    "precincts = gpd.read_file('Police Precincts.geojson')\n",
    "precincts.head()"
   ]
  },
  {
   "cell_type": "code",
   "execution_count": 94,
   "metadata": {},
   "outputs": [
    {
     "data": {
      "text/plain": [
       "<matplotlib.axes._subplots.AxesSubplot at 0x7fa15bddbe48>"
      ]
     },
     "execution_count": 94,
     "metadata": {},
     "output_type": "execute_result"
    },
    {
     "data": {
      "image/png": "[encoded data removed]",
      "text/plain": [
       "<matplotlib.figure.Figure at 0x7fa15bddb208>"
      ]
     },
     "metadata": {},
     "output_type": "display_data"
    }
   ],
   "source": [
    "precincts.to_crs(epsg=2263).plot()"
   ]
  },
  {
   "cell_type": "code",
   "execution_count": null,
   "metadata": {},
   "outputs": [],
   "source": []
  }
 ],
 "metadata": {
  "kernelspec": {
   "display_name": "PUI2016_Python3",
   "language": "python",
   "name": "pui2016_python3"
  },
  "language_info": {
   "codemirror_mode": {
    "name": "ipython",
    "version": 3
   },
   "file_extension": ".py",
   "mimetype": "text/x-python",
   "name": "python",
   "nbconvert_exporter": "python",
   "pygments_lexer": "ipython3",
   "version": "3.5.4"
  }
 },
 "nbformat": 4,
 "nbformat_minor": 2
}
