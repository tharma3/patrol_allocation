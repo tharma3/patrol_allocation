{
 "cells": [
  {
   "cell_type": "code",
   "execution_count": 1,
   "metadata": {},
   "outputs": [],
   "source": [
    "import os\n",
    "import pandas as pd\n",
    "import numpy as np"
   ]
  },
  {
   "cell_type": "markdown",
   "metadata": {},
   "source": [
    "## Reading in stop and frisk files from 2015-2018\n",
    "files can be found here: https://www1.nyc.gov/site/nypd/stats/reports-analysis/stopfrisk.page"
   ]
  },
  {
   "cell_type": "code",
   "execution_count": 2,
   "metadata": {},
   "outputs": [
    {
     "name": "stderr",
     "output_type": "stream",
     "text": [
      "/anaconda3/lib/python3.6/site-packages/IPython/core/interactiveshell.py:2785: DtypeWarning: Columns (0,1,2,3,4,8,18,19,73,74,84,85,86,103,110,111) have mixed types. Specify dtype option on import or set low_memory=False.\n",
      "  interactivity=interactivity, compiler=compiler, result=result)\n"
     ]
    }
   ],
   "source": [
    "url1 = 'https://www1.nyc.gov/assets/nypd/downloads/excel/analysis_and_planning/stop-question-frisk/sqf-2018.xlsx'\n",
    "sf18 = pd.read_excel(url1)\n",
    "\n",
    "url2 = 'https://www1.nyc.gov/assets/nypd/downloads/excel/analysis_and_planning/stop-question-frisk/sqf-2017.xlsx'\n",
    "sf17 = pd.read_excel(url2)\n",
    "\n",
    "url3 = 'https://www1.nyc.gov/assets/nypd/downloads/excel/analysis_and_planning/stop-question-frisk/sqf-2016.csv'\n",
    "sf16 = pd.read_csv(url3)\n",
    "\n",
    "url4 = 'https://www1.nyc.gov/assets/nypd/downloads/excel/analysis_and_planning/stop-question-frisk/sqf-2015.csv'\n",
    "sf15 = pd.read_csv(url4)"
   ]
  },
  {
   "cell_type": "markdown",
   "metadata": {},
   "source": [
    "# 2018 ##\n",
    "- We want number of stops per year by precinct and if it resulted in an arrest \n",
    "- make sure precinct is a number"
   ]
  },
  {
   "cell_type": "code",
   "execution_count": 3,
   "metadata": {},
   "outputs": [
    {
     "data": {
      "text/html": [
       "<div>\n",
       "<style scoped>\n",
       "    .dataframe tbody tr th:only-of-type {\n",
       "        vertical-align: middle;\n",
       "    }\n",
       "\n",
       "    .dataframe tbody tr th {\n",
       "        vertical-align: top;\n",
       "    }\n",
       "\n",
       "    .dataframe thead th {\n",
       "        text-align: right;\n",
       "    }\n",
       "</style>\n",
       "<table border=\"1\" class=\"dataframe\">\n",
       "  <thead>\n",
       "    <tr style=\"text-align: right;\">\n",
       "      <th></th>\n",
       "      <th>STOP_FRISK_ID</th>\n",
       "      <th>STOP_FRISK_DATE</th>\n",
       "      <th>Stop Frisk Time</th>\n",
       "      <th>YEAR2</th>\n",
       "      <th>MONTH2</th>\n",
       "      <th>DAY2</th>\n",
       "      <th>STOP_WAS_INITIATED</th>\n",
       "      <th>RECORD_STATUS_CODE</th>\n",
       "      <th>ISSUING_OFFICER_RANK</th>\n",
       "      <th>ISSUING_OFFICER_COMMAND_CODE</th>\n",
       "      <th>...</th>\n",
       "      <th>STOP_LOCATION_SECTOR_CODE</th>\n",
       "      <th>STOP_LOCATION_APARTMENT</th>\n",
       "      <th>STOP_LOCATION_FULL_ADDRESS</th>\n",
       "      <th>STOP_LOCATION_PREMISES_NAME</th>\n",
       "      <th>STOP_LOCATION_STREET_NAME</th>\n",
       "      <th>STOP_LOCATION_X</th>\n",
       "      <th>STOP_LOCATION_Y</th>\n",
       "      <th>STOP_LOCATION_ZIP_CODE</th>\n",
       "      <th>STOP_LOCATION_PATROL_BORO_NAME</th>\n",
       "      <th>STOP_LOCATION_BORO_NAME</th>\n",
       "    </tr>\n",
       "  </thead>\n",
       "  <tbody>\n",
       "    <tr>\n",
       "      <th>0</th>\n",
       "      <td>1</td>\n",
       "      <td>2018-01-01</td>\n",
       "      <td>19:04:00</td>\n",
       "      <td>2018</td>\n",
       "      <td>January</td>\n",
       "      <td>Monday</td>\n",
       "      <td>Based on C/W on Scene</td>\n",
       "      <td>APP</td>\n",
       "      <td>POM</td>\n",
       "      <td>1</td>\n",
       "      <td>...</td>\n",
       "      <td>G</td>\n",
       "      <td>(null)</td>\n",
       "      <td>VARICK STREET &amp;&amp; FRANKLIN STREET</td>\n",
       "      <td>(null)</td>\n",
       "      <td>VARICK STREET</td>\n",
       "      <td>982327</td>\n",
       "      <td>201274</td>\n",
       "      <td>(null)</td>\n",
       "      <td>PBMS</td>\n",
       "      <td>MANHATTAN</td>\n",
       "    </tr>\n",
       "    <tr>\n",
       "      <th>1</th>\n",
       "      <td>2</td>\n",
       "      <td>2018-01-01</td>\n",
       "      <td>23:00:00</td>\n",
       "      <td>2018</td>\n",
       "      <td>January</td>\n",
       "      <td>Monday</td>\n",
       "      <td>Based on Radio Run</td>\n",
       "      <td>APP</td>\n",
       "      <td>POM</td>\n",
       "      <td>34</td>\n",
       "      <td>...</td>\n",
       "      <td>C</td>\n",
       "      <td>(null)</td>\n",
       "      <td>DYCKMAN STREET &amp;&amp; POST AVENUE</td>\n",
       "      <td>(null)</td>\n",
       "      <td>DYCKMAN STREET</td>\n",
       "      <td>1004892</td>\n",
       "      <td>253548</td>\n",
       "      <td>(null)</td>\n",
       "      <td>PBMN</td>\n",
       "      <td>MANHATTAN</td>\n",
       "    </tr>\n",
       "    <tr>\n",
       "      <th>2</th>\n",
       "      <td>3</td>\n",
       "      <td>2018-01-01</td>\n",
       "      <td>23:55:00</td>\n",
       "      <td>2018</td>\n",
       "      <td>January</td>\n",
       "      <td>Monday</td>\n",
       "      <td>Based on Radio Run</td>\n",
       "      <td>APP</td>\n",
       "      <td>POM</td>\n",
       "      <td>808</td>\n",
       "      <td>...</td>\n",
       "      <td>B</td>\n",
       "      <td>4M</td>\n",
       "      <td>2245 RANDALL AVENUE</td>\n",
       "      <td>(null)</td>\n",
       "      <td>RANDALL AVENUE</td>\n",
       "      <td>1026706</td>\n",
       "      <td>237776</td>\n",
       "      <td>(null)</td>\n",
       "      <td>PBBX</td>\n",
       "      <td>BRONX</td>\n",
       "    </tr>\n",
       "    <tr>\n",
       "      <th>3</th>\n",
       "      <td>4</td>\n",
       "      <td>2018-01-01</td>\n",
       "      <td>03:23:00</td>\n",
       "      <td>2018</td>\n",
       "      <td>January</td>\n",
       "      <td>Monday</td>\n",
       "      <td>Based on Radio Run</td>\n",
       "      <td>APP</td>\n",
       "      <td>POM</td>\n",
       "      <td>63</td>\n",
       "      <td>...</td>\n",
       "      <td>B</td>\n",
       "      <td>(null)</td>\n",
       "      <td>EAST 38 STREET &amp;&amp; AVENUE L</td>\n",
       "      <td>(null)</td>\n",
       "      <td>EAST 38 STREET</td>\n",
       "      <td>1001347</td>\n",
       "      <td>166195</td>\n",
       "      <td>(null)</td>\n",
       "      <td>PBBS</td>\n",
       "      <td>BROOKLYN</td>\n",
       "    </tr>\n",
       "    <tr>\n",
       "      <th>4</th>\n",
       "      <td>5</td>\n",
       "      <td>2018-01-01</td>\n",
       "      <td>03:23:00</td>\n",
       "      <td>2018</td>\n",
       "      <td>January</td>\n",
       "      <td>Monday</td>\n",
       "      <td>Based on Radio Run</td>\n",
       "      <td>APP</td>\n",
       "      <td>POM</td>\n",
       "      <td>63</td>\n",
       "      <td>...</td>\n",
       "      <td>B</td>\n",
       "      <td>(null)</td>\n",
       "      <td>EAST 38 STREET &amp;&amp; AVENUE L</td>\n",
       "      <td>(null)</td>\n",
       "      <td>EAST 38 STREET</td>\n",
       "      <td>1001347</td>\n",
       "      <td>166195</td>\n",
       "      <td>(null)</td>\n",
       "      <td>PBBS</td>\n",
       "      <td>BROOKLYN</td>\n",
       "    </tr>\n",
       "  </tbody>\n",
       "</table>\n",
       "<p>5 rows × 83 columns</p>\n",
       "</div>"
      ],
      "text/plain": [
       "   STOP_FRISK_ID STOP_FRISK_DATE Stop Frisk Time  YEAR2   MONTH2    DAY2  \\\n",
       "0              1      2018-01-01        19:04:00   2018  January  Monday   \n",
       "1              2      2018-01-01        23:00:00   2018  January  Monday   \n",
       "2              3      2018-01-01        23:55:00   2018  January  Monday   \n",
       "3              4      2018-01-01        03:23:00   2018  January  Monday   \n",
       "4              5      2018-01-01        03:23:00   2018  January  Monday   \n",
       "\n",
       "      STOP_WAS_INITIATED RECORD_STATUS_CODE ISSUING_OFFICER_RANK  \\\n",
       "0  Based on C/W on Scene                APP                  POM   \n",
       "1     Based on Radio Run                APP                  POM   \n",
       "2     Based on Radio Run                APP                  POM   \n",
       "3     Based on Radio Run                APP                  POM   \n",
       "4     Based on Radio Run                APP                  POM   \n",
       "\n",
       "   ISSUING_OFFICER_COMMAND_CODE           ...            \\\n",
       "0                             1           ...             \n",
       "1                            34           ...             \n",
       "2                           808           ...             \n",
       "3                            63           ...             \n",
       "4                            63           ...             \n",
       "\n",
       "  STOP_LOCATION_SECTOR_CODE  STOP_LOCATION_APARTMENT  \\\n",
       "0                         G                   (null)   \n",
       "1                         C                   (null)   \n",
       "2                         B                       4M   \n",
       "3                         B                   (null)   \n",
       "4                         B                   (null)   \n",
       "\n",
       "         STOP_LOCATION_FULL_ADDRESS STOP_LOCATION_PREMISES_NAME  \\\n",
       "0  VARICK STREET && FRANKLIN STREET                      (null)   \n",
       "1     DYCKMAN STREET && POST AVENUE                      (null)   \n",
       "2               2245 RANDALL AVENUE                      (null)   \n",
       "3        EAST 38 STREET && AVENUE L                      (null)   \n",
       "4        EAST 38 STREET && AVENUE L                      (null)   \n",
       "\n",
       "  STOP_LOCATION_STREET_NAME STOP_LOCATION_X  STOP_LOCATION_Y  \\\n",
       "0             VARICK STREET          982327           201274   \n",
       "1            DYCKMAN STREET         1004892           253548   \n",
       "2            RANDALL AVENUE         1026706           237776   \n",
       "3            EAST 38 STREET         1001347           166195   \n",
       "4            EAST 38 STREET         1001347           166195   \n",
       "\n",
       "  STOP_LOCATION_ZIP_CODE  STOP_LOCATION_PATROL_BORO_NAME  \\\n",
       "0                 (null)                            PBMS   \n",
       "1                 (null)                            PBMN   \n",
       "2                 (null)                            PBBX   \n",
       "3                 (null)                            PBBS   \n",
       "4                 (null)                            PBBS   \n",
       "\n",
       "  STOP_LOCATION_BORO_NAME  \n",
       "0               MANHATTAN  \n",
       "1               MANHATTAN  \n",
       "2                   BRONX  \n",
       "3                BROOKLYN  \n",
       "4                BROOKLYN  \n",
       "\n",
       "[5 rows x 83 columns]"
      ]
     },
     "execution_count": 3,
     "metadata": {},
     "output_type": "execute_result"
    }
   ],
   "source": [
    "sf18.head()"
   ]
  },
  {
   "cell_type": "code",
   "execution_count": 4,
   "metadata": {},
   "outputs": [],
   "source": [
    "# reducing df to columns of interest\n",
    "sf18_a = sf18[['STOP_LOCATION_PRECINCT', 'SUSPECT_ARRESTED_FLAG', 'STOP_FRISK_ID']]"
   ]
  },
  {
   "cell_type": "code",
   "execution_count": 5,
   "metadata": {},
   "outputs": [],
   "source": [
    "# counts number of yes_arrets and no_arrests per precinct\n",
    "sf18_b = pd.pivot_table(sf18_a, columns='SUSPECT_ARRESTED_FLAG', index='STOP_LOCATION_PRECINCT', \n",
    "                        values='STOP_FRISK_ID', aggfunc='count').reset_index()"
   ]
  },
  {
   "cell_type": "code",
   "execution_count": 6,
   "metadata": {},
   "outputs": [],
   "source": [
    "# renaming columns\n",
    "sf18F = sf18_b.rename(index=str, columns={\"SUSPECT_ARRESTED_FLAG\": \"index\", \"STOP_LOCATION_PRECINCT\": \"precinct\",\n",
    "                                         \"N\":\"no_arrest\", \"Y\":\"yes_arrest\"})"
   ]
  },
  {
   "cell_type": "code",
   "execution_count": 7,
   "metadata": {},
   "outputs": [
    {
     "data": {
      "text/plain": [
       "False"
      ]
     },
     "execution_count": 7,
     "metadata": {},
     "output_type": "execute_result"
    }
   ],
   "source": [
    "sf18F.isnull().values.any()"
   ]
  },
  {
   "cell_type": "code",
   "execution_count": 8,
   "metadata": {},
   "outputs": [
    {
     "data": {
      "text/plain": [
       "dtype('int64')"
      ]
     },
     "execution_count": 8,
     "metadata": {},
     "output_type": "execute_result"
    }
   ],
   "source": [
    "# checking to make sure precinct is float/int\n",
    "sf18F.precinct.dtype"
   ]
  },
  {
   "cell_type": "code",
   "execution_count": 9,
   "metadata": {},
   "outputs": [],
   "source": [
    "# adding year back in\n",
    "sf18F['year'] = 2018"
   ]
  },
  {
   "cell_type": "markdown",
   "metadata": {},
   "source": [
    "## 2017 data ##"
   ]
  },
  {
   "cell_type": "code",
   "execution_count": 10,
   "metadata": {},
   "outputs": [],
   "source": [
    "sf17_a = sf17[['STOP_LOCATION_PRECINCT', 'SUSPECT_ARRESTED_FLAG', 'STOP_FRISK_ID']]"
   ]
  },
  {
   "cell_type": "code",
   "execution_count": 11,
   "metadata": {},
   "outputs": [],
   "source": [
    "#value = sf181[sf181['SUSPECT_ARREST_FLAG']]\n",
    "sf17_b = pd.pivot_table(sf17_a, columns='SUSPECT_ARRESTED_FLAG', index='STOP_LOCATION_PRECINCT', \n",
    "                        values='STOP_FRISK_ID', aggfunc='count').reset_index()"
   ]
  },
  {
   "cell_type": "code",
   "execution_count": 12,
   "metadata": {},
   "outputs": [],
   "source": [
    "sf17_c = sf17_b.rename(index=str, columns={\"STOP_LOCATION_PRECINCT\": \"precinct\",\n",
    "                                         \"N\":\"no_arrest\", \"Y\":\"yes_arrest\"})"
   ]
  },
  {
   "cell_type": "code",
   "execution_count": 13,
   "metadata": {},
   "outputs": [
    {
     "data": {
      "text/plain": [
       "True"
      ]
     },
     "execution_count": 13,
     "metadata": {},
     "output_type": "execute_result"
    }
   ],
   "source": [
    "sf17_c.isnull().values.any()"
   ]
  },
  {
   "cell_type": "code",
   "execution_count": 14,
   "metadata": {},
   "outputs": [],
   "source": [
    "sf17F = sf17_c.dropna(axis=0, how='any')"
   ]
  },
  {
   "cell_type": "code",
   "execution_count": 15,
   "metadata": {},
   "outputs": [
    {
     "data": {
      "text/plain": [
       "False"
      ]
     },
     "execution_count": 15,
     "metadata": {},
     "output_type": "execute_result"
    }
   ],
   "source": [
    "sf17F.isnull().values.any()"
   ]
  },
  {
   "cell_type": "code",
   "execution_count": 16,
   "metadata": {},
   "outputs": [
    {
     "name": "stderr",
     "output_type": "stream",
     "text": [
      "/anaconda3/lib/python3.6/site-packages/pandas/core/generic.py:5886: SettingWithCopyWarning: \n",
      "A value is trying to be set on a copy of a slice from a DataFrame\n",
      "\n",
      "See the caveats in the documentation: http://pandas.pydata.org/pandas-docs/stable/indexing.html#indexing-view-versus-copy\n",
      "  self._update_inplace(new_data)\n"
     ]
    }
   ],
   "source": [
    "sf17F['precinct'].replace(' ', np.nan, inplace=True)"
   ]
  },
  {
   "cell_type": "code",
   "execution_count": 17,
   "metadata": {},
   "outputs": [],
   "source": [
    "sf17Final = sf17F.dropna(axis=0, how='any')"
   ]
  },
  {
   "cell_type": "code",
   "execution_count": 18,
   "metadata": {},
   "outputs": [
    {
     "data": {
      "text/plain": [
       "dtype('float64')"
      ]
     },
     "execution_count": 18,
     "metadata": {},
     "output_type": "execute_result"
    }
   ],
   "source": [
    "sf17Final.precinct.dtype"
   ]
  },
  {
   "cell_type": "code",
   "execution_count": 19,
   "metadata": {},
   "outputs": [
    {
     "name": "stderr",
     "output_type": "stream",
     "text": [
      "/anaconda3/lib/python3.6/site-packages/ipykernel_launcher.py:1: SettingWithCopyWarning: \n",
      "A value is trying to be set on a copy of a slice from a DataFrame.\n",
      "Try using .loc[row_indexer,col_indexer] = value instead\n",
      "\n",
      "See the caveats in the documentation: http://pandas.pydata.org/pandas-docs/stable/indexing.html#indexing-view-versus-copy\n",
      "  \"\"\"Entry point for launching an IPython kernel.\n"
     ]
    }
   ],
   "source": [
    "sf17Final['year'] = 2017"
   ]
  },
  {
   "cell_type": "markdown",
   "metadata": {},
   "source": [
    "## 2016"
   ]
  },
  {
   "cell_type": "code",
   "execution_count": 20,
   "metadata": {
    "scrolled": true
   },
   "outputs": [],
   "source": [
    "sf161 = sf16.reset_index()"
   ]
  },
  {
   "cell_type": "code",
   "execution_count": 21,
   "metadata": {},
   "outputs": [],
   "source": [
    "sf16_a = sf161[['pct', 'arstmade', 'index']]"
   ]
  },
  {
   "cell_type": "code",
   "execution_count": 22,
   "metadata": {},
   "outputs": [],
   "source": [
    "#value = sf181[sf181['SUSPECT_ARREST_FLAG']]\n",
    "sf16_b = pd.pivot_table(sf16_a, columns='arstmade', index='pct', values='index',\n",
    "                        aggfunc='count').reset_index()"
   ]
  },
  {
   "cell_type": "code",
   "execution_count": 23,
   "metadata": {},
   "outputs": [],
   "source": [
    "sf16_c = sf16_b.drop(columns=' ', axis=1)"
   ]
  },
  {
   "cell_type": "code",
   "execution_count": 24,
   "metadata": {},
   "outputs": [],
   "source": [
    "sf16F = sf16_c.rename(index=str, columns={\"pct\": \"precinct\",\n",
    "                                         \"N\":\"no_arrest\", \"Y\":\"yes_arrest\"})"
   ]
  },
  {
   "cell_type": "code",
   "execution_count": 25,
   "metadata": {},
   "outputs": [
    {
     "name": "stderr",
     "output_type": "stream",
     "text": [
      "/anaconda3/lib/python3.6/site-packages/ipykernel_launcher.py:1: DeprecationWarning: \n",
      ".ix is deprecated. Please use\n",
      ".loc for label based indexing or\n",
      ".iloc for positional indexing\n",
      "\n",
      "See the documentation here:\n",
      "http://pandas.pydata.org/pandas-docs/stable/indexing.html#ix-indexer-is-deprecated\n",
      "  \"\"\"Entry point for launching an IPython kernel.\n"
     ]
    }
   ],
   "source": [
    "sf16Final = sf16F.ix[:78,:] # after line 78, the precincts repeat with different numbers, so i just drop them"
   ]
  },
  {
   "cell_type": "code",
   "execution_count": 26,
   "metadata": {
    "scrolled": true
   },
   "outputs": [
    {
     "data": {
      "text/html": [
       "<div>\n",
       "<style scoped>\n",
       "    .dataframe tbody tr th:only-of-type {\n",
       "        vertical-align: middle;\n",
       "    }\n",
       "\n",
       "    .dataframe tbody tr th {\n",
       "        vertical-align: top;\n",
       "    }\n",
       "\n",
       "    .dataframe thead th {\n",
       "        text-align: right;\n",
       "    }\n",
       "</style>\n",
       "<table border=\"1\" class=\"dataframe\">\n",
       "  <thead>\n",
       "    <tr style=\"text-align: right;\">\n",
       "      <th>arstmade</th>\n",
       "      <th>precinct</th>\n",
       "      <th>no_arrest</th>\n",
       "      <th>yes_arrest</th>\n",
       "    </tr>\n",
       "  </thead>\n",
       "  <tbody>\n",
       "    <tr>\n",
       "      <th>0</th>\n",
       "      <td>1</td>\n",
       "      <td>46.0</td>\n",
       "      <td>7.0</td>\n",
       "    </tr>\n",
       "    <tr>\n",
       "      <th>1</th>\n",
       "      <td>5</td>\n",
       "      <td>63.0</td>\n",
       "      <td>17.0</td>\n",
       "    </tr>\n",
       "    <tr>\n",
       "      <th>2</th>\n",
       "      <td>6</td>\n",
       "      <td>22.0</td>\n",
       "      <td>9.0</td>\n",
       "    </tr>\n",
       "    <tr>\n",
       "      <th>3</th>\n",
       "      <td>7</td>\n",
       "      <td>41.0</td>\n",
       "      <td>12.0</td>\n",
       "    </tr>\n",
       "    <tr>\n",
       "      <th>4</th>\n",
       "      <td>9</td>\n",
       "      <td>63.0</td>\n",
       "      <td>17.0</td>\n",
       "    </tr>\n",
       "    <tr>\n",
       "      <th>5</th>\n",
       "      <td>10</td>\n",
       "      <td>52.0</td>\n",
       "      <td>13.0</td>\n",
       "    </tr>\n",
       "    <tr>\n",
       "      <th>6</th>\n",
       "      <td>13</td>\n",
       "      <td>68.0</td>\n",
       "      <td>25.0</td>\n",
       "    </tr>\n",
       "    <tr>\n",
       "      <th>7</th>\n",
       "      <td>14</td>\n",
       "      <td>99.0</td>\n",
       "      <td>22.0</td>\n",
       "    </tr>\n",
       "    <tr>\n",
       "      <th>8</th>\n",
       "      <td>17</td>\n",
       "      <td>31.0</td>\n",
       "      <td>7.0</td>\n",
       "    </tr>\n",
       "    <tr>\n",
       "      <th>9</th>\n",
       "      <td>18</td>\n",
       "      <td>85.0</td>\n",
       "      <td>13.0</td>\n",
       "    </tr>\n",
       "    <tr>\n",
       "      <th>10</th>\n",
       "      <td>19</td>\n",
       "      <td>53.0</td>\n",
       "      <td>38.0</td>\n",
       "    </tr>\n",
       "    <tr>\n",
       "      <th>11</th>\n",
       "      <td>20</td>\n",
       "      <td>31.0</td>\n",
       "      <td>3.0</td>\n",
       "    </tr>\n",
       "    <tr>\n",
       "      <th>12</th>\n",
       "      <td>22</td>\n",
       "      <td>23.0</td>\n",
       "      <td>1.0</td>\n",
       "    </tr>\n",
       "    <tr>\n",
       "      <th>13</th>\n",
       "      <td>23</td>\n",
       "      <td>226.0</td>\n",
       "      <td>57.0</td>\n",
       "    </tr>\n",
       "    <tr>\n",
       "      <th>14</th>\n",
       "      <td>24</td>\n",
       "      <td>85.0</td>\n",
       "      <td>17.0</td>\n",
       "    </tr>\n",
       "    <tr>\n",
       "      <th>15</th>\n",
       "      <td>25</td>\n",
       "      <td>162.0</td>\n",
       "      <td>46.0</td>\n",
       "    </tr>\n",
       "    <tr>\n",
       "      <th>16</th>\n",
       "      <td>26</td>\n",
       "      <td>40.0</td>\n",
       "      <td>11.0</td>\n",
       "    </tr>\n",
       "    <tr>\n",
       "      <th>17</th>\n",
       "      <td>28</td>\n",
       "      <td>69.0</td>\n",
       "      <td>13.0</td>\n",
       "    </tr>\n",
       "    <tr>\n",
       "      <th>18</th>\n",
       "      <td>30</td>\n",
       "      <td>77.0</td>\n",
       "      <td>17.0</td>\n",
       "    </tr>\n",
       "    <tr>\n",
       "      <th>19</th>\n",
       "      <td>32</td>\n",
       "      <td>126.0</td>\n",
       "      <td>46.0</td>\n",
       "    </tr>\n",
       "    <tr>\n",
       "      <th>20</th>\n",
       "      <td>33</td>\n",
       "      <td>19.0</td>\n",
       "      <td>1.0</td>\n",
       "    </tr>\n",
       "    <tr>\n",
       "      <th>21</th>\n",
       "      <td>34</td>\n",
       "      <td>68.0</td>\n",
       "      <td>15.0</td>\n",
       "    </tr>\n",
       "    <tr>\n",
       "      <th>22</th>\n",
       "      <td>40</td>\n",
       "      <td>139.0</td>\n",
       "      <td>130.0</td>\n",
       "    </tr>\n",
       "    <tr>\n",
       "      <th>23</th>\n",
       "      <td>41</td>\n",
       "      <td>87.0</td>\n",
       "      <td>24.0</td>\n",
       "    </tr>\n",
       "    <tr>\n",
       "      <th>24</th>\n",
       "      <td>42</td>\n",
       "      <td>69.0</td>\n",
       "      <td>55.0</td>\n",
       "    </tr>\n",
       "    <tr>\n",
       "      <th>25</th>\n",
       "      <td>43</td>\n",
       "      <td>105.0</td>\n",
       "      <td>62.0</td>\n",
       "    </tr>\n",
       "    <tr>\n",
       "      <th>26</th>\n",
       "      <td>44</td>\n",
       "      <td>87.0</td>\n",
       "      <td>10.0</td>\n",
       "    </tr>\n",
       "    <tr>\n",
       "      <th>27</th>\n",
       "      <td>45</td>\n",
       "      <td>32.0</td>\n",
       "      <td>17.0</td>\n",
       "    </tr>\n",
       "    <tr>\n",
       "      <th>28</th>\n",
       "      <td>46</td>\n",
       "      <td>73.0</td>\n",
       "      <td>11.0</td>\n",
       "    </tr>\n",
       "    <tr>\n",
       "      <th>29</th>\n",
       "      <td>47</td>\n",
       "      <td>74.0</td>\n",
       "      <td>43.0</td>\n",
       "    </tr>\n",
       "    <tr>\n",
       "      <th>...</th>\n",
       "      <td>...</td>\n",
       "      <td>...</td>\n",
       "      <td>...</td>\n",
       "    </tr>\n",
       "    <tr>\n",
       "      <th>47</th>\n",
       "      <td>76</td>\n",
       "      <td>48.0</td>\n",
       "      <td>26.0</td>\n",
       "    </tr>\n",
       "    <tr>\n",
       "      <th>48</th>\n",
       "      <td>77</td>\n",
       "      <td>58.0</td>\n",
       "      <td>6.0</td>\n",
       "    </tr>\n",
       "    <tr>\n",
       "      <th>49</th>\n",
       "      <td>78</td>\n",
       "      <td>46.0</td>\n",
       "      <td>7.0</td>\n",
       "    </tr>\n",
       "    <tr>\n",
       "      <th>50</th>\n",
       "      <td>79</td>\n",
       "      <td>122.0</td>\n",
       "      <td>18.0</td>\n",
       "    </tr>\n",
       "    <tr>\n",
       "      <th>51</th>\n",
       "      <td>81</td>\n",
       "      <td>68.0</td>\n",
       "      <td>11.0</td>\n",
       "    </tr>\n",
       "    <tr>\n",
       "      <th>52</th>\n",
       "      <td>83</td>\n",
       "      <td>51.0</td>\n",
       "      <td>20.0</td>\n",
       "    </tr>\n",
       "    <tr>\n",
       "      <th>53</th>\n",
       "      <td>84</td>\n",
       "      <td>132.0</td>\n",
       "      <td>24.0</td>\n",
       "    </tr>\n",
       "    <tr>\n",
       "      <th>54</th>\n",
       "      <td>88</td>\n",
       "      <td>29.0</td>\n",
       "      <td>5.0</td>\n",
       "    </tr>\n",
       "    <tr>\n",
       "      <th>55</th>\n",
       "      <td>90</td>\n",
       "      <td>138.0</td>\n",
       "      <td>35.0</td>\n",
       "    </tr>\n",
       "    <tr>\n",
       "      <th>56</th>\n",
       "      <td>94</td>\n",
       "      <td>41.0</td>\n",
       "      <td>4.0</td>\n",
       "    </tr>\n",
       "    <tr>\n",
       "      <th>57</th>\n",
       "      <td>100</td>\n",
       "      <td>34.0</td>\n",
       "      <td>8.0</td>\n",
       "    </tr>\n",
       "    <tr>\n",
       "      <th>58</th>\n",
       "      <td>101</td>\n",
       "      <td>46.0</td>\n",
       "      <td>10.0</td>\n",
       "    </tr>\n",
       "    <tr>\n",
       "      <th>59</th>\n",
       "      <td>102</td>\n",
       "      <td>77.0</td>\n",
       "      <td>6.0</td>\n",
       "    </tr>\n",
       "    <tr>\n",
       "      <th>60</th>\n",
       "      <td>103</td>\n",
       "      <td>48.0</td>\n",
       "      <td>11.0</td>\n",
       "    </tr>\n",
       "    <tr>\n",
       "      <th>61</th>\n",
       "      <td>104</td>\n",
       "      <td>11.0</td>\n",
       "      <td>2.0</td>\n",
       "    </tr>\n",
       "    <tr>\n",
       "      <th>62</th>\n",
       "      <td>105</td>\n",
       "      <td>120.0</td>\n",
       "      <td>36.0</td>\n",
       "    </tr>\n",
       "    <tr>\n",
       "      <th>63</th>\n",
       "      <td>106</td>\n",
       "      <td>698.0</td>\n",
       "      <td>92.0</td>\n",
       "    </tr>\n",
       "    <tr>\n",
       "      <th>64</th>\n",
       "      <td>107</td>\n",
       "      <td>23.0</td>\n",
       "      <td>3.0</td>\n",
       "    </tr>\n",
       "    <tr>\n",
       "      <th>65</th>\n",
       "      <td>108</td>\n",
       "      <td>26.0</td>\n",
       "      <td>5.0</td>\n",
       "    </tr>\n",
       "    <tr>\n",
       "      <th>66</th>\n",
       "      <td>109</td>\n",
       "      <td>107.0</td>\n",
       "      <td>23.0</td>\n",
       "    </tr>\n",
       "    <tr>\n",
       "      <th>67</th>\n",
       "      <td>110</td>\n",
       "      <td>35.0</td>\n",
       "      <td>34.0</td>\n",
       "    </tr>\n",
       "    <tr>\n",
       "      <th>68</th>\n",
       "      <td>111</td>\n",
       "      <td>46.0</td>\n",
       "      <td>11.0</td>\n",
       "    </tr>\n",
       "    <tr>\n",
       "      <th>69</th>\n",
       "      <td>112</td>\n",
       "      <td>37.0</td>\n",
       "      <td>7.0</td>\n",
       "    </tr>\n",
       "    <tr>\n",
       "      <th>70</th>\n",
       "      <td>113</td>\n",
       "      <td>60.0</td>\n",
       "      <td>10.0</td>\n",
       "    </tr>\n",
       "    <tr>\n",
       "      <th>71</th>\n",
       "      <td>114</td>\n",
       "      <td>215.0</td>\n",
       "      <td>36.0</td>\n",
       "    </tr>\n",
       "    <tr>\n",
       "      <th>72</th>\n",
       "      <td>115</td>\n",
       "      <td>49.0</td>\n",
       "      <td>31.0</td>\n",
       "    </tr>\n",
       "    <tr>\n",
       "      <th>73</th>\n",
       "      <td>120</td>\n",
       "      <td>135.0</td>\n",
       "      <td>20.0</td>\n",
       "    </tr>\n",
       "    <tr>\n",
       "      <th>74</th>\n",
       "      <td>121</td>\n",
       "      <td>62.0</td>\n",
       "      <td>10.0</td>\n",
       "    </tr>\n",
       "    <tr>\n",
       "      <th>75</th>\n",
       "      <td>122</td>\n",
       "      <td>108.0</td>\n",
       "      <td>22.0</td>\n",
       "    </tr>\n",
       "    <tr>\n",
       "      <th>76</th>\n",
       "      <td>123</td>\n",
       "      <td>21.0</td>\n",
       "      <td>22.0</td>\n",
       "    </tr>\n",
       "  </tbody>\n",
       "</table>\n",
       "<p>77 rows × 3 columns</p>\n",
       "</div>"
      ],
      "text/plain": [
       "arstmade precinct  no_arrest  yes_arrest\n",
       "0               1       46.0         7.0\n",
       "1               5       63.0        17.0\n",
       "2               6       22.0         9.0\n",
       "3               7       41.0        12.0\n",
       "4               9       63.0        17.0\n",
       "5              10       52.0        13.0\n",
       "6              13       68.0        25.0\n",
       "7              14       99.0        22.0\n",
       "8              17       31.0         7.0\n",
       "9              18       85.0        13.0\n",
       "10             19       53.0        38.0\n",
       "11             20       31.0         3.0\n",
       "12             22       23.0         1.0\n",
       "13             23      226.0        57.0\n",
       "14             24       85.0        17.0\n",
       "15             25      162.0        46.0\n",
       "16             26       40.0        11.0\n",
       "17             28       69.0        13.0\n",
       "18             30       77.0        17.0\n",
       "19             32      126.0        46.0\n",
       "20             33       19.0         1.0\n",
       "21             34       68.0        15.0\n",
       "22             40      139.0       130.0\n",
       "23             41       87.0        24.0\n",
       "24             42       69.0        55.0\n",
       "25             43      105.0        62.0\n",
       "26             44       87.0        10.0\n",
       "27             45       32.0        17.0\n",
       "28             46       73.0        11.0\n",
       "29             47       74.0        43.0\n",
       "..            ...        ...         ...\n",
       "47             76       48.0        26.0\n",
       "48             77       58.0         6.0\n",
       "49             78       46.0         7.0\n",
       "50             79      122.0        18.0\n",
       "51             81       68.0        11.0\n",
       "52             83       51.0        20.0\n",
       "53             84      132.0        24.0\n",
       "54             88       29.0         5.0\n",
       "55             90      138.0        35.0\n",
       "56             94       41.0         4.0\n",
       "57            100       34.0         8.0\n",
       "58            101       46.0        10.0\n",
       "59            102       77.0         6.0\n",
       "60            103       48.0        11.0\n",
       "61            104       11.0         2.0\n",
       "62            105      120.0        36.0\n",
       "63            106      698.0        92.0\n",
       "64            107       23.0         3.0\n",
       "65            108       26.0         5.0\n",
       "66            109      107.0        23.0\n",
       "67            110       35.0        34.0\n",
       "68            111       46.0        11.0\n",
       "69            112       37.0         7.0\n",
       "70            113       60.0        10.0\n",
       "71            114      215.0        36.0\n",
       "72            115       49.0        31.0\n",
       "73            120      135.0        20.0\n",
       "74            121       62.0        10.0\n",
       "75            122      108.0        22.0\n",
       "76            123       21.0        22.0\n",
       "\n",
       "[77 rows x 3 columns]"
      ]
     },
     "execution_count": 26,
     "metadata": {},
     "output_type": "execute_result"
    }
   ],
   "source": [
    "sf16Final.dropna(axis=0, how='any')"
   ]
  },
  {
   "cell_type": "code",
   "execution_count": 27,
   "metadata": {
    "scrolled": true
   },
   "outputs": [
    {
     "name": "stderr",
     "output_type": "stream",
     "text": [
      "/anaconda3/lib/python3.6/site-packages/pandas/core/generic.py:5886: SettingWithCopyWarning: \n",
      "A value is trying to be set on a copy of a slice from a DataFrame\n",
      "\n",
      "See the caveats in the documentation: http://pandas.pydata.org/pandas-docs/stable/indexing.html#indexing-view-versus-copy\n",
      "  self._update_inplace(new_data)\n"
     ]
    },
    {
     "data": {
      "text/html": [
       "<div>\n",
       "<style scoped>\n",
       "    .dataframe tbody tr th:only-of-type {\n",
       "        vertical-align: middle;\n",
       "    }\n",
       "\n",
       "    .dataframe tbody tr th {\n",
       "        vertical-align: top;\n",
       "    }\n",
       "\n",
       "    .dataframe thead th {\n",
       "        text-align: right;\n",
       "    }\n",
       "</style>\n",
       "<table border=\"1\" class=\"dataframe\">\n",
       "  <thead>\n",
       "    <tr style=\"text-align: right;\">\n",
       "      <th>arstmade</th>\n",
       "      <th>precinct</th>\n",
       "      <th>no_arrest</th>\n",
       "      <th>yes_arrest</th>\n",
       "    </tr>\n",
       "  </thead>\n",
       "  <tbody>\n",
       "    <tr>\n",
       "      <th>0</th>\n",
       "      <td>1.0</td>\n",
       "      <td>46.0</td>\n",
       "      <td>7.0</td>\n",
       "    </tr>\n",
       "    <tr>\n",
       "      <th>1</th>\n",
       "      <td>5.0</td>\n",
       "      <td>63.0</td>\n",
       "      <td>17.0</td>\n",
       "    </tr>\n",
       "    <tr>\n",
       "      <th>2</th>\n",
       "      <td>6.0</td>\n",
       "      <td>22.0</td>\n",
       "      <td>9.0</td>\n",
       "    </tr>\n",
       "    <tr>\n",
       "      <th>3</th>\n",
       "      <td>7.0</td>\n",
       "      <td>41.0</td>\n",
       "      <td>12.0</td>\n",
       "    </tr>\n",
       "    <tr>\n",
       "      <th>4</th>\n",
       "      <td>9.0</td>\n",
       "      <td>63.0</td>\n",
       "      <td>17.0</td>\n",
       "    </tr>\n",
       "    <tr>\n",
       "      <th>5</th>\n",
       "      <td>10.0</td>\n",
       "      <td>52.0</td>\n",
       "      <td>13.0</td>\n",
       "    </tr>\n",
       "    <tr>\n",
       "      <th>6</th>\n",
       "      <td>13.0</td>\n",
       "      <td>68.0</td>\n",
       "      <td>25.0</td>\n",
       "    </tr>\n",
       "    <tr>\n",
       "      <th>7</th>\n",
       "      <td>14.0</td>\n",
       "      <td>99.0</td>\n",
       "      <td>22.0</td>\n",
       "    </tr>\n",
       "    <tr>\n",
       "      <th>8</th>\n",
       "      <td>17.0</td>\n",
       "      <td>31.0</td>\n",
       "      <td>7.0</td>\n",
       "    </tr>\n",
       "    <tr>\n",
       "      <th>9</th>\n",
       "      <td>18.0</td>\n",
       "      <td>85.0</td>\n",
       "      <td>13.0</td>\n",
       "    </tr>\n",
       "    <tr>\n",
       "      <th>10</th>\n",
       "      <td>19.0</td>\n",
       "      <td>53.0</td>\n",
       "      <td>38.0</td>\n",
       "    </tr>\n",
       "    <tr>\n",
       "      <th>11</th>\n",
       "      <td>20.0</td>\n",
       "      <td>31.0</td>\n",
       "      <td>3.0</td>\n",
       "    </tr>\n",
       "    <tr>\n",
       "      <th>12</th>\n",
       "      <td>22.0</td>\n",
       "      <td>23.0</td>\n",
       "      <td>1.0</td>\n",
       "    </tr>\n",
       "    <tr>\n",
       "      <th>13</th>\n",
       "      <td>23.0</td>\n",
       "      <td>226.0</td>\n",
       "      <td>57.0</td>\n",
       "    </tr>\n",
       "    <tr>\n",
       "      <th>14</th>\n",
       "      <td>24.0</td>\n",
       "      <td>85.0</td>\n",
       "      <td>17.0</td>\n",
       "    </tr>\n",
       "    <tr>\n",
       "      <th>15</th>\n",
       "      <td>25.0</td>\n",
       "      <td>162.0</td>\n",
       "      <td>46.0</td>\n",
       "    </tr>\n",
       "    <tr>\n",
       "      <th>16</th>\n",
       "      <td>26.0</td>\n",
       "      <td>40.0</td>\n",
       "      <td>11.0</td>\n",
       "    </tr>\n",
       "    <tr>\n",
       "      <th>17</th>\n",
       "      <td>28.0</td>\n",
       "      <td>69.0</td>\n",
       "      <td>13.0</td>\n",
       "    </tr>\n",
       "    <tr>\n",
       "      <th>18</th>\n",
       "      <td>30.0</td>\n",
       "      <td>77.0</td>\n",
       "      <td>17.0</td>\n",
       "    </tr>\n",
       "    <tr>\n",
       "      <th>19</th>\n",
       "      <td>32.0</td>\n",
       "      <td>126.0</td>\n",
       "      <td>46.0</td>\n",
       "    </tr>\n",
       "    <tr>\n",
       "      <th>20</th>\n",
       "      <td>33.0</td>\n",
       "      <td>19.0</td>\n",
       "      <td>1.0</td>\n",
       "    </tr>\n",
       "    <tr>\n",
       "      <th>21</th>\n",
       "      <td>34.0</td>\n",
       "      <td>68.0</td>\n",
       "      <td>15.0</td>\n",
       "    </tr>\n",
       "    <tr>\n",
       "      <th>22</th>\n",
       "      <td>40.0</td>\n",
       "      <td>139.0</td>\n",
       "      <td>130.0</td>\n",
       "    </tr>\n",
       "    <tr>\n",
       "      <th>23</th>\n",
       "      <td>41.0</td>\n",
       "      <td>87.0</td>\n",
       "      <td>24.0</td>\n",
       "    </tr>\n",
       "    <tr>\n",
       "      <th>24</th>\n",
       "      <td>42.0</td>\n",
       "      <td>69.0</td>\n",
       "      <td>55.0</td>\n",
       "    </tr>\n",
       "    <tr>\n",
       "      <th>25</th>\n",
       "      <td>43.0</td>\n",
       "      <td>105.0</td>\n",
       "      <td>62.0</td>\n",
       "    </tr>\n",
       "    <tr>\n",
       "      <th>26</th>\n",
       "      <td>44.0</td>\n",
       "      <td>87.0</td>\n",
       "      <td>10.0</td>\n",
       "    </tr>\n",
       "    <tr>\n",
       "      <th>27</th>\n",
       "      <td>45.0</td>\n",
       "      <td>32.0</td>\n",
       "      <td>17.0</td>\n",
       "    </tr>\n",
       "    <tr>\n",
       "      <th>28</th>\n",
       "      <td>46.0</td>\n",
       "      <td>73.0</td>\n",
       "      <td>11.0</td>\n",
       "    </tr>\n",
       "    <tr>\n",
       "      <th>29</th>\n",
       "      <td>47.0</td>\n",
       "      <td>74.0</td>\n",
       "      <td>43.0</td>\n",
       "    </tr>\n",
       "    <tr>\n",
       "      <th>...</th>\n",
       "      <td>...</td>\n",
       "      <td>...</td>\n",
       "      <td>...</td>\n",
       "    </tr>\n",
       "    <tr>\n",
       "      <th>47</th>\n",
       "      <td>76.0</td>\n",
       "      <td>48.0</td>\n",
       "      <td>26.0</td>\n",
       "    </tr>\n",
       "    <tr>\n",
       "      <th>48</th>\n",
       "      <td>77.0</td>\n",
       "      <td>58.0</td>\n",
       "      <td>6.0</td>\n",
       "    </tr>\n",
       "    <tr>\n",
       "      <th>49</th>\n",
       "      <td>78.0</td>\n",
       "      <td>46.0</td>\n",
       "      <td>7.0</td>\n",
       "    </tr>\n",
       "    <tr>\n",
       "      <th>50</th>\n",
       "      <td>79.0</td>\n",
       "      <td>122.0</td>\n",
       "      <td>18.0</td>\n",
       "    </tr>\n",
       "    <tr>\n",
       "      <th>51</th>\n",
       "      <td>81.0</td>\n",
       "      <td>68.0</td>\n",
       "      <td>11.0</td>\n",
       "    </tr>\n",
       "    <tr>\n",
       "      <th>52</th>\n",
       "      <td>83.0</td>\n",
       "      <td>51.0</td>\n",
       "      <td>20.0</td>\n",
       "    </tr>\n",
       "    <tr>\n",
       "      <th>53</th>\n",
       "      <td>84.0</td>\n",
       "      <td>132.0</td>\n",
       "      <td>24.0</td>\n",
       "    </tr>\n",
       "    <tr>\n",
       "      <th>54</th>\n",
       "      <td>88.0</td>\n",
       "      <td>29.0</td>\n",
       "      <td>5.0</td>\n",
       "    </tr>\n",
       "    <tr>\n",
       "      <th>55</th>\n",
       "      <td>90.0</td>\n",
       "      <td>138.0</td>\n",
       "      <td>35.0</td>\n",
       "    </tr>\n",
       "    <tr>\n",
       "      <th>56</th>\n",
       "      <td>94.0</td>\n",
       "      <td>41.0</td>\n",
       "      <td>4.0</td>\n",
       "    </tr>\n",
       "    <tr>\n",
       "      <th>57</th>\n",
       "      <td>100.0</td>\n",
       "      <td>34.0</td>\n",
       "      <td>8.0</td>\n",
       "    </tr>\n",
       "    <tr>\n",
       "      <th>58</th>\n",
       "      <td>101.0</td>\n",
       "      <td>46.0</td>\n",
       "      <td>10.0</td>\n",
       "    </tr>\n",
       "    <tr>\n",
       "      <th>59</th>\n",
       "      <td>102.0</td>\n",
       "      <td>77.0</td>\n",
       "      <td>6.0</td>\n",
       "    </tr>\n",
       "    <tr>\n",
       "      <th>60</th>\n",
       "      <td>103.0</td>\n",
       "      <td>48.0</td>\n",
       "      <td>11.0</td>\n",
       "    </tr>\n",
       "    <tr>\n",
       "      <th>61</th>\n",
       "      <td>104.0</td>\n",
       "      <td>11.0</td>\n",
       "      <td>2.0</td>\n",
       "    </tr>\n",
       "    <tr>\n",
       "      <th>62</th>\n",
       "      <td>105.0</td>\n",
       "      <td>120.0</td>\n",
       "      <td>36.0</td>\n",
       "    </tr>\n",
       "    <tr>\n",
       "      <th>63</th>\n",
       "      <td>106.0</td>\n",
       "      <td>698.0</td>\n",
       "      <td>92.0</td>\n",
       "    </tr>\n",
       "    <tr>\n",
       "      <th>64</th>\n",
       "      <td>107.0</td>\n",
       "      <td>23.0</td>\n",
       "      <td>3.0</td>\n",
       "    </tr>\n",
       "    <tr>\n",
       "      <th>65</th>\n",
       "      <td>108.0</td>\n",
       "      <td>26.0</td>\n",
       "      <td>5.0</td>\n",
       "    </tr>\n",
       "    <tr>\n",
       "      <th>66</th>\n",
       "      <td>109.0</td>\n",
       "      <td>107.0</td>\n",
       "      <td>23.0</td>\n",
       "    </tr>\n",
       "    <tr>\n",
       "      <th>67</th>\n",
       "      <td>110.0</td>\n",
       "      <td>35.0</td>\n",
       "      <td>34.0</td>\n",
       "    </tr>\n",
       "    <tr>\n",
       "      <th>68</th>\n",
       "      <td>111.0</td>\n",
       "      <td>46.0</td>\n",
       "      <td>11.0</td>\n",
       "    </tr>\n",
       "    <tr>\n",
       "      <th>69</th>\n",
       "      <td>112.0</td>\n",
       "      <td>37.0</td>\n",
       "      <td>7.0</td>\n",
       "    </tr>\n",
       "    <tr>\n",
       "      <th>70</th>\n",
       "      <td>113.0</td>\n",
       "      <td>60.0</td>\n",
       "      <td>10.0</td>\n",
       "    </tr>\n",
       "    <tr>\n",
       "      <th>71</th>\n",
       "      <td>114.0</td>\n",
       "      <td>215.0</td>\n",
       "      <td>36.0</td>\n",
       "    </tr>\n",
       "    <tr>\n",
       "      <th>72</th>\n",
       "      <td>115.0</td>\n",
       "      <td>49.0</td>\n",
       "      <td>31.0</td>\n",
       "    </tr>\n",
       "    <tr>\n",
       "      <th>73</th>\n",
       "      <td>120.0</td>\n",
       "      <td>135.0</td>\n",
       "      <td>20.0</td>\n",
       "    </tr>\n",
       "    <tr>\n",
       "      <th>74</th>\n",
       "      <td>121.0</td>\n",
       "      <td>62.0</td>\n",
       "      <td>10.0</td>\n",
       "    </tr>\n",
       "    <tr>\n",
       "      <th>75</th>\n",
       "      <td>122.0</td>\n",
       "      <td>108.0</td>\n",
       "      <td>22.0</td>\n",
       "    </tr>\n",
       "    <tr>\n",
       "      <th>76</th>\n",
       "      <td>123.0</td>\n",
       "      <td>21.0</td>\n",
       "      <td>22.0</td>\n",
       "    </tr>\n",
       "  </tbody>\n",
       "</table>\n",
       "<p>77 rows × 3 columns</p>\n",
       "</div>"
      ],
      "text/plain": [
       "arstmade  precinct  no_arrest  yes_arrest\n",
       "0              1.0       46.0         7.0\n",
       "1              5.0       63.0        17.0\n",
       "2              6.0       22.0         9.0\n",
       "3              7.0       41.0        12.0\n",
       "4              9.0       63.0        17.0\n",
       "5             10.0       52.0        13.0\n",
       "6             13.0       68.0        25.0\n",
       "7             14.0       99.0        22.0\n",
       "8             17.0       31.0         7.0\n",
       "9             18.0       85.0        13.0\n",
       "10            19.0       53.0        38.0\n",
       "11            20.0       31.0         3.0\n",
       "12            22.0       23.0         1.0\n",
       "13            23.0      226.0        57.0\n",
       "14            24.0       85.0        17.0\n",
       "15            25.0      162.0        46.0\n",
       "16            26.0       40.0        11.0\n",
       "17            28.0       69.0        13.0\n",
       "18            30.0       77.0        17.0\n",
       "19            32.0      126.0        46.0\n",
       "20            33.0       19.0         1.0\n",
       "21            34.0       68.0        15.0\n",
       "22            40.0      139.0       130.0\n",
       "23            41.0       87.0        24.0\n",
       "24            42.0       69.0        55.0\n",
       "25            43.0      105.0        62.0\n",
       "26            44.0       87.0        10.0\n",
       "27            45.0       32.0        17.0\n",
       "28            46.0       73.0        11.0\n",
       "29            47.0       74.0        43.0\n",
       "..             ...        ...         ...\n",
       "47            76.0       48.0        26.0\n",
       "48            77.0       58.0         6.0\n",
       "49            78.0       46.0         7.0\n",
       "50            79.0      122.0        18.0\n",
       "51            81.0       68.0        11.0\n",
       "52            83.0       51.0        20.0\n",
       "53            84.0      132.0        24.0\n",
       "54            88.0       29.0         5.0\n",
       "55            90.0      138.0        35.0\n",
       "56            94.0       41.0         4.0\n",
       "57           100.0       34.0         8.0\n",
       "58           101.0       46.0        10.0\n",
       "59           102.0       77.0         6.0\n",
       "60           103.0       48.0        11.0\n",
       "61           104.0       11.0         2.0\n",
       "62           105.0      120.0        36.0\n",
       "63           106.0      698.0        92.0\n",
       "64           107.0       23.0         3.0\n",
       "65           108.0       26.0         5.0\n",
       "66           109.0      107.0        23.0\n",
       "67           110.0       35.0        34.0\n",
       "68           111.0       46.0        11.0\n",
       "69           112.0       37.0         7.0\n",
       "70           113.0       60.0        10.0\n",
       "71           114.0      215.0        36.0\n",
       "72           115.0       49.0        31.0\n",
       "73           120.0      135.0        20.0\n",
       "74           121.0       62.0        10.0\n",
       "75           122.0      108.0        22.0\n",
       "76           123.0       21.0        22.0\n",
       "\n",
       "[77 rows x 3 columns]"
      ]
     },
     "execution_count": 27,
     "metadata": {},
     "output_type": "execute_result"
    }
   ],
   "source": [
    "sf16Final['precinct'].replace(' ', np.nan, inplace=True)\n",
    "sf16Final.dropna(axis=0, how='any')"
   ]
  },
  {
   "cell_type": "code",
   "execution_count": 28,
   "metadata": {
    "scrolled": true
   },
   "outputs": [
    {
     "data": {
      "text/plain": [
       "0       1.0\n",
       "1       5.0\n",
       "2       6.0\n",
       "3       7.0\n",
       "4       9.0\n",
       "5      10.0\n",
       "6      13.0\n",
       "7      14.0\n",
       "8      17.0\n",
       "9      18.0\n",
       "10     19.0\n",
       "11     20.0\n",
       "12     22.0\n",
       "13     23.0\n",
       "14     24.0\n",
       "15     25.0\n",
       "16     26.0\n",
       "17     28.0\n",
       "18     30.0\n",
       "19     32.0\n",
       "20     33.0\n",
       "21     34.0\n",
       "22     40.0\n",
       "23     41.0\n",
       "24     42.0\n",
       "25     43.0\n",
       "26     44.0\n",
       "27     45.0\n",
       "28     46.0\n",
       "29     47.0\n",
       "      ...  \n",
       "48     77.0\n",
       "49     78.0\n",
       "50     79.0\n",
       "51     81.0\n",
       "52     83.0\n",
       "53     84.0\n",
       "54     88.0\n",
       "55     90.0\n",
       "56     94.0\n",
       "57    100.0\n",
       "58    101.0\n",
       "59    102.0\n",
       "60    103.0\n",
       "61    104.0\n",
       "62    105.0\n",
       "63    106.0\n",
       "64    107.0\n",
       "65    108.0\n",
       "66    109.0\n",
       "67    110.0\n",
       "68    111.0\n",
       "69    112.0\n",
       "70    113.0\n",
       "71    114.0\n",
       "72    115.0\n",
       "73    120.0\n",
       "74    121.0\n",
       "75    122.0\n",
       "76    123.0\n",
       "77      NaN\n",
       "Name: precinct, Length: 78, dtype: float64"
      ]
     },
     "execution_count": 28,
     "metadata": {},
     "output_type": "execute_result"
    }
   ],
   "source": [
    "pd.to_numeric(sf16Final.precinct)"
   ]
  },
  {
   "cell_type": "code",
   "execution_count": 29,
   "metadata": {},
   "outputs": [
    {
     "data": {
      "text/plain": [
       "dtype('float64')"
      ]
     },
     "execution_count": 29,
     "metadata": {},
     "output_type": "execute_result"
    }
   ],
   "source": [
    "sf16Final.precinct.dtype"
   ]
  },
  {
   "cell_type": "code",
   "execution_count": 30,
   "metadata": {},
   "outputs": [
    {
     "name": "stderr",
     "output_type": "stream",
     "text": [
      "/anaconda3/lib/python3.6/site-packages/ipykernel_launcher.py:1: SettingWithCopyWarning: \n",
      "A value is trying to be set on a copy of a slice from a DataFrame.\n",
      "Try using .loc[row_indexer,col_indexer] = value instead\n",
      "\n",
      "See the caveats in the documentation: http://pandas.pydata.org/pandas-docs/stable/indexing.html#indexing-view-versus-copy\n",
      "  \"\"\"Entry point for launching an IPython kernel.\n"
     ]
    }
   ],
   "source": [
    "sf16Final['year'] = 2016"
   ]
  },
  {
   "cell_type": "markdown",
   "metadata": {},
   "source": [
    "## 2015"
   ]
  },
  {
   "cell_type": "code",
   "execution_count": 31,
   "metadata": {},
   "outputs": [],
   "source": [
    "sf15_a = sf15[['pct', 'arstmade', 'recstat']]"
   ]
  },
  {
   "cell_type": "code",
   "execution_count": 32,
   "metadata": {},
   "outputs": [],
   "source": [
    "sf15_b = pd.pivot_table(sf15_a, columns='arstmade', index='pct', values='recstat',\n",
    "                        aggfunc='count').reset_index()"
   ]
  },
  {
   "cell_type": "code",
   "execution_count": 33,
   "metadata": {},
   "outputs": [],
   "source": [
    "sf15F = sf15_b.rename(index=str, columns={\"pct\": \"precinct\",\n",
    "                                         \"N\":\"no_arrest\", \"Y\":\"yes_arrest\"})"
   ]
  },
  {
   "cell_type": "code",
   "execution_count": 34,
   "metadata": {},
   "outputs": [
    {
     "data": {
      "text/plain": [
       "False"
      ]
     },
     "execution_count": 34,
     "metadata": {},
     "output_type": "execute_result"
    }
   ],
   "source": [
    "sf15F.isnull().values.any()"
   ]
  },
  {
   "cell_type": "code",
   "execution_count": 35,
   "metadata": {},
   "outputs": [],
   "source": [
    "sf15F['year'] = 2015"
   ]
  },
  {
   "cell_type": "markdown",
   "metadata": {},
   "source": [
    "## 2014"
   ]
  },
  {
   "cell_type": "code",
   "execution_count": 42,
   "metadata": {},
   "outputs": [
    {
     "name": "stdout",
     "output_type": "stream",
     "text": [
      "  % Total    % Received % Xferd  Average Speed   Time    Time     Time  Current\n",
      "                                 Dload  Upload   Total   Spent    Left  Speed\n",
      "100 2337k  100 2337k    0     0  6621k      0 --:--:-- --:--:-- --:--:-- 6603k\n"
     ]
    }
   ],
   "source": [
    "!curl -O https://www1.nyc.gov/assets/nypd/downloads/zip/analysis_and_planning/stop-question-frisk/sqf-2014-csv.zip"
   ]
  },
  {
   "cell_type": "code",
   "execution_count": 43,
   "metadata": {},
   "outputs": [
    {
     "name": "stdout",
     "output_type": "stream",
     "text": [
      "Archive:  sqf-2014-csv.zip\n",
      "  inflating: 2014.csv                \n"
     ]
    }
   ],
   "source": [
    "!unzip sqf-2014-csv.zip"
   ]
  },
  {
   "cell_type": "code",
   "execution_count": 54,
   "metadata": {},
   "outputs": [
    {
     "name": "stderr",
     "output_type": "stream",
     "text": [
      "/anaconda3/lib/python3.6/site-packages/IPython/core/interactiveshell.py:2785: DtypeWarning: Columns (10,83) have mixed types. Specify dtype option on import or set low_memory=False.\n",
      "  interactivity=interactivity, compiler=compiler, result=result)\n"
     ]
    }
   ],
   "source": [
    "sf14 = pd.read_csv('2014.csv')"
   ]
  },
  {
   "cell_type": "code",
   "execution_count": 45,
   "metadata": {},
   "outputs": [],
   "source": [
    "sf14_a = sf14[['pct', 'arstmade', 'recstat']]"
   ]
  },
  {
   "cell_type": "code",
   "execution_count": 46,
   "metadata": {},
   "outputs": [],
   "source": [
    "sf14_b = pd.pivot_table(sf14_a, columns='arstmade', index='pct', values='recstat',\n",
    "                        aggfunc='count').reset_index()"
   ]
  },
  {
   "cell_type": "code",
   "execution_count": 47,
   "metadata": {},
   "outputs": [
    {
     "data": {
      "text/plain": [
       "False"
      ]
     },
     "execution_count": 47,
     "metadata": {},
     "output_type": "execute_result"
    }
   ],
   "source": [
    "sf14_b.isnull().values.any()"
   ]
  },
  {
   "cell_type": "code",
   "execution_count": 48,
   "metadata": {},
   "outputs": [],
   "source": [
    "sf14_b['year'] = 2014"
   ]
  },
  {
   "cell_type": "code",
   "execution_count": 49,
   "metadata": {},
   "outputs": [],
   "source": [
    "sf14F = sf14_b.rename(index=str, columns={\"pct\": \"precinct\",\n",
    "                                         \"N\":\"no_arrest\", \"Y\":\"yes_arrest\"})"
   ]
  },
  {
   "cell_type": "markdown",
   "metadata": {},
   "source": [
    "## 2013"
   ]
  },
  {
   "cell_type": "code",
   "execution_count": 55,
   "metadata": {},
   "outputs": [
    {
     "name": "stdout",
     "output_type": "stream",
     "text": [
      "  % Total    % Received % Xferd  Average Speed   Time    Time     Time  Current\n",
      "                                 Dload  Upload   Total   Spent    Left  Speed\n",
      "100 8624k  100 8624k    0     0  3104k      0  0:00:02  0:00:02 --:--:-- 3103k\n"
     ]
    }
   ],
   "source": [
    "!curl -O https://www1.nyc.gov/assets/nypd/downloads/zip/analysis_and_planning/stop-question-frisk/sqf-2013-csv.zip"
   ]
  },
  {
   "cell_type": "code",
   "execution_count": 56,
   "metadata": {},
   "outputs": [
    {
     "name": "stdout",
     "output_type": "stream",
     "text": [
      "Archive:  sqf-2013-csv.zip\n",
      "  inflating: 2013.csv                \n"
     ]
    }
   ],
   "source": [
    "!unzip sqf-2013-csv.zip"
   ]
  },
  {
   "cell_type": "code",
   "execution_count": 57,
   "metadata": {},
   "outputs": [
    {
     "name": "stderr",
     "output_type": "stream",
     "text": [
      "/anaconda3/lib/python3.6/site-packages/IPython/core/interactiveshell.py:2785: DtypeWarning: Columns (10,73,83) have mixed types. Specify dtype option on import or set low_memory=False.\n",
      "  interactivity=interactivity, compiler=compiler, result=result)\n"
     ]
    }
   ],
   "source": [
    "sf13 = pd.read_csv('2013.csv')"
   ]
  },
  {
   "cell_type": "code",
   "execution_count": 58,
   "metadata": {},
   "outputs": [],
   "source": [
    "sf13_a = sf13[['pct', 'arstmade', 'recstat']]"
   ]
  },
  {
   "cell_type": "code",
   "execution_count": 59,
   "metadata": {},
   "outputs": [],
   "source": [
    "sf13_b = pd.pivot_table(sf13_a, columns='arstmade', index='pct', values='recstat',\n",
    "                        aggfunc='count').reset_index()"
   ]
  },
  {
   "cell_type": "code",
   "execution_count": 60,
   "metadata": {},
   "outputs": [
    {
     "data": {
      "text/plain": [
       "False"
      ]
     },
     "execution_count": 60,
     "metadata": {},
     "output_type": "execute_result"
    }
   ],
   "source": [
    "sf13_b.isnull().values.any()"
   ]
  },
  {
   "cell_type": "code",
   "execution_count": 62,
   "metadata": {},
   "outputs": [],
   "source": [
    "sf13_b['year'] = 2013"
   ]
  },
  {
   "cell_type": "code",
   "execution_count": 63,
   "metadata": {},
   "outputs": [],
   "source": [
    "sf13F = sf13_b.rename(index=str, columns={\"pct\": \"precinct\",\n",
    "                                         \"N\":\"no_arrest\", \"Y\":\"yes_arrest\"})"
   ]
  },
  {
   "cell_type": "markdown",
   "metadata": {},
   "source": [
    "## 2012 "
   ]
  },
  {
   "cell_type": "code",
   "execution_count": 66,
   "metadata": {},
   "outputs": [
    {
     "name": "stdout",
     "output_type": "stream",
     "text": [
      "  % Total    % Received % Xferd  Average Speed   Time    Time     Time  Current\n",
      "                                 Dload  Upload   Total   Spent    Left  Speed\n",
      "100 23.6M  100 23.6M    0     0  9226k      0  0:00:02  0:00:02 --:--:-- 9226k\n"
     ]
    }
   ],
   "source": [
    "!curl -O https://www1.nyc.gov/assets/nypd/downloads/zip/analysis_and_planning/stop-question-frisk/sqf-2012-csv.zip"
   ]
  },
  {
   "cell_type": "code",
   "execution_count": 67,
   "metadata": {},
   "outputs": [
    {
     "name": "stdout",
     "output_type": "stream",
     "text": [
      "Archive:  sqf-2012-csv.zip\n",
      "  inflating: 2012.csv                \n"
     ]
    }
   ],
   "source": [
    "!unzip sqf-2012-csv.zip"
   ]
  },
  {
   "cell_type": "code",
   "execution_count": 68,
   "metadata": {},
   "outputs": [
    {
     "name": "stderr",
     "output_type": "stream",
     "text": [
      "/anaconda3/lib/python3.6/site-packages/IPython/core/interactiveshell.py:2785: DtypeWarning: Columns (10,73,103,110,111) have mixed types. Specify dtype option on import or set low_memory=False.\n",
      "  interactivity=interactivity, compiler=compiler, result=result)\n"
     ]
    }
   ],
   "source": [
    "sf12 = pd.read_csv('2012.csv')"
   ]
  },
  {
   "cell_type": "code",
   "execution_count": 69,
   "metadata": {},
   "outputs": [],
   "source": [
    "sf12_a = sf12[['pct', 'arstmade', 'recstat']]"
   ]
  },
  {
   "cell_type": "code",
   "execution_count": 70,
   "metadata": {},
   "outputs": [],
   "source": [
    "sf12_b = pd.pivot_table(sf12_a, columns='arstmade', index='pct', values='recstat',\n",
    "                        aggfunc='count').reset_index()"
   ]
  },
  {
   "cell_type": "code",
   "execution_count": 71,
   "metadata": {},
   "outputs": [
    {
     "data": {
      "text/plain": [
       "False"
      ]
     },
     "execution_count": 71,
     "metadata": {},
     "output_type": "execute_result"
    }
   ],
   "source": [
    "sf12_b.isnull().values.any()"
   ]
  },
  {
   "cell_type": "code",
   "execution_count": 72,
   "metadata": {},
   "outputs": [],
   "source": [
    "sf12_b['year'] = 2012"
   ]
  },
  {
   "cell_type": "code",
   "execution_count": 73,
   "metadata": {},
   "outputs": [],
   "source": [
    "sf12F = sf12_b.rename(index=str, columns={\"pct\": \"precinct\",\n",
    "                                         \"N\":\"no_arrest\", \"Y\":\"yes_arrest\"})"
   ]
  },
  {
   "cell_type": "markdown",
   "metadata": {},
   "source": [
    "## 2011 "
   ]
  },
  {
   "cell_type": "code",
   "execution_count": 76,
   "metadata": {},
   "outputs": [
    {
     "name": "stdout",
     "output_type": "stream",
     "text": [
      "  % Total    % Received % Xferd  Average Speed   Time    Time     Time  Current\n",
      "                                 Dload  Upload   Total   Spent    Left  Speed\n",
      "100 32.4M  100 32.4M    0     0  13.3M      0  0:00:02  0:00:02 --:--:-- 13.3M\n"
     ]
    }
   ],
   "source": [
    "!curl -O https://www1.nyc.gov/assets/nypd/downloads/zip/analysis_and_planning/stop-question-frisk/sqf-2011-csv.zip"
   ]
  },
  {
   "cell_type": "code",
   "execution_count": 77,
   "metadata": {},
   "outputs": [
    {
     "name": "stdout",
     "output_type": "stream",
     "text": [
      "Archive:  sqf-2011-csv.zip\n",
      "  inflating: 2011.csv                \n"
     ]
    }
   ],
   "source": [
    "!unzip sqf-2011-csv.zip"
   ]
  },
  {
   "cell_type": "code",
   "execution_count": 80,
   "metadata": {},
   "outputs": [],
   "source": [
    "sf11 = pd.read_csv('2011.csv', usecols=['pct', 'arstmade', 'recstat'])"
   ]
  },
  {
   "cell_type": "code",
   "execution_count": 82,
   "metadata": {},
   "outputs": [],
   "source": [
    "sf11_a = pd.pivot_table(sf11, columns='arstmade', index='pct', values='recstat',\n",
    "                        aggfunc='count').reset_index()"
   ]
  },
  {
   "cell_type": "code",
   "execution_count": 83,
   "metadata": {},
   "outputs": [
    {
     "data": {
      "text/plain": [
       "False"
      ]
     },
     "execution_count": 83,
     "metadata": {},
     "output_type": "execute_result"
    }
   ],
   "source": [
    "sf11_a.isnull().values.any()"
   ]
  },
  {
   "cell_type": "code",
   "execution_count": 84,
   "metadata": {},
   "outputs": [],
   "source": [
    "sf11_a['year'] = 2011"
   ]
  },
  {
   "cell_type": "code",
   "execution_count": 85,
   "metadata": {},
   "outputs": [],
   "source": [
    "sf11F = sf11_a.rename(index=str, columns={\"pct\": \"precinct\",\n",
    "                                         \"N\":\"no_arrest\", \"Y\":\"yes_arrest\"})"
   ]
  },
  {
   "cell_type": "markdown",
   "metadata": {},
   "source": [
    "## 2010"
   ]
  },
  {
   "cell_type": "code",
   "execution_count": 87,
   "metadata": {},
   "outputs": [
    {
     "name": "stdout",
     "output_type": "stream",
     "text": [
      "  % Total    % Received % Xferd  Average Speed   Time    Time     Time  Current\n",
      "                                 Dload  Upload   Total   Spent    Left  Speed\n",
      "100 30.2M  100 30.2M    0     0  2756k      0  0:00:11  0:00:11 --:--:-- 2196k\n"
     ]
    }
   ],
   "source": [
    "!curl -O https://www1.nyc.gov/assets/nypd/downloads/zip/analysis_and_planning/stop-question-frisk/sqf-2010-csv.zip"
   ]
  },
  {
   "cell_type": "code",
   "execution_count": 88,
   "metadata": {},
   "outputs": [
    {
     "name": "stdout",
     "output_type": "stream",
     "text": [
      "Archive:  sqf-2010-csv.zip\n",
      "  inflating: 2010.csv                \n"
     ]
    }
   ],
   "source": [
    "!unzip sqf-2010-csv.zip"
   ]
  },
  {
   "cell_type": "code",
   "execution_count": 89,
   "metadata": {},
   "outputs": [],
   "source": [
    "sf10 = pd.read_csv('2010.csv', usecols=['pct', 'arstmade', 'recstat'])"
   ]
  },
  {
   "cell_type": "code",
   "execution_count": 91,
   "metadata": {},
   "outputs": [],
   "source": [
    "sf10_a = pd.pivot_table(sf10, columns='arstmade', index='pct', values='recstat',\n",
    "                        aggfunc='count').reset_index()"
   ]
  },
  {
   "cell_type": "code",
   "execution_count": 92,
   "metadata": {},
   "outputs": [
    {
     "data": {
      "text/plain": [
       "False"
      ]
     },
     "execution_count": 92,
     "metadata": {},
     "output_type": "execute_result"
    }
   ],
   "source": [
    "sf10_a.isnull().values.any()"
   ]
  },
  {
   "cell_type": "code",
   "execution_count": 93,
   "metadata": {},
   "outputs": [],
   "source": [
    "sf10_a['year'] = 2010"
   ]
  },
  {
   "cell_type": "code",
   "execution_count": 94,
   "metadata": {},
   "outputs": [],
   "source": [
    "sf10F = sf10_a.rename(index=str, columns={\"pct\": \"precinct\",\n",
    "                                         \"N\":\"no_arrest\", \"Y\":\"yes_arrest\"})"
   ]
  },
  {
   "cell_type": "markdown",
   "metadata": {},
   "source": [
    "## Merging Dataframes "
   ]
  },
  {
   "cell_type": "code",
   "execution_count": 96,
   "metadata": {},
   "outputs": [],
   "source": [
    "frames = [sf10F, sf11F, sf12F, sf13F, sf14F, sf15F, sf16Final, sf17Final, sf18F]\n",
    "frisks = pd.concat(frames)"
   ]
  },
  {
   "cell_type": "code",
   "execution_count": 97,
   "metadata": {},
   "outputs": [
    {
     "data": {
      "text/html": [
       "<div>\n",
       "<style scoped>\n",
       "    .dataframe tbody tr th:only-of-type {\n",
       "        vertical-align: middle;\n",
       "    }\n",
       "\n",
       "    .dataframe tbody tr th {\n",
       "        vertical-align: top;\n",
       "    }\n",
       "\n",
       "    .dataframe thead th {\n",
       "        text-align: right;\n",
       "    }\n",
       "</style>\n",
       "<table border=\"1\" class=\"dataframe\">\n",
       "  <thead>\n",
       "    <tr style=\"text-align: right;\">\n",
       "      <th></th>\n",
       "      <th>precinct</th>\n",
       "      <th>no_arrest</th>\n",
       "      <th>yes_arrest</th>\n",
       "      <th>year</th>\n",
       "    </tr>\n",
       "  </thead>\n",
       "  <tbody>\n",
       "    <tr>\n",
       "      <th>0</th>\n",
       "      <td>1.0</td>\n",
       "      <td>2186.0</td>\n",
       "      <td>260.0</td>\n",
       "      <td>2010</td>\n",
       "    </tr>\n",
       "    <tr>\n",
       "      <th>1</th>\n",
       "      <td>5.0</td>\n",
       "      <td>2531.0</td>\n",
       "      <td>340.0</td>\n",
       "      <td>2010</td>\n",
       "    </tr>\n",
       "    <tr>\n",
       "      <th>2</th>\n",
       "      <td>6.0</td>\n",
       "      <td>3268.0</td>\n",
       "      <td>265.0</td>\n",
       "      <td>2010</td>\n",
       "    </tr>\n",
       "    <tr>\n",
       "      <th>3</th>\n",
       "      <td>7.0</td>\n",
       "      <td>2806.0</td>\n",
       "      <td>418.0</td>\n",
       "      <td>2010</td>\n",
       "    </tr>\n",
       "    <tr>\n",
       "      <th>4</th>\n",
       "      <td>9.0</td>\n",
       "      <td>4429.0</td>\n",
       "      <td>748.0</td>\n",
       "      <td>2010</td>\n",
       "    </tr>\n",
       "  </tbody>\n",
       "</table>\n",
       "</div>"
      ],
      "text/plain": [
       "   precinct  no_arrest  yes_arrest  year\n",
       "0       1.0     2186.0       260.0  2010\n",
       "1       5.0     2531.0       340.0  2010\n",
       "2       6.0     3268.0       265.0  2010\n",
       "3       7.0     2806.0       418.0  2010\n",
       "4       9.0     4429.0       748.0  2010"
      ]
     },
     "execution_count": 97,
     "metadata": {},
     "output_type": "execute_result"
    }
   ],
   "source": [
    "frisks.head()"
   ]
  },
  {
   "cell_type": "code",
   "execution_count": 98,
   "metadata": {},
   "outputs": [],
   "source": [
    "frisks3 = frisks.dropna(axis=0, how='any')"
   ]
  },
  {
   "cell_type": "code",
   "execution_count": 99,
   "metadata": {},
   "outputs": [
    {
     "data": {
      "text/plain": [
       "False"
      ]
     },
     "execution_count": 99,
     "metadata": {},
     "output_type": "execute_result"
    }
   ],
   "source": [
    "frisks3.isnull().values.any()"
   ]
  },
  {
   "cell_type": "code",
   "execution_count": 100,
   "metadata": {},
   "outputs": [
    {
     "data": {
      "text/plain": [
       "77"
      ]
     },
     "execution_count": 100,
     "metadata": {},
     "output_type": "execute_result"
    }
   ],
   "source": [
    "len(frisks3.precinct.unique())"
   ]
  },
  {
   "cell_type": "code",
   "execution_count": 101,
   "metadata": {},
   "outputs": [],
   "source": [
    "frisks3.to_csv('StopFrisk_10thru18.csv')"
   ]
  },
  {
   "cell_type": "code",
   "execution_count": null,
   "metadata": {},
   "outputs": [],
   "source": []
  }
 ],
 "metadata": {
  "kernelspec": {
   "display_name": "Python 3",
   "language": "python",
   "name": "python3"
  },
  "language_info": {
   "codemirror_mode": {
    "name": "ipython",
    "version": 3
   },
   "file_extension": ".py",
   "mimetype": "text/x-python",
   "name": "python",
   "nbconvert_exporter": "python",
   "pygments_lexer": "ipython3",
   "version": "3.6.8"
  }
 },
 "nbformat": 4,
 "nbformat_minor": 2
}
