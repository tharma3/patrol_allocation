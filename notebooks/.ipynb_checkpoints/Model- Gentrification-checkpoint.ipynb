{
 "cells": [
  {
   "cell_type": "code",
   "execution_count": 2,
   "metadata": {},
   "outputs": [
    {
     "name": "stdout",
     "output_type": "stream",
     "text": [
      "Populating the interactive namespace from numpy and matplotlib\n"
     ]
    }
   ],
   "source": [
    "import pandas as pd\n",
    "import numpy as numpy\n",
    "import json \n",
    "import os \n",
    "import pylab as pl\n",
    "import urllib\n",
    "import requests\n",
    "import geopandas as gp\n",
    "import fiona\n",
    "import shapely\n",
    "from fiona.crs import from_epsg\n",
    "import os\n",
    "import pandas as pd\n",
    "import urllib\n",
    "import requests\n",
    "import json\n",
    "import sys\n",
    "import io\n",
    "import shapely\n",
    "import base64\n",
    "import urllib.request\n",
    "import functools\n",
    "import geopandas as gp\n",
    "import fiona\n",
    "import numpy as np\n",
    "import datetime\n",
    "\n",
    "\n",
    "pd.set_option('display.max_rows', 500)\n",
    "pd.set_option('display.max_columns', 500)\n",
    "%matplotlib inline\n",
    "\n",
    "%pylab inline"
   ]
  },
  {
   "cell_type": "markdown",
   "metadata": {},
   "source": [
    "## get gentrification indication data"
   ]
  },
  {
   "cell_type": "code",
   "execution_count": 3,
   "metadata": {},
   "outputs": [
    {
     "data": {
      "text/html": [
       "<div>\n",
       "<style scoped>\n",
       "    .dataframe tbody tr th:only-of-type {\n",
       "        vertical-align: middle;\n",
       "    }\n",
       "\n",
       "    .dataframe tbody tr th {\n",
       "        vertical-align: top;\n",
       "    }\n",
       "\n",
       "    .dataframe thead th {\n",
       "        text-align: right;\n",
       "    }\n",
       "</style>\n",
       "<table border=\"1\" class=\"dataframe\">\n",
       "  <thead>\n",
       "    <tr style=\"text-align: right;\">\n",
       "      <th></th>\n",
       "      <th>Id2</th>\n",
       "      <th>Geography</th>\n",
       "      <th>%higher_ed_14</th>\n",
       "      <th>median_earnings_14</th>\n",
       "    </tr>\n",
       "  </thead>\n",
       "  <tbody>\n",
       "    <tr>\n",
       "      <th>0</th>\n",
       "      <td>36001000100</td>\n",
       "      <td>Census Tract 1, Albany County, New York</td>\n",
       "      <td>14.9</td>\n",
       "      <td>23974</td>\n",
       "    </tr>\n",
       "    <tr>\n",
       "      <th>1</th>\n",
       "      <td>36001000200</td>\n",
       "      <td>Census Tract 2, Albany County, New York</td>\n",
       "      <td>10.2</td>\n",
       "      <td>31368</td>\n",
       "    </tr>\n",
       "    <tr>\n",
       "      <th>2</th>\n",
       "      <td>36001000300</td>\n",
       "      <td>Census Tract 3, Albany County, New York</td>\n",
       "      <td>26.8</td>\n",
       "      <td>36024</td>\n",
       "    </tr>\n",
       "    <tr>\n",
       "      <th>3</th>\n",
       "      <td>36001000401</td>\n",
       "      <td>Census Tract 4.01, Albany County, New York</td>\n",
       "      <td>43.9</td>\n",
       "      <td>49909</td>\n",
       "    </tr>\n",
       "    <tr>\n",
       "      <th>4</th>\n",
       "      <td>36001000403</td>\n",
       "      <td>Census Tract 4.03, Albany County, New York</td>\n",
       "      <td>58.4</td>\n",
       "      <td>49840</td>\n",
       "    </tr>\n",
       "  </tbody>\n",
       "</table>\n",
       "</div>"
      ],
      "text/plain": [
       "           Id2                                   Geography %higher_ed_14  \\\n",
       "0  36001000100     Census Tract 1, Albany County, New York          14.9   \n",
       "1  36001000200     Census Tract 2, Albany County, New York          10.2   \n",
       "2  36001000300     Census Tract 3, Albany County, New York          26.8   \n",
       "3  36001000401  Census Tract 4.01, Albany County, New York          43.9   \n",
       "4  36001000403  Census Tract 4.03, Albany County, New York          58.4   \n",
       "\n",
       "  median_earnings_14  \n",
       "0              23974  \n",
       "1              31368  \n",
       "2              36024  \n",
       "3              49909  \n",
       "4              49840  "
      ]
     },
     "execution_count": 3,
     "metadata": {},
     "output_type": "execute_result"
    }
   ],
   "source": [
    "path = '/Users/katharinevoorhees/Downloads/ACS_14_5YR_S1501/ACS_14_5YR_S1501_with_ann.csv'\n",
    "\n",
    "fourteen = pd.read_csv(path, skiprows=1)\n",
    "\n",
    "fourteen.rename(columns={\"Total; Estimate; Percent bachelor's degree or higher\":'%higher_ed_14',\n",
    "                \"Total; Estimate; MEDIAN EARNINGS IN THE PAST 12 MONTHS (IN 2014 INFLATION-ADJUSTED DOLLARS) - Population 25 years and over with earnings\":\n",
    "                          'median_earnings_14'}, inplace=True)\n",
    "fourteen = fourteen[['Id2', 'Geography', '%higher_ed_14','median_earnings_14']]\n",
    "fourteen.head()"
   ]
  },
  {
   "cell_type": "code",
   "execution_count": 4,
   "metadata": {},
   "outputs": [
    {
     "data": {
      "text/html": [
       "<div>\n",
       "<style scoped>\n",
       "    .dataframe tbody tr th:only-of-type {\n",
       "        vertical-align: middle;\n",
       "    }\n",
       "\n",
       "    .dataframe tbody tr th {\n",
       "        vertical-align: top;\n",
       "    }\n",
       "\n",
       "    .dataframe thead th {\n",
       "        text-align: right;\n",
       "    }\n",
       "</style>\n",
       "<table border=\"1\" class=\"dataframe\">\n",
       "  <thead>\n",
       "    <tr style=\"text-align: right;\">\n",
       "      <th></th>\n",
       "      <th>Id2</th>\n",
       "      <th>Geography</th>\n",
       "      <th>%higher_ed_09</th>\n",
       "      <th>median_earnings_09</th>\n",
       "    </tr>\n",
       "  </thead>\n",
       "  <tbody>\n",
       "    <tr>\n",
       "      <th>0</th>\n",
       "      <td>36001000100</td>\n",
       "      <td>Census Tract 1, Albany County, New York</td>\n",
       "      <td>11.0</td>\n",
       "      <td>35552</td>\n",
       "    </tr>\n",
       "    <tr>\n",
       "      <th>1</th>\n",
       "      <td>36001000200</td>\n",
       "      <td>Census Tract 2, Albany County, New York</td>\n",
       "      <td>17.0</td>\n",
       "      <td>26051</td>\n",
       "    </tr>\n",
       "    <tr>\n",
       "      <th>2</th>\n",
       "      <td>36001000300</td>\n",
       "      <td>Census Tract 3, Albany County, New York</td>\n",
       "      <td>22.7</td>\n",
       "      <td>33833</td>\n",
       "    </tr>\n",
       "    <tr>\n",
       "      <th>3</th>\n",
       "      <td>36001000401</td>\n",
       "      <td>Census Tract 4.01, Albany County, New York</td>\n",
       "      <td>39.3</td>\n",
       "      <td>58869</td>\n",
       "    </tr>\n",
       "    <tr>\n",
       "      <th>4</th>\n",
       "      <td>36001000403</td>\n",
       "      <td>Census Tract 4.03, Albany County, New York</td>\n",
       "      <td>51.5</td>\n",
       "      <td>45000</td>\n",
       "    </tr>\n",
       "  </tbody>\n",
       "</table>\n",
       "</div>"
      ],
      "text/plain": [
       "           Id2                                   Geography %higher_ed_09  \\\n",
       "0  36001000100     Census Tract 1, Albany County, New York          11.0   \n",
       "1  36001000200     Census Tract 2, Albany County, New York          17.0   \n",
       "2  36001000300     Census Tract 3, Albany County, New York          22.7   \n",
       "3  36001000401  Census Tract 4.01, Albany County, New York          39.3   \n",
       "4  36001000403  Census Tract 4.03, Albany County, New York          51.5   \n",
       "\n",
       "  median_earnings_09  \n",
       "0              35552  \n",
       "1              26051  \n",
       "2              33833  \n",
       "3              58869  \n",
       "4              45000  "
      ]
     },
     "execution_count": 4,
     "metadata": {},
     "output_type": "execute_result"
    }
   ],
   "source": [
    "path = '/Users/katharinevoorhees/Downloads/ACS_09_5YR_S1501/ACS_09_5YR_S1501_with_ann.csv'\n",
    "\n",
    "ohnine = pd.read_csv(path, skiprows=1)\n",
    "\n",
    "ohnine.rename(columns={\"Total; Estimate; Population 25 years and over - Percent bachelor's degree or higher\":'%higher_ed_09',\n",
    "                \"Total; Estimate; MEDIAN EARNINGS IN THE PAST 12 MONTHS (IN 2009 INFLATION-ADJUSTED DOLLARS) - Population 25 years and over with earnings\":\n",
    "                          'median_earnings_09'}, inplace=True)\n",
    "ohnine = ohnine[['Id2', 'Geography', '%higher_ed_09','median_earnings_09']]\n",
    "ohnine.head()"
   ]
  },
  {
   "cell_type": "code",
   "execution_count": 5,
   "metadata": {},
   "outputs": [],
   "source": [
    "data = fourteen.merge(ohnine, on='Id2')\n",
    "data.drop(columns=['Geography_y'], inplace=True)\n"
   ]
  },
  {
   "cell_type": "code",
   "execution_count": 6,
   "metadata": {},
   "outputs": [
    {
     "data": {
      "text/html": [
       "<div>\n",
       "<style scoped>\n",
       "    .dataframe tbody tr th:only-of-type {\n",
       "        vertical-align: middle;\n",
       "    }\n",
       "\n",
       "    .dataframe tbody tr th {\n",
       "        vertical-align: top;\n",
       "    }\n",
       "\n",
       "    .dataframe thead th {\n",
       "        text-align: right;\n",
       "    }\n",
       "</style>\n",
       "<table border=\"1\" class=\"dataframe\">\n",
       "  <thead>\n",
       "    <tr style=\"text-align: right;\">\n",
       "      <th></th>\n",
       "      <th>Id2</th>\n",
       "      <th>Geography_x</th>\n",
       "      <th>%higher_ed_14</th>\n",
       "      <th>median_earnings_14</th>\n",
       "      <th>%higher_ed_09</th>\n",
       "      <th>median_earnings_09</th>\n",
       "    </tr>\n",
       "  </thead>\n",
       "  <tbody>\n",
       "    <tr>\n",
       "      <th>3883</th>\n",
       "      <td>36109000400</td>\n",
       "      <td>Census Tract 4, Tompkins County, New York</td>\n",
       "      <td>93.1</td>\n",
       "      <td>30737.0</td>\n",
       "      <td>63.5</td>\n",
       "      <td>22083.0</td>\n",
       "    </tr>\n",
       "    <tr>\n",
       "      <th>2226</th>\n",
       "      <td>36061020701</td>\n",
       "      <td>Census Tract 207.01, New York County, New York</td>\n",
       "      <td>91.4</td>\n",
       "      <td>38902.0</td>\n",
       "      <td>87.0</td>\n",
       "      <td>34298.0</td>\n",
       "    </tr>\n",
       "    <tr>\n",
       "      <th>2038</th>\n",
       "      <td>36061002100</td>\n",
       "      <td>Census Tract 21, New York County, New York</td>\n",
       "      <td>89.9</td>\n",
       "      <td>142148.0</td>\n",
       "      <td>83.4</td>\n",
       "      <td>130304.0</td>\n",
       "    </tr>\n",
       "    <tr>\n",
       "      <th>2052</th>\n",
       "      <td>36061003300</td>\n",
       "      <td>Census Tract 33, New York County, New York</td>\n",
       "      <td>89.8</td>\n",
       "      <td>104199.0</td>\n",
       "      <td>87.3</td>\n",
       "      <td>101623.0</td>\n",
       "    </tr>\n",
       "    <tr>\n",
       "      <th>826</th>\n",
       "      <td>36047000700</td>\n",
       "      <td>Census Tract 7, Kings County, New York</td>\n",
       "      <td>89.6</td>\n",
       "      <td>80747.0</td>\n",
       "      <td>78.4</td>\n",
       "      <td>80032.0</td>\n",
       "    </tr>\n",
       "  </tbody>\n",
       "</table>\n",
       "</div>"
      ],
      "text/plain": [
       "              Id2                                     Geography_x  \\\n",
       "3883  36109000400       Census Tract 4, Tompkins County, New York   \n",
       "2226  36061020701  Census Tract 207.01, New York County, New York   \n",
       "2038  36061002100      Census Tract 21, New York County, New York   \n",
       "2052  36061003300      Census Tract 33, New York County, New York   \n",
       "826   36047000700          Census Tract 7, Kings County, New York   \n",
       "\n",
       "      %higher_ed_14  median_earnings_14  %higher_ed_09  median_earnings_09  \n",
       "3883           93.1             30737.0           63.5             22083.0  \n",
       "2226           91.4             38902.0           87.0             34298.0  \n",
       "2038           89.9            142148.0           83.4            130304.0  \n",
       "2052           89.8            104199.0           87.3            101623.0  \n",
       "826            89.6             80747.0           78.4             80032.0  "
      ]
     },
     "execution_count": 6,
     "metadata": {},
     "output_type": "execute_result"
    }
   ],
   "source": [
    "data['%higher_ed_14'].replace('-',np.nan,inplace=True)\n",
    "data['%higher_ed_09'].replace('-',np.nan,inplace=True)\n",
    "data['median_earnings_14'].replace('-',np.nan,inplace=True)\n",
    "data['median_earnings_09'].replace('-',np.nan,inplace=True)\n",
    "data['median_earnings_09'].replace('2,500-',np.nan,inplace=True)\n",
    "\n",
    "\n",
    "\n",
    "data.dropna(inplace=True)\n",
    "\n",
    "data['%higher_ed_14'] = data['%higher_ed_14'].astype('float')\n",
    "data['%higher_ed_09'] = data['%higher_ed_09'].astype('float')\n",
    "data['median_earnings_14'] = data['median_earnings_14'].astype('float')\n",
    "data['median_earnings_09'] = data['median_earnings_09'].astype('float')\n",
    "\n",
    "\n",
    "data.sort_values('%higher_ed_14',ascending=False).head()"
   ]
  },
  {
   "cell_type": "code",
   "execution_count": 7,
   "metadata": {},
   "outputs": [
    {
     "data": {
      "text/plain": [
       "4146"
      ]
     },
     "execution_count": 7,
     "metadata": {},
     "output_type": "execute_result"
    }
   ],
   "source": [
    "len(data['median_earnings_09'])"
   ]
  },
  {
   "cell_type": "code",
   "execution_count": 8,
   "metadata": {},
   "outputs": [
    {
     "data": {
      "text/html": [
       "<div>\n",
       "<style scoped>\n",
       "    .dataframe tbody tr th:only-of-type {\n",
       "        vertical-align: middle;\n",
       "    }\n",
       "\n",
       "    .dataframe tbody tr th {\n",
       "        vertical-align: top;\n",
       "    }\n",
       "\n",
       "    .dataframe thead th {\n",
       "        text-align: right;\n",
       "    }\n",
       "</style>\n",
       "<table border=\"1\" class=\"dataframe\">\n",
       "  <thead>\n",
       "    <tr style=\"text-align: right;\">\n",
       "      <th></th>\n",
       "      <th>Id2</th>\n",
       "      <th>Geography_x</th>\n",
       "      <th>%higher_ed_14</th>\n",
       "      <th>median_earnings_14</th>\n",
       "      <th>%higher_ed_09</th>\n",
       "      <th>median_earnings_09</th>\n",
       "      <th>%higher_ed_increase</th>\n",
       "      <th>earnings_dif</th>\n",
       "      <th>%earnings_change</th>\n",
       "    </tr>\n",
       "  </thead>\n",
       "  <tbody>\n",
       "    <tr>\n",
       "      <th>0</th>\n",
       "      <td>36001000100</td>\n",
       "      <td>Census Tract 1, Albany County, New York</td>\n",
       "      <td>14.9</td>\n",
       "      <td>23974.0</td>\n",
       "      <td>11.0</td>\n",
       "      <td>35552.0</td>\n",
       "      <td>3.9</td>\n",
       "      <td>-11578.0</td>\n",
       "      <td>-32.566382</td>\n",
       "    </tr>\n",
       "    <tr>\n",
       "      <th>1</th>\n",
       "      <td>36001000200</td>\n",
       "      <td>Census Tract 2, Albany County, New York</td>\n",
       "      <td>10.2</td>\n",
       "      <td>31368.0</td>\n",
       "      <td>17.0</td>\n",
       "      <td>26051.0</td>\n",
       "      <td>-6.8</td>\n",
       "      <td>5317.0</td>\n",
       "      <td>20.409965</td>\n",
       "    </tr>\n",
       "    <tr>\n",
       "      <th>2</th>\n",
       "      <td>36001000300</td>\n",
       "      <td>Census Tract 3, Albany County, New York</td>\n",
       "      <td>26.8</td>\n",
       "      <td>36024.0</td>\n",
       "      <td>22.7</td>\n",
       "      <td>33833.0</td>\n",
       "      <td>4.1</td>\n",
       "      <td>2191.0</td>\n",
       "      <td>6.475926</td>\n",
       "    </tr>\n",
       "    <tr>\n",
       "      <th>3</th>\n",
       "      <td>36001000401</td>\n",
       "      <td>Census Tract 4.01, Albany County, New York</td>\n",
       "      <td>43.9</td>\n",
       "      <td>49909.0</td>\n",
       "      <td>39.3</td>\n",
       "      <td>58869.0</td>\n",
       "      <td>4.6</td>\n",
       "      <td>-8960.0</td>\n",
       "      <td>-15.220235</td>\n",
       "    </tr>\n",
       "    <tr>\n",
       "      <th>4</th>\n",
       "      <td>36001000403</td>\n",
       "      <td>Census Tract 4.03, Albany County, New York</td>\n",
       "      <td>58.4</td>\n",
       "      <td>49840.0</td>\n",
       "      <td>51.5</td>\n",
       "      <td>45000.0</td>\n",
       "      <td>6.9</td>\n",
       "      <td>4840.0</td>\n",
       "      <td>10.755556</td>\n",
       "    </tr>\n",
       "  </tbody>\n",
       "</table>\n",
       "</div>"
      ],
      "text/plain": [
       "           Id2                                 Geography_x  %higher_ed_14  \\\n",
       "0  36001000100     Census Tract 1, Albany County, New York           14.9   \n",
       "1  36001000200     Census Tract 2, Albany County, New York           10.2   \n",
       "2  36001000300     Census Tract 3, Albany County, New York           26.8   \n",
       "3  36001000401  Census Tract 4.01, Albany County, New York           43.9   \n",
       "4  36001000403  Census Tract 4.03, Albany County, New York           58.4   \n",
       "\n",
       "   median_earnings_14  %higher_ed_09  median_earnings_09  %higher_ed_increase  \\\n",
       "0             23974.0           11.0             35552.0                  3.9   \n",
       "1             31368.0           17.0             26051.0                 -6.8   \n",
       "2             36024.0           22.7             33833.0                  4.1   \n",
       "3             49909.0           39.3             58869.0                  4.6   \n",
       "4             49840.0           51.5             45000.0                  6.9   \n",
       "\n",
       "   earnings_dif  %earnings_change  \n",
       "0      -11578.0        -32.566382  \n",
       "1        5317.0         20.409965  \n",
       "2        2191.0          6.475926  \n",
       "3       -8960.0        -15.220235  \n",
       "4        4840.0         10.755556  "
      ]
     },
     "execution_count": 8,
     "metadata": {},
     "output_type": "execute_result"
    }
   ],
   "source": [
    "data['%higher_ed_increase'] = data['%higher_ed_14'] - data['%higher_ed_09']\n",
    "data['earnings_dif'] = data['median_earnings_14']-data['median_earnings_09']\n",
    "data['%earnings_change'] = ((data['earnings_dif']/data['median_earnings_09'])*100)\n",
    "data.head()"
   ]
  },
  {
   "cell_type": "code",
   "execution_count": null,
   "metadata": {},
   "outputs": [],
   "source": []
  },
  {
   "cell_type": "code",
   "execution_count": 9,
   "metadata": {},
   "outputs": [
    {
     "data": {
      "text/html": [
       "<div>\n",
       "<style scoped>\n",
       "    .dataframe tbody tr th:only-of-type {\n",
       "        vertical-align: middle;\n",
       "    }\n",
       "\n",
       "    .dataframe tbody tr th {\n",
       "        vertical-align: top;\n",
       "    }\n",
       "\n",
       "    .dataframe thead th {\n",
       "        text-align: right;\n",
       "    }\n",
       "</style>\n",
       "<table border=\"1\" class=\"dataframe\">\n",
       "  <thead>\n",
       "    <tr style=\"text-align: right;\">\n",
       "      <th></th>\n",
       "      <th>Id2</th>\n",
       "      <th>med_home_val_14</th>\n",
       "    </tr>\n",
       "  </thead>\n",
       "  <tbody>\n",
       "    <tr>\n",
       "      <th>0</th>\n",
       "      <td>36001000100</td>\n",
       "      <td>94500</td>\n",
       "    </tr>\n",
       "    <tr>\n",
       "      <th>1</th>\n",
       "      <td>36001000200</td>\n",
       "      <td>85200</td>\n",
       "    </tr>\n",
       "    <tr>\n",
       "      <th>2</th>\n",
       "      <td>36001000300</td>\n",
       "      <td>175900</td>\n",
       "    </tr>\n",
       "    <tr>\n",
       "      <th>3</th>\n",
       "      <td>36001000401</td>\n",
       "      <td>154200</td>\n",
       "    </tr>\n",
       "    <tr>\n",
       "      <th>4</th>\n",
       "      <td>36001000403</td>\n",
       "      <td>193400</td>\n",
       "    </tr>\n",
       "  </tbody>\n",
       "</table>\n",
       "</div>"
      ],
      "text/plain": [
       "           Id2 med_home_val_14\n",
       "0  36001000100           94500\n",
       "1  36001000200           85200\n",
       "2  36001000300          175900\n",
       "3  36001000401          154200\n",
       "4  36001000403          193400"
      ]
     },
     "execution_count": 9,
     "metadata": {},
     "output_type": "execute_result"
    }
   ],
   "source": [
    "path = '/Users/katharinevoorhees/Downloads/ACS_14_5YR_B25077/ACS_14_5YR_B25077_with_ann.csv'\n",
    "\n",
    "home14 = pd.read_csv(path, skiprows=1)\n",
    "\n",
    "home14 = home14[['Id2','Estimate; Median value (dollars)']]\n",
    "home14.rename(columns={'Estimate; Median value (dollars)':\n",
    "                       'med_home_val_14'}, inplace=True)\n",
    "\n",
    "home14.head()"
   ]
  },
  {
   "cell_type": "code",
   "execution_count": 10,
   "metadata": {},
   "outputs": [
    {
     "data": {
      "text/html": [
       "<div>\n",
       "<style scoped>\n",
       "    .dataframe tbody tr th:only-of-type {\n",
       "        vertical-align: middle;\n",
       "    }\n",
       "\n",
       "    .dataframe tbody tr th {\n",
       "        vertical-align: top;\n",
       "    }\n",
       "\n",
       "    .dataframe thead th {\n",
       "        text-align: right;\n",
       "    }\n",
       "</style>\n",
       "<table border=\"1\" class=\"dataframe\">\n",
       "  <thead>\n",
       "    <tr style=\"text-align: right;\">\n",
       "      <th></th>\n",
       "      <th>Id2</th>\n",
       "      <th>med_home_val_09</th>\n",
       "    </tr>\n",
       "  </thead>\n",
       "  <tbody>\n",
       "    <tr>\n",
       "      <th>0</th>\n",
       "      <td>36001000100</td>\n",
       "      <td>112700</td>\n",
       "    </tr>\n",
       "    <tr>\n",
       "      <th>1</th>\n",
       "      <td>36001000200</td>\n",
       "      <td>131800</td>\n",
       "    </tr>\n",
       "    <tr>\n",
       "      <th>2</th>\n",
       "      <td>36001000300</td>\n",
       "      <td>127300</td>\n",
       "    </tr>\n",
       "    <tr>\n",
       "      <th>3</th>\n",
       "      <td>36001000401</td>\n",
       "      <td>163600</td>\n",
       "    </tr>\n",
       "    <tr>\n",
       "      <th>4</th>\n",
       "      <td>36001000403</td>\n",
       "      <td>203100</td>\n",
       "    </tr>\n",
       "  </tbody>\n",
       "</table>\n",
       "</div>"
      ],
      "text/plain": [
       "           Id2 med_home_val_09\n",
       "0  36001000100          112700\n",
       "1  36001000200          131800\n",
       "2  36001000300          127300\n",
       "3  36001000401          163600\n",
       "4  36001000403          203100"
      ]
     },
     "execution_count": 10,
     "metadata": {},
     "output_type": "execute_result"
    }
   ],
   "source": [
    "path = '/Users/katharinevoorhees/Downloads/ACS_09_5YR_B25077/ACS_09_5YR_B25077_with_ann.csv'\n",
    "\n",
    "home09 = pd.read_csv(path, skiprows=1)\n",
    "\n",
    "home09 = home09[['Id2','Estimate; Median value (dollars)']]\n",
    "home09.rename(columns={'Estimate; Median value (dollars)':\n",
    "                       'med_home_val_09'}, inplace=True)\n",
    "home09.head()"
   ]
  },
  {
   "cell_type": "code",
   "execution_count": 11,
   "metadata": {},
   "outputs": [
    {
     "data": {
      "text/html": [
       "<div>\n",
       "<style scoped>\n",
       "    .dataframe tbody tr th:only-of-type {\n",
       "        vertical-align: middle;\n",
       "    }\n",
       "\n",
       "    .dataframe tbody tr th {\n",
       "        vertical-align: top;\n",
       "    }\n",
       "\n",
       "    .dataframe thead th {\n",
       "        text-align: right;\n",
       "    }\n",
       "</style>\n",
       "<table border=\"1\" class=\"dataframe\">\n",
       "  <thead>\n",
       "    <tr style=\"text-align: right;\">\n",
       "      <th></th>\n",
       "      <th>Id2</th>\n",
       "      <th>med_home_val_09</th>\n",
       "      <th>med_home_val_14</th>\n",
       "    </tr>\n",
       "  </thead>\n",
       "  <tbody>\n",
       "    <tr>\n",
       "      <th>0</th>\n",
       "      <td>36001000100</td>\n",
       "      <td>112700</td>\n",
       "      <td>94500</td>\n",
       "    </tr>\n",
       "    <tr>\n",
       "      <th>1</th>\n",
       "      <td>36001000200</td>\n",
       "      <td>131800</td>\n",
       "      <td>85200</td>\n",
       "    </tr>\n",
       "    <tr>\n",
       "      <th>2</th>\n",
       "      <td>36001000300</td>\n",
       "      <td>127300</td>\n",
       "      <td>175900</td>\n",
       "    </tr>\n",
       "    <tr>\n",
       "      <th>3</th>\n",
       "      <td>36001000401</td>\n",
       "      <td>163600</td>\n",
       "      <td>154200</td>\n",
       "    </tr>\n",
       "    <tr>\n",
       "      <th>4</th>\n",
       "      <td>36001000403</td>\n",
       "      <td>203100</td>\n",
       "      <td>193400</td>\n",
       "    </tr>\n",
       "  </tbody>\n",
       "</table>\n",
       "</div>"
      ],
      "text/plain": [
       "           Id2 med_home_val_09 med_home_val_14\n",
       "0  36001000100          112700           94500\n",
       "1  36001000200          131800           85200\n",
       "2  36001000300          127300          175900\n",
       "3  36001000401          163600          154200\n",
       "4  36001000403          203100          193400"
      ]
     },
     "execution_count": 11,
     "metadata": {},
     "output_type": "execute_result"
    }
   ],
   "source": [
    "home_data = home09.merge(home14,on='Id2')\n",
    "home_data.head()"
   ]
  },
  {
   "cell_type": "code",
   "execution_count": 12,
   "metadata": {},
   "outputs": [],
   "source": [
    "home_data['med_home_val_09'].replace('1,000,000+',1000000,inplace=True)\n",
    "home_data['med_home_val_14'].replace('1,000,000+',1000000,inplace=True)\n",
    "home_data['med_home_val_09'].replace('-',np.nan, inplace=True)\n",
    "home_data['med_home_val_14'].replace('-',np.nan, inplace=True)\n",
    "\n",
    "\n",
    "home_data['med_home_val_09'] = home_data['med_home_val_09'].astype('float')\n",
    "home_data['med_home_val_14'] = home_data['med_home_val_14'].astype('float')"
   ]
  },
  {
   "cell_type": "code",
   "execution_count": 13,
   "metadata": {},
   "outputs": [
    {
     "data": {
      "text/html": [
       "<div>\n",
       "<style scoped>\n",
       "    .dataframe tbody tr th:only-of-type {\n",
       "        vertical-align: middle;\n",
       "    }\n",
       "\n",
       "    .dataframe tbody tr th {\n",
       "        vertical-align: top;\n",
       "    }\n",
       "\n",
       "    .dataframe thead th {\n",
       "        text-align: right;\n",
       "    }\n",
       "</style>\n",
       "<table border=\"1\" class=\"dataframe\">\n",
       "  <thead>\n",
       "    <tr style=\"text-align: right;\">\n",
       "      <th></th>\n",
       "      <th>Id2</th>\n",
       "      <th>med_home_val_09</th>\n",
       "      <th>med_home_val_14</th>\n",
       "      <th>%home_increase</th>\n",
       "    </tr>\n",
       "  </thead>\n",
       "  <tbody>\n",
       "    <tr>\n",
       "      <th>0</th>\n",
       "      <td>36001000100</td>\n",
       "      <td>112700.0</td>\n",
       "      <td>94500.0</td>\n",
       "      <td>-16.1</td>\n",
       "    </tr>\n",
       "    <tr>\n",
       "      <th>1</th>\n",
       "      <td>36001000200</td>\n",
       "      <td>131800.0</td>\n",
       "      <td>85200.0</td>\n",
       "      <td>-35.4</td>\n",
       "    </tr>\n",
       "    <tr>\n",
       "      <th>2</th>\n",
       "      <td>36001000300</td>\n",
       "      <td>127300.0</td>\n",
       "      <td>175900.0</td>\n",
       "      <td>38.2</td>\n",
       "    </tr>\n",
       "    <tr>\n",
       "      <th>3</th>\n",
       "      <td>36001000401</td>\n",
       "      <td>163600.0</td>\n",
       "      <td>154200.0</td>\n",
       "      <td>-5.7</td>\n",
       "    </tr>\n",
       "    <tr>\n",
       "      <th>4</th>\n",
       "      <td>36001000403</td>\n",
       "      <td>203100.0</td>\n",
       "      <td>193400.0</td>\n",
       "      <td>-4.8</td>\n",
       "    </tr>\n",
       "  </tbody>\n",
       "</table>\n",
       "</div>"
      ],
      "text/plain": [
       "           Id2  med_home_val_09  med_home_val_14  %home_increase\n",
       "0  36001000100         112700.0          94500.0           -16.1\n",
       "1  36001000200         131800.0          85200.0           -35.4\n",
       "2  36001000300         127300.0         175900.0            38.2\n",
       "3  36001000401         163600.0         154200.0            -5.7\n",
       "4  36001000403         203100.0         193400.0            -4.8"
      ]
     },
     "execution_count": 13,
     "metadata": {},
     "output_type": "execute_result"
    }
   ],
   "source": [
    "home_data.dropna(inplace=True)\n",
    "home_data['%home_increase'] = np.round(((home_data['med_home_val_14']-home_data['med_home_val_09'])/\\\n",
    "                               home_data['med_home_val_09'])*100,1)\n",
    "home_data.head()"
   ]
  },
  {
   "cell_type": "code",
   "execution_count": 14,
   "metadata": {},
   "outputs": [
    {
     "data": {
      "text/html": [
       "<div>\n",
       "<style scoped>\n",
       "    .dataframe tbody tr th:only-of-type {\n",
       "        vertical-align: middle;\n",
       "    }\n",
       "\n",
       "    .dataframe tbody tr th {\n",
       "        vertical-align: top;\n",
       "    }\n",
       "\n",
       "    .dataframe thead th {\n",
       "        text-align: right;\n",
       "    }\n",
       "</style>\n",
       "<table border=\"1\" class=\"dataframe\">\n",
       "  <thead>\n",
       "    <tr style=\"text-align: right;\">\n",
       "      <th></th>\n",
       "      <th>Id2</th>\n",
       "      <th>med_home_val_09</th>\n",
       "      <th>med_home_val_14</th>\n",
       "      <th>%home_increase</th>\n",
       "    </tr>\n",
       "  </thead>\n",
       "  <tbody>\n",
       "    <tr>\n",
       "      <th>count</th>\n",
       "      <td>4.003000e+03</td>\n",
       "      <td>4003.000000</td>\n",
       "      <td>4003.000000</td>\n",
       "      <td>4003.000000</td>\n",
       "    </tr>\n",
       "    <tr>\n",
       "      <th>mean</th>\n",
       "      <td>3.606350e+10</td>\n",
       "      <td>384319.985011</td>\n",
       "      <td>378586.734949</td>\n",
       "      <td>3.722833</td>\n",
       "    </tr>\n",
       "    <tr>\n",
       "      <th>std</th>\n",
       "      <td>3.089320e+07</td>\n",
       "      <td>244398.181959</td>\n",
       "      <td>242443.350615</td>\n",
       "      <td>47.513985</td>\n",
       "    </tr>\n",
       "    <tr>\n",
       "      <th>min</th>\n",
       "      <td>3.600100e+10</td>\n",
       "      <td>12600.000000</td>\n",
       "      <td>14900.000000</td>\n",
       "      <td>-90.800000</td>\n",
       "    </tr>\n",
       "    <tr>\n",
       "      <th>25%</th>\n",
       "      <td>3.604703e+10</td>\n",
       "      <td>143850.000000</td>\n",
       "      <td>155450.000000</td>\n",
       "      <td>-9.900000</td>\n",
       "    </tr>\n",
       "    <tr>\n",
       "      <th>50%</th>\n",
       "      <td>3.606101e+10</td>\n",
       "      <td>397600.000000</td>\n",
       "      <td>368000.000000</td>\n",
       "      <td>0.000000</td>\n",
       "    </tr>\n",
       "    <tr>\n",
       "      <th>75%</th>\n",
       "      <td>3.608112e+10</td>\n",
       "      <td>548500.000000</td>\n",
       "      <td>520300.000000</td>\n",
       "      <td>10.550000</td>\n",
       "    </tr>\n",
       "    <tr>\n",
       "      <th>max</th>\n",
       "      <td>3.611902e+10</td>\n",
       "      <td>1000000.000000</td>\n",
       "      <td>1000000.000000</td>\n",
       "      <td>1837.800000</td>\n",
       "    </tr>\n",
       "  </tbody>\n",
       "</table>\n",
       "</div>"
      ],
      "text/plain": [
       "                Id2  med_home_val_09  med_home_val_14  %home_increase\n",
       "count  4.003000e+03      4003.000000      4003.000000     4003.000000\n",
       "mean   3.606350e+10    384319.985011    378586.734949        3.722833\n",
       "std    3.089320e+07    244398.181959    242443.350615       47.513985\n",
       "min    3.600100e+10     12600.000000     14900.000000      -90.800000\n",
       "25%    3.604703e+10    143850.000000    155450.000000       -9.900000\n",
       "50%    3.606101e+10    397600.000000    368000.000000        0.000000\n",
       "75%    3.608112e+10    548500.000000    520300.000000       10.550000\n",
       "max    3.611902e+10   1000000.000000   1000000.000000     1837.800000"
      ]
     },
     "execution_count": 14,
     "metadata": {},
     "output_type": "execute_result"
    }
   ],
   "source": [
    "home_data.describe()"
   ]
  },
  {
   "cell_type": "code",
   "execution_count": 15,
   "metadata": {},
   "outputs": [
    {
     "data": {
      "text/html": [
       "<div>\n",
       "<style scoped>\n",
       "    .dataframe tbody tr th:only-of-type {\n",
       "        vertical-align: middle;\n",
       "    }\n",
       "\n",
       "    .dataframe tbody tr th {\n",
       "        vertical-align: top;\n",
       "    }\n",
       "\n",
       "    .dataframe thead th {\n",
       "        text-align: right;\n",
       "    }\n",
       "</style>\n",
       "<table border=\"1\" class=\"dataframe\">\n",
       "  <thead>\n",
       "    <tr style=\"text-align: right;\">\n",
       "      <th></th>\n",
       "      <th>Id2</th>\n",
       "      <th>wh14</th>\n",
       "      <th>%white_14</th>\n",
       "    </tr>\n",
       "  </thead>\n",
       "  <tbody>\n",
       "    <tr>\n",
       "      <th>0</th>\n",
       "      <td>36001000100</td>\n",
       "      <td>733</td>\n",
       "      <td>33.303044</td>\n",
       "    </tr>\n",
       "    <tr>\n",
       "      <th>1</th>\n",
       "      <td>36001000200</td>\n",
       "      <td>530</td>\n",
       "      <td>10.196229</td>\n",
       "    </tr>\n",
       "    <tr>\n",
       "      <th>2</th>\n",
       "      <td>36001000300</td>\n",
       "      <td>2503</td>\n",
       "      <td>45.352419</td>\n",
       "    </tr>\n",
       "    <tr>\n",
       "      <th>3</th>\n",
       "      <td>36001000401</td>\n",
       "      <td>2092</td>\n",
       "      <td>88.381918</td>\n",
       "    </tr>\n",
       "    <tr>\n",
       "      <th>4</th>\n",
       "      <td>36001000403</td>\n",
       "      <td>3249</td>\n",
       "      <td>70.969856</td>\n",
       "    </tr>\n",
       "  </tbody>\n",
       "</table>\n",
       "</div>"
      ],
      "text/plain": [
       "           Id2  wh14  %white_14\n",
       "0  36001000100   733  33.303044\n",
       "1  36001000200   530  10.196229\n",
       "2  36001000300  2503  45.352419\n",
       "3  36001000401  2092  88.381918\n",
       "4  36001000403  3249  70.969856"
      ]
     },
     "execution_count": 15,
     "metadata": {},
     "output_type": "execute_result"
    }
   ],
   "source": [
    "path = '/Users/katharinevoorhees/Downloads/ACS_14_5YR_B02001/ACS_14_5YR_B02001_with_ann.csv'\n",
    "\n",
    "race14 = pd.read_csv(path, skiprows=1)\n",
    "\n",
    "race14 = race14.rename(columns={\"Estimate; Total:\":'tot14',\n",
    "               'Estimate; Total: - White alone' :'wh14'})\n",
    "race14['%white_14'] = (race14['wh14']/race14['tot14'])*100\n",
    "race14 = race14[['Id2','wh14', '%white_14']]\n",
    "race14.head()"
   ]
  },
  {
   "cell_type": "code",
   "execution_count": 16,
   "metadata": {},
   "outputs": [
    {
     "data": {
      "text/html": [
       "<div>\n",
       "<style scoped>\n",
       "    .dataframe tbody tr th:only-of-type {\n",
       "        vertical-align: middle;\n",
       "    }\n",
       "\n",
       "    .dataframe tbody tr th {\n",
       "        vertical-align: top;\n",
       "    }\n",
       "\n",
       "    .dataframe thead th {\n",
       "        text-align: right;\n",
       "    }\n",
       "</style>\n",
       "<table border=\"1\" class=\"dataframe\">\n",
       "  <thead>\n",
       "    <tr style=\"text-align: right;\">\n",
       "      <th></th>\n",
       "      <th>Id2</th>\n",
       "      <th>wh09</th>\n",
       "      <th>%white_09</th>\n",
       "    </tr>\n",
       "  </thead>\n",
       "  <tbody>\n",
       "    <tr>\n",
       "      <th>0</th>\n",
       "      <td>36001000100</td>\n",
       "      <td>700</td>\n",
       "      <td>32.543003</td>\n",
       "    </tr>\n",
       "    <tr>\n",
       "      <th>1</th>\n",
       "      <td>36001000200</td>\n",
       "      <td>602</td>\n",
       "      <td>11.982484</td>\n",
       "    </tr>\n",
       "    <tr>\n",
       "      <th>2</th>\n",
       "      <td>36001000300</td>\n",
       "      <td>3594</td>\n",
       "      <td>58.610568</td>\n",
       "    </tr>\n",
       "    <tr>\n",
       "      <th>3</th>\n",
       "      <td>36001000401</td>\n",
       "      <td>2025</td>\n",
       "      <td>92.677346</td>\n",
       "    </tr>\n",
       "    <tr>\n",
       "      <th>4</th>\n",
       "      <td>36001000403</td>\n",
       "      <td>3362</td>\n",
       "      <td>77.180900</td>\n",
       "    </tr>\n",
       "  </tbody>\n",
       "</table>\n",
       "</div>"
      ],
      "text/plain": [
       "           Id2  wh09  %white_09\n",
       "0  36001000100   700  32.543003\n",
       "1  36001000200   602  11.982484\n",
       "2  36001000300  3594  58.610568\n",
       "3  36001000401  2025  92.677346\n",
       "4  36001000403  3362  77.180900"
      ]
     },
     "execution_count": 16,
     "metadata": {},
     "output_type": "execute_result"
    }
   ],
   "source": [
    "path = '/Users/katharinevoorhees/Downloads/ACS_09_5YR_B02001/ACS_09_5YR_B02001_with_ann.csv'\n",
    "\n",
    "race09 = pd.read_csv(path, skiprows=1)\n",
    "\n",
    "race09 = race09.rename(columns={\"Estimate; Total:\":'tot09',\n",
    "               'Estimate; White alone' :'wh09'})\n",
    "race09['%white_09'] = (race09['wh09']/race09['tot09'])*100\n",
    "race09 = race09[['Id2','wh09', '%white_09']]\n",
    "race09.head()"
   ]
  },
  {
   "cell_type": "code",
   "execution_count": 17,
   "metadata": {},
   "outputs": [
    {
     "data": {
      "text/html": [
       "<div>\n",
       "<style scoped>\n",
       "    .dataframe tbody tr th:only-of-type {\n",
       "        vertical-align: middle;\n",
       "    }\n",
       "\n",
       "    .dataframe tbody tr th {\n",
       "        vertical-align: top;\n",
       "    }\n",
       "\n",
       "    .dataframe thead th {\n",
       "        text-align: right;\n",
       "    }\n",
       "</style>\n",
       "<table border=\"1\" class=\"dataframe\">\n",
       "  <thead>\n",
       "    <tr style=\"text-align: right;\">\n",
       "      <th></th>\n",
       "      <th>Id2</th>\n",
       "      <th>wh09</th>\n",
       "      <th>%white_09</th>\n",
       "      <th>wh14</th>\n",
       "      <th>%white_14</th>\n",
       "      <th>%increase_white</th>\n",
       "    </tr>\n",
       "  </thead>\n",
       "  <tbody>\n",
       "    <tr>\n",
       "      <th>0</th>\n",
       "      <td>36001000100</td>\n",
       "      <td>700</td>\n",
       "      <td>32.543003</td>\n",
       "      <td>733</td>\n",
       "      <td>33.303044</td>\n",
       "      <td>0.760041</td>\n",
       "    </tr>\n",
       "    <tr>\n",
       "      <th>1</th>\n",
       "      <td>36001000200</td>\n",
       "      <td>602</td>\n",
       "      <td>11.982484</td>\n",
       "      <td>530</td>\n",
       "      <td>10.196229</td>\n",
       "      <td>-1.786255</td>\n",
       "    </tr>\n",
       "    <tr>\n",
       "      <th>2</th>\n",
       "      <td>36001000300</td>\n",
       "      <td>3594</td>\n",
       "      <td>58.610568</td>\n",
       "      <td>2503</td>\n",
       "      <td>45.352419</td>\n",
       "      <td>-13.258149</td>\n",
       "    </tr>\n",
       "    <tr>\n",
       "      <th>3</th>\n",
       "      <td>36001000401</td>\n",
       "      <td>2025</td>\n",
       "      <td>92.677346</td>\n",
       "      <td>2092</td>\n",
       "      <td>88.381918</td>\n",
       "      <td>-4.295427</td>\n",
       "    </tr>\n",
       "    <tr>\n",
       "      <th>4</th>\n",
       "      <td>36001000403</td>\n",
       "      <td>3362</td>\n",
       "      <td>77.180900</td>\n",
       "      <td>3249</td>\n",
       "      <td>70.969856</td>\n",
       "      <td>-6.211044</td>\n",
       "    </tr>\n",
       "  </tbody>\n",
       "</table>\n",
       "</div>"
      ],
      "text/plain": [
       "           Id2  wh09  %white_09  wh14  %white_14  %increase_white\n",
       "0  36001000100   700  32.543003   733  33.303044         0.760041\n",
       "1  36001000200   602  11.982484   530  10.196229        -1.786255\n",
       "2  36001000300  3594  58.610568  2503  45.352419       -13.258149\n",
       "3  36001000401  2025  92.677346  2092  88.381918        -4.295427\n",
       "4  36001000403  3362  77.180900  3249  70.969856        -6.211044"
      ]
     },
     "execution_count": 17,
     "metadata": {},
     "output_type": "execute_result"
    }
   ],
   "source": [
    "race_data = race09.merge(race14, on='Id2')\n",
    "\n",
    "race_data['%increase_white'] = race_data['%white_14'] - race_data['%white_09']\n",
    "\n",
    "race_data.head()"
   ]
  },
  {
   "cell_type": "code",
   "execution_count": 18,
   "metadata": {},
   "outputs": [
    {
     "data": {
      "text/html": [
       "<div>\n",
       "<style scoped>\n",
       "    .dataframe tbody tr th:only-of-type {\n",
       "        vertical-align: middle;\n",
       "    }\n",
       "\n",
       "    .dataframe tbody tr th {\n",
       "        vertical-align: top;\n",
       "    }\n",
       "\n",
       "    .dataframe thead th {\n",
       "        text-align: right;\n",
       "    }\n",
       "</style>\n",
       "<table border=\"1\" class=\"dataframe\">\n",
       "  <thead>\n",
       "    <tr style=\"text-align: right;\">\n",
       "      <th></th>\n",
       "      <th>Id2</th>\n",
       "      <th>%higher_ed_increase</th>\n",
       "      <th>%home_increase</th>\n",
       "      <th>%increase_white</th>\n",
       "      <th>%earnings_change</th>\n",
       "    </tr>\n",
       "  </thead>\n",
       "  <tbody>\n",
       "    <tr>\n",
       "      <th>0</th>\n",
       "      <td>36001000100</td>\n",
       "      <td>3.9</td>\n",
       "      <td>-16.1</td>\n",
       "      <td>0.760041</td>\n",
       "      <td>-32.566382</td>\n",
       "    </tr>\n",
       "    <tr>\n",
       "      <th>1</th>\n",
       "      <td>36001000200</td>\n",
       "      <td>-6.8</td>\n",
       "      <td>-35.4</td>\n",
       "      <td>-1.786255</td>\n",
       "      <td>20.409965</td>\n",
       "    </tr>\n",
       "    <tr>\n",
       "      <th>2</th>\n",
       "      <td>36001000300</td>\n",
       "      <td>4.1</td>\n",
       "      <td>38.2</td>\n",
       "      <td>-13.258149</td>\n",
       "      <td>6.475926</td>\n",
       "    </tr>\n",
       "    <tr>\n",
       "      <th>3</th>\n",
       "      <td>36001000401</td>\n",
       "      <td>4.6</td>\n",
       "      <td>-5.7</td>\n",
       "      <td>-4.295427</td>\n",
       "      <td>-15.220235</td>\n",
       "    </tr>\n",
       "    <tr>\n",
       "      <th>4</th>\n",
       "      <td>36001000403</td>\n",
       "      <td>6.9</td>\n",
       "      <td>-4.8</td>\n",
       "      <td>-6.211044</td>\n",
       "      <td>10.755556</td>\n",
       "    </tr>\n",
       "  </tbody>\n",
       "</table>\n",
       "</div>"
      ],
      "text/plain": [
       "           Id2  %higher_ed_increase  %home_increase  %increase_white  \\\n",
       "0  36001000100                  3.9           -16.1         0.760041   \n",
       "1  36001000200                 -6.8           -35.4        -1.786255   \n",
       "2  36001000300                  4.1            38.2       -13.258149   \n",
       "3  36001000401                  4.6            -5.7        -4.295427   \n",
       "4  36001000403                  6.9            -4.8        -6.211044   \n",
       "\n",
       "   %earnings_change  \n",
       "0        -32.566382  \n",
       "1         20.409965  \n",
       "2          6.475926  \n",
       "3        -15.220235  \n",
       "4         10.755556  "
      ]
     },
     "execution_count": 18,
     "metadata": {},
     "output_type": "execute_result"
    }
   ],
   "source": [
    "data = data.merge(home_data, how='left', on='Id2')\n",
    "data = data.merge(race_data, how='left', on='Id2')\n",
    "\n",
    "data = data[['Id2','%higher_ed_increase','%home_increase','%increase_white',\"%earnings_change\"]]\n",
    "\n",
    "data.head()"
   ]
  },
  {
   "cell_type": "code",
   "execution_count": 19,
   "metadata": {},
   "outputs": [
    {
     "data": {
      "text/html": [
       "<div>\n",
       "<style scoped>\n",
       "    .dataframe tbody tr th:only-of-type {\n",
       "        vertical-align: middle;\n",
       "    }\n",
       "\n",
       "    .dataframe tbody tr th {\n",
       "        vertical-align: top;\n",
       "    }\n",
       "\n",
       "    .dataframe thead th {\n",
       "        text-align: right;\n",
       "    }\n",
       "</style>\n",
       "<table border=\"1\" class=\"dataframe\">\n",
       "  <thead>\n",
       "    <tr style=\"text-align: right;\">\n",
       "      <th></th>\n",
       "      <th>precinct</th>\n",
       "      <th>tractid</th>\n",
       "    </tr>\n",
       "  </thead>\n",
       "  <tbody>\n",
       "    <tr>\n",
       "      <th>0</th>\n",
       "      <td>1.0</td>\n",
       "      <td>36061004700</td>\n",
       "    </tr>\n",
       "    <tr>\n",
       "      <th>1</th>\n",
       "      <td>1.0</td>\n",
       "      <td>36061004900</td>\n",
       "    </tr>\n",
       "    <tr>\n",
       "      <th>2</th>\n",
       "      <td>1.0</td>\n",
       "      <td>36061003700</td>\n",
       "    </tr>\n",
       "  </tbody>\n",
       "</table>\n",
       "</div>"
      ],
      "text/plain": [
       "   precinct      tractid\n",
       "0       1.0  36061004700\n",
       "1       1.0  36061004900\n",
       "2       1.0  36061003700"
      ]
     },
     "execution_count": 19,
     "metadata": {},
     "output_type": "execute_result"
    }
   ],
   "source": [
    "path= '/Users/katharinevoorhees/patrol_allocation/tract_precinct_key.csv'\n",
    "prec_key = pd.read_csv(path)\n",
    "prec_key = prec_key[['precinct','tractid']]\n",
    "prec_key.head(3)"
   ]
  },
  {
   "cell_type": "code",
   "execution_count": 20,
   "metadata": {},
   "outputs": [
    {
     "data": {
      "text/html": [
       "<div>\n",
       "<style scoped>\n",
       "    .dataframe tbody tr th:only-of-type {\n",
       "        vertical-align: middle;\n",
       "    }\n",
       "\n",
       "    .dataframe tbody tr th {\n",
       "        vertical-align: top;\n",
       "    }\n",
       "\n",
       "    .dataframe thead th {\n",
       "        text-align: right;\n",
       "    }\n",
       "</style>\n",
       "<table border=\"1\" class=\"dataframe\">\n",
       "  <thead>\n",
       "    <tr style=\"text-align: right;\">\n",
       "      <th></th>\n",
       "      <th>precinct</th>\n",
       "      <th>tractid</th>\n",
       "      <th>Id2</th>\n",
       "      <th>%higher_ed_increase</th>\n",
       "      <th>%home_increase</th>\n",
       "      <th>%increase_white</th>\n",
       "      <th>%earnings_change</th>\n",
       "    </tr>\n",
       "  </thead>\n",
       "  <tbody>\n",
       "    <tr>\n",
       "      <th>0</th>\n",
       "      <td>1.0</td>\n",
       "      <td>36061004700</td>\n",
       "      <td>36061004700</td>\n",
       "      <td>6.5</td>\n",
       "      <td>0.0</td>\n",
       "      <td>-3.396385</td>\n",
       "      <td>-3.584302</td>\n",
       "    </tr>\n",
       "    <tr>\n",
       "      <th>1</th>\n",
       "      <td>1.0</td>\n",
       "      <td>36061004900</td>\n",
       "      <td>36061004900</td>\n",
       "      <td>-2.0</td>\n",
       "      <td>0.0</td>\n",
       "      <td>0.946872</td>\n",
       "      <td>19.012517</td>\n",
       "    </tr>\n",
       "    <tr>\n",
       "      <th>2</th>\n",
       "      <td>1.0</td>\n",
       "      <td>36061000900</td>\n",
       "      <td>36061000900</td>\n",
       "      <td>-7.1</td>\n",
       "      <td>55.1</td>\n",
       "      <td>18.743693</td>\n",
       "      <td>37.132999</td>\n",
       "    </tr>\n",
       "    <tr>\n",
       "      <th>3</th>\n",
       "      <td>1.0</td>\n",
       "      <td>36061000700</td>\n",
       "      <td>36061000700</td>\n",
       "      <td>1.8</td>\n",
       "      <td>-8.9</td>\n",
       "      <td>6.428272</td>\n",
       "      <td>-12.865166</td>\n",
       "    </tr>\n",
       "    <tr>\n",
       "      <th>4</th>\n",
       "      <td>1.0</td>\n",
       "      <td>36061001300</td>\n",
       "      <td>36061001300</td>\n",
       "      <td>2.9</td>\n",
       "      <td>-4.1</td>\n",
       "      <td>7.838132</td>\n",
       "      <td>13.498200</td>\n",
       "    </tr>\n",
       "  </tbody>\n",
       "</table>\n",
       "</div>"
      ],
      "text/plain": [
       "   precinct      tractid          Id2  %higher_ed_increase  %home_increase  \\\n",
       "0       1.0  36061004700  36061004700                  6.5             0.0   \n",
       "1       1.0  36061004900  36061004900                 -2.0             0.0   \n",
       "2       1.0  36061000900  36061000900                 -7.1            55.1   \n",
       "3       1.0  36061000700  36061000700                  1.8            -8.9   \n",
       "4       1.0  36061001300  36061001300                  2.9            -4.1   \n",
       "\n",
       "   %increase_white  %earnings_change  \n",
       "0        -3.396385         -3.584302  \n",
       "1         0.946872         19.012517  \n",
       "2        18.743693         37.132999  \n",
       "3         6.428272        -12.865166  \n",
       "4         7.838132         13.498200  "
      ]
     },
     "execution_count": 20,
     "metadata": {},
     "output_type": "execute_result"
    }
   ],
   "source": [
    "acs_data = prec_key.merge(data, left_on='tractid', right_on='Id2')\n",
    "acs_data.head()"
   ]
  },
  {
   "cell_type": "code",
   "execution_count": 21,
   "metadata": {},
   "outputs": [
    {
     "data": {
      "text/plain": [
       "(1881, 7)"
      ]
     },
     "execution_count": 21,
     "metadata": {},
     "output_type": "execute_result"
    }
   ],
   "source": [
    "acs_data.shape"
   ]
  },
  {
   "cell_type": "code",
   "execution_count": 22,
   "metadata": {},
   "outputs": [
    {
     "data": {
      "text/plain": [
       "(2167, 2)"
      ]
     },
     "execution_count": 22,
     "metadata": {},
     "output_type": "execute_result"
    }
   ],
   "source": [
    "prec_key.shape"
   ]
  },
  {
   "cell_type": "code",
   "execution_count": 23,
   "metadata": {},
   "outputs": [
    {
     "data": {
      "text/html": [
       "<div>\n",
       "<style scoped>\n",
       "    .dataframe tbody tr th:only-of-type {\n",
       "        vertical-align: middle;\n",
       "    }\n",
       "\n",
       "    .dataframe tbody tr th {\n",
       "        vertical-align: top;\n",
       "    }\n",
       "\n",
       "    .dataframe thead th {\n",
       "        text-align: right;\n",
       "    }\n",
       "</style>\n",
       "<table border=\"1\" class=\"dataframe\">\n",
       "  <thead>\n",
       "    <tr style=\"text-align: right;\">\n",
       "      <th></th>\n",
       "      <th>precinct</th>\n",
       "      <th>tractid</th>\n",
       "      <th>Id2</th>\n",
       "      <th>%higher_ed_increase</th>\n",
       "      <th>%home_increase</th>\n",
       "      <th>%increase_white</th>\n",
       "      <th>%earnings_change</th>\n",
       "    </tr>\n",
       "  </thead>\n",
       "  <tbody>\n",
       "    <tr>\n",
       "      <th>0</th>\n",
       "      <td>1.0</td>\n",
       "      <td>3.606100e+10</td>\n",
       "      <td>3.606100e+10</td>\n",
       "      <td>2.960000</td>\n",
       "      <td>7.870000</td>\n",
       "      <td>0.457466</td>\n",
       "      <td>15.936095</td>\n",
       "    </tr>\n",
       "    <tr>\n",
       "      <th>1</th>\n",
       "      <td>5.0</td>\n",
       "      <td>3.606100e+10</td>\n",
       "      <td>3.606100e+10</td>\n",
       "      <td>6.854545</td>\n",
       "      <td>7.030000</td>\n",
       "      <td>4.543218</td>\n",
       "      <td>31.588472</td>\n",
       "    </tr>\n",
       "    <tr>\n",
       "      <th>2</th>\n",
       "      <td>6.0</td>\n",
       "      <td>3.606101e+10</td>\n",
       "      <td>3.606101e+10</td>\n",
       "      <td>1.391667</td>\n",
       "      <td>3.558333</td>\n",
       "      <td>-1.624774</td>\n",
       "      <td>15.786130</td>\n",
       "    </tr>\n",
       "    <tr>\n",
       "      <th>3</th>\n",
       "      <td>7.0</td>\n",
       "      <td>3.606100e+10</td>\n",
       "      <td>3.606100e+10</td>\n",
       "      <td>0.650000</td>\n",
       "      <td>5.612500</td>\n",
       "      <td>-1.897496</td>\n",
       "      <td>11.932918</td>\n",
       "    </tr>\n",
       "    <tr>\n",
       "      <th>4</th>\n",
       "      <td>9.0</td>\n",
       "      <td>3.606100e+10</td>\n",
       "      <td>3.606100e+10</td>\n",
       "      <td>4.413333</td>\n",
       "      <td>1.200000</td>\n",
       "      <td>-2.739962</td>\n",
       "      <td>27.541365</td>\n",
       "    </tr>\n",
       "  </tbody>\n",
       "</table>\n",
       "</div>"
      ],
      "text/plain": [
       "   precinct       tractid           Id2  %higher_ed_increase  %home_increase  \\\n",
       "0       1.0  3.606100e+10  3.606100e+10             2.960000        7.870000   \n",
       "1       5.0  3.606100e+10  3.606100e+10             6.854545        7.030000   \n",
       "2       6.0  3.606101e+10  3.606101e+10             1.391667        3.558333   \n",
       "3       7.0  3.606100e+10  3.606100e+10             0.650000        5.612500   \n",
       "4       9.0  3.606100e+10  3.606100e+10             4.413333        1.200000   \n",
       "\n",
       "   %increase_white  %earnings_change  \n",
       "0         0.457466         15.936095  \n",
       "1         4.543218         31.588472  \n",
       "2        -1.624774         15.786130  \n",
       "3        -1.897496         11.932918  \n",
       "4        -2.739962         27.541365  "
      ]
     },
     "execution_count": 23,
     "metadata": {},
     "output_type": "execute_result"
    }
   ],
   "source": [
    "acs_data_grouped = acs_data.groupby('precinct').mean().reset_index()\n",
    "\n",
    "acs_data_grouped.head()"
   ]
  },
  {
   "cell_type": "code",
   "execution_count": 24,
   "metadata": {},
   "outputs": [],
   "source": [
    "### ***add 311 noise  complaints"
   ]
  },
  {
   "cell_type": "code",
   "execution_count": null,
   "metadata": {},
   "outputs": [],
   "source": [
    "url = 'https://data.cityofnewyork.us/api/views/p5f6-bkga/rows.csv?accessType=DOWNLOAD'\n",
    "complaint = pd.read_csv(url)\n",
    "complaint.head()"
   ]
  },
  {
   "cell_type": "code",
   "execution_count": null,
   "metadata": {},
   "outputs": [],
   "source": [
    "complaint['Created Date'] = pd.to_datetime(complaint['Created Date'])"
   ]
  },
  {
   "cell_type": "code",
   "execution_count": null,
   "metadata": {},
   "outputs": [],
   "source": [
    "complaint['year'] = complaint['Created Date'].dt.year\n",
    "complaint.head(2)"
   ]
  },
  {
   "cell_type": "code",
   "execution_count": null,
   "metadata": {},
   "outputs": [],
   "source": [
    "complaint['lonlat'] = list(zip(complaint.Longitude, complaint.Latitude))"
   ]
  },
  {
   "cell_type": "code",
   "execution_count": null,
   "metadata": {},
   "outputs": [],
   "source": [
    "complaint['geometry'] = complaint[['lonlat']].applymap(lambda x:shapely.geometry.Point(x))"
   ]
  },
  {
   "cell_type": "code",
   "execution_count": null,
   "metadata": {},
   "outputs": [],
   "source": [
    "complaint_map = gp.GeoDataFrame(complaint)"
   ]
  },
  {
   "cell_type": "code",
   "execution_count": null,
   "metadata": {},
   "outputs": [],
   "source": [
    "complaint_map.crs  = from_epsg(4326)"
   ]
  },
  {
   "cell_type": "code",
   "execution_count": null,
   "metadata": {},
   "outputs": [],
   "source": [
    "complaint_map.to_crs(epsg=2263, inplace=True)"
   ]
  },
  {
   "cell_type": "code",
   "execution_count": null,
   "metadata": {},
   "outputs": [],
   "source": [
    "complaint_map.plot();"
   ]
  },
  {
   "cell_type": "code",
   "execution_count": null,
   "metadata": {},
   "outputs": [],
   "source": [
    "url = 'https://data.cityofnewyork.us/api/geospatial/78dh-3ptz?method=export&format=Shapefile'\n",
    "precinct = gp.GeoDataFrame.from_file(url)\n",
    "precinct.plot();"
   ]
  },
  {
   "cell_type": "code",
   "execution_count": null,
   "metadata": {},
   "outputs": [],
   "source": [
    "precinct.to_crs(epsg=2263, inplace=True)"
   ]
  },
  {
   "cell_type": "code",
   "execution_count": null,
   "metadata": {},
   "outputs": [],
   "source": [
    "complaints_joined = gp.sjoin(precinct,complaint_map, how='right')"
   ]
  },
  {
   "cell_type": "code",
   "execution_count": null,
   "metadata": {},
   "outputs": [],
   "source": [
    "complaints_joined.head()"
   ]
  },
  {
   "cell_type": "code",
   "execution_count": null,
   "metadata": {},
   "outputs": [],
   "source": [
    "grouped_complaints = complaints_joined.groupby(['precinct','year']).count().reset_index()\n",
    "complaint_2010 = grouped_complaints[grouped_complaints['year'] == 2010] \n",
    "complaint_2014 = grouped_complaints[grouped_complaints['year'] == 2014]\n",
    "complaint_2010.rename(columns={'index_left':'count_10'},inplace=True)\n",
    "complaint_2014.rename(columns={'index_left':'count_14'},inplace=True)\n",
    "complaint_data = complaint_2010.merge(complaint_2014, on='precinct')\n",
    "complaint_data = complaint_data[['precinct','count_10','count_14']]\n",
    "complaint_data.head()"
   ]
  },
  {
   "cell_type": "code",
   "execution_count": null,
   "metadata": {},
   "outputs": [],
   "source": [
    "complaint_data.to_csv('noise_complaints_aggregated.csv')"
   ]
  },
  {
   "cell_type": "code",
   "execution_count": null,
   "metadata": {},
   "outputs": [],
   "source": [
    "complaint_data['%change_noise'] = ((complaint_data['count_14'] - complaint_data['count_10'])/\\\n",
    "                                complaint_data['count_10'])*100\n",
    "\n",
    "complaint_data.describe()"
   ]
  },
  {
   "cell_type": "code",
   "execution_count": null,
   "metadata": {},
   "outputs": [],
   "source": []
  },
  {
   "cell_type": "markdown",
   "metadata": {},
   "source": [
    "## get gentrification score"
   ]
  },
  {
   "cell_type": "code",
   "execution_count": null,
   "metadata": {},
   "outputs": [],
   "source": [
    "gent = complaint_data.merge(acs_data_grouped,on='precinct')\n",
    "gent.head()"
   ]
  },
  {
   "cell_type": "code",
   "execution_count": null,
   "metadata": {},
   "outputs": [],
   "source": [
    "gent['city_noise'] = gent['%change_noise']/gent['%change_noise'].sum()\n",
    "gent['city_edu'] = gent['%higher_ed_increase']/gent['%higher_ed_increase'].sum()\n",
    "gent['city_home'] = gent['%home_increase']/gent['%home_increase'].sum()\n",
    "gent['city_white'] = gent['%increase_white']/gent['%increase_white'].sum()\n",
    "gent['city_earnings'] = gent['%earnings_change']/gent['%earnings_change'].sum()\n",
    "gent.head()"
   ]
  },
  {
   "cell_type": "code",
   "execution_count": null,
   "metadata": {},
   "outputs": [],
   "source": [
    "#gent['city_noise']\n",
    "\n",
    "gent['gent_total'] = gent['city_noise']+gent['city_edu']+gent['city_home']+gent['city_white']+gent['city_earnings']"
   ]
  },
  {
   "cell_type": "code",
   "execution_count": null,
   "metadata": {},
   "outputs": [],
   "source": [
    "gent['gent_rate'] = gent['gent_total']/gent['gent_total'].sum()\n",
    "gent.head()"
   ]
  },
  {
   "cell_type": "markdown",
   "metadata": {},
   "source": [
    "##  Felony arrests - data download/aggregation"
   ]
  },
  {
   "cell_type": "code",
   "execution_count": null,
   "metadata": {},
   "outputs": [],
   "source": [
    "url = 'https://data.cityofnewyork.us/api/views/8h9b-rp9u/rows.csv?accessType=DOWNLOAD'\n",
    "arrests = pd.read_csv(url)"
   ]
  },
  {
   "cell_type": "code",
   "execution_count": null,
   "metadata": {},
   "outputs": [],
   "source": [
    "arrests['year'] = arrests['ARREST_DATE'].str[-2:]\n",
    "\n",
    "arrests_ouryrs = arrests[(arrests['year'] == '09') | (arrests['year'] == '14')]\n",
    "\n",
    "arrests_2009 = arrests[arrests['year'] == '09']\n",
    "arrests_2014 = arrests[arrests['year'] == '14']"
   ]
  },
  {
   "cell_type": "code",
   "execution_count": null,
   "metadata": {},
   "outputs": [],
   "source": [
    "arrests_2009 = arrests_2009[arrests_2009['LAW_CAT_CD'] == 'F']\n",
    "arrests_2014 = arrests_2014[arrests_2014['LAW_CAT_CD'] == 'F']"
   ]
  },
  {
   "cell_type": "code",
   "execution_count": null,
   "metadata": {},
   "outputs": [],
   "source": [
    "grouped09 = arrests_2009.groupby('ARREST_PRECINCT').count().reset_index()\n",
    "grouped14 = arrests_2014.groupby('ARREST_PRECINCT').count().reset_index()\n",
    "\n",
    "grouped09 = grouped09[['ARREST_PRECINCT','ARREST_KEY']]\n",
    "grouped14 = grouped14[['ARREST_PRECINCT','ARREST_KEY']]\n",
    "\n",
    "grouped09.rename(columns={'ARREST_KEY':'felony_09'}, inplace=True)\n",
    "grouped14.rename(columns={'ARREST_KEY':'felony_14'}, inplace=True)"
   ]
  },
  {
   "cell_type": "code",
   "execution_count": null,
   "metadata": {},
   "outputs": [],
   "source": [
    "felony_arrest = grouped09.merge(grouped14, on='ARREST_PRECINCT')"
   ]
  },
  {
   "cell_type": "code",
   "execution_count": null,
   "metadata": {},
   "outputs": [],
   "source": [
    "felony_arrest.head()"
   ]
  },
  {
   "cell_type": "code",
   "execution_count": null,
   "metadata": {},
   "outputs": [],
   "source": [
    "felony_arrest['%city_14'] = felony_arrest['felony_14']/(felony_arrest['felony_14'].sum())\n",
    "felony_arrest.head()"
   ]
  },
  {
   "cell_type": "code",
   "execution_count": null,
   "metadata": {},
   "outputs": [],
   "source": [
    "felony_arrest.sort_values('%city_14',ascending=False).head(3)"
   ]
  },
  {
   "cell_type": "code",
   "execution_count": null,
   "metadata": {},
   "outputs": [],
   "source": []
  },
  {
   "cell_type": "code",
   "execution_count": null,
   "metadata": {},
   "outputs": [],
   "source": [
    "felony_arrest.to_csv('felonies_09_14.csv')"
   ]
  },
  {
   "cell_type": "code",
   "execution_count": null,
   "metadata": {},
   "outputs": [],
   "source": [
    "felony = pd.read_csv('felonies_09_14.csv')"
   ]
  },
  {
   "cell_type": "code",
   "execution_count": null,
   "metadata": {},
   "outputs": [],
   "source": [
    "felony.head()"
   ]
  },
  {
   "cell_type": "code",
   "execution_count": null,
   "metadata": {},
   "outputs": [],
   "source": [
    "felony['city_14'] = felony['felony_14']/felony['felony_14'].sum()"
   ]
  },
  {
   "cell_type": "markdown",
   "metadata": {},
   "source": [
    "## model calc"
   ]
  },
  {
   "cell_type": "code",
   "execution_count": null,
   "metadata": {},
   "outputs": [],
   "source": [
    "model_data = gent.merge(felony, left_on='precinct',right_on='ARREST_PRECINCT')\n",
    "model_data = model_data[['precinct','city_14','gent_rate']]\n",
    "model_data.head()"
   ]
  },
  {
   "cell_type": "code",
   "execution_count": null,
   "metadata": {},
   "outputs": [],
   "source": [
    "model_data['total'] = model_data['city_14'] + model_data['gent_rate']\n",
    "model_data['model_rate'] = model_data['total']/model_data['total'].sum()\n",
    "model_data['MODEL_allocation'] = np.round(model_data['model_rate']*20000)\n",
    "\n",
    "model_data.head()"
   ]
  },
  {
   "cell_type": "code",
   "execution_count": null,
   "metadata": {},
   "outputs": [],
   "source": [
    "model_data.sort_values('gent_rate', ascending=False)"
   ]
  },
  {
   "cell_type": "code",
   "execution_count": null,
   "metadata": {},
   "outputs": [],
   "source": [
    "model_data.to_csv('gentrification_model_results.csv')"
   ]
  },
  {
   "cell_type": "code",
   "execution_count": null,
   "metadata": {},
   "outputs": [],
   "source": [
    "url = 'https://data.cityofnewyork.us/api/geospatial/78dh-3ptz?method=export&format=Shapefile'\n",
    "precinct = gp.GeoDataFrame.from_file(url)\n",
    "precinct.head(2)"
   ]
  },
  {
   "cell_type": "code",
   "execution_count": null,
   "metadata": {},
   "outputs": [],
   "source": [
    "#join to model data\n",
    "\n",
    "precinct = precinct.merge(model_data, on='precinct', how='left')\n",
    "\n",
    "precinct.shape"
   ]
  },
  {
   "cell_type": "code",
   "execution_count": null,
   "metadata": {},
   "outputs": [],
   "source": [
    "precinct.replace(np.nan,0,inplace=True)\n",
    "\n",
    "nan = precinct[precinct['MODEL_allocation'].isnull()]\n",
    "nan"
   ]
  },
  {
   "cell_type": "code",
   "execution_count": null,
   "metadata": {},
   "outputs": [],
   "source": [
    "precinct.to_crs(epsg=2263, inplace=True)\n",
    "precinct.crs"
   ]
  },
  {
   "cell_type": "code",
   "execution_count": null,
   "metadata": {},
   "outputs": [],
   "source": [
    "#make cloropleth of precincts shaded by allocation in this model \n",
    "\n",
    "f,ax = plt.subplots(figsize=(10,10))\n",
    "precinct.plot(column='MODEL_allocation', cmap=\"Blues\", edgecolor=\"grey\",ax=ax,\n",
    "              scheme='quantiles',k=6, lw=.5, legend=True)\n",
    "ax.axis('off')\n",
    "plt.title('Felony Arrests + Gentrification Model' ,fontsize=(20))\n",
    "\n",
    "leg = ax.get_legend()\n",
    "leg.set_bbox_to_anchor((0,-.08,.25,1));"
   ]
  },
  {
   "cell_type": "code",
   "execution_count": null,
   "metadata": {},
   "outputs": [],
   "source": []
  }
 ],
 "metadata": {
  "kernelspec": {
   "display_name": "Python 3",
   "language": "python",
   "name": "python3"
  },
  "language_info": {
   "codemirror_mode": {
    "name": "ipython",
    "version": 3
   },
   "file_extension": ".py",
   "mimetype": "text/x-python",
   "name": "python",
   "nbconvert_exporter": "python",
   "pygments_lexer": "ipython3",
   "version": "3.6.5"
  }
 },
 "nbformat": 4,
 "nbformat_minor": 2
}
