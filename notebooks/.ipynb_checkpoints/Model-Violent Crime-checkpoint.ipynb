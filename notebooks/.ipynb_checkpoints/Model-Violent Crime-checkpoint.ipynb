{
 "cells": [
  {
   "cell_type": "code",
   "execution_count": 1,
   "metadata": {},
   "outputs": [],
   "source": [
    "import pandas as pd\n",
    "import numpy as numpy\n",
    "import json \n",
    "import os \n",
    "import pylab as pl\n",
    "import urllib\n",
    "import requests\n",
    "import geopandas as gp\n",
    "import fiona\n",
    "import shapely\n",
    "from fiona.crs import from_epsg\n",
    "import os\n",
    "import pandas as pd\n",
    "import urllib\n",
    "import requests\n",
    "import json\n",
    "import sys\n",
    "import io\n",
    "import shapely\n",
    "import base64\n",
    "import urllib.request\n",
    "import functools\n",
    "import geopandas as gp\n",
    "import fiona\n",
    "import numpy as np\n",
    "import matplotlib.pylab as plt\n",
    "\n",
    "pd.set_option('display.max_rows', 500)\n",
    "pd.set_option('display.max_columns', 500)\n",
    "%matplotlib inline\n"
   ]
  },
  {
   "cell_type": "code",
   "execution_count": null,
   "metadata": {},
   "outputs": [],
   "source": [
    "url = 'https://data.cityofnewyork.us/api/views/8h9b-rp9u/rows.csv?accessType=DOWNLOAD'\n",
    "arrests = pd.read_csv(url)\n",
    "arrests.head()"
   ]
  },
  {
   "cell_type": "code",
   "execution_count": null,
   "metadata": {},
   "outputs": [],
   "source": [
    "arrests['year'] = arrests['ARREST_DATE'].str[-2:]\n",
    "arrests.head()"
   ]
  },
  {
   "cell_type": "code",
   "execution_count": null,
   "metadata": {},
   "outputs": [],
   "source": [
    "violent = [139,140,153,155,157,164,166,168,175,176\n",
    "          ,177,178,179,180,183,185,187,261,263,379\n",
    "           ,380,397,586,639,640,665,104,105,106,\n",
    "          107,109,112,122,123,124,125,129]"
   ]
  },
  {
   "cell_type": "code",
   "execution_count": null,
   "metadata": {},
   "outputs": [],
   "source": [
    "violent_arrests = arrests[arrests['PD_CD'].isin(violent)]\n",
    "violent_arrests.shape"
   ]
  },
  {
   "cell_type": "code",
   "execution_count": null,
   "metadata": {},
   "outputs": [],
   "source": [
    "violent_arrests.head()"
   ]
  },
  {
   "cell_type": "code",
   "execution_count": null,
   "metadata": {},
   "outputs": [],
   "source": [
    "violent_2009 = violent_arrests[violent_arrests['year'] =='09']\n",
    "violent_2014 = violent_arrests[violent_arrests['year'] =='14']"
   ]
  },
  {
   "cell_type": "code",
   "execution_count": null,
   "metadata": {},
   "outputs": [],
   "source": [
    "grouped09 = violent_2009.groupby('ARREST_PRECINCT').count().reset_index()\n",
    "grouped14 = violent_2014.groupby('ARREST_PRECINCT').count().reset_index()\n",
    "\n",
    "grouped09 = grouped09[['ARREST_PRECINCT','ARREST_KEY']]\n",
    "grouped14 = grouped14[['ARREST_PRECINCT','ARREST_KEY']]\n",
    "\n",
    "grouped09.rename(columns={'ARREST_KEY':'violent_arrests_09'}, inplace=True)\n",
    "grouped14.rename(columns={'ARREST_KEY':'violent_arrests_14'}, inplace=True)"
   ]
  },
  {
   "cell_type": "code",
   "execution_count": null,
   "metadata": {},
   "outputs": [],
   "source": [
    "violent_arrests_09_14 = grouped09.merge(grouped14, on='ARREST_PRECINCT')"
   ]
  },
  {
   "cell_type": "code",
   "execution_count": null,
   "metadata": {},
   "outputs": [],
   "source": [
    "violent_arrests_09_14.head()"
   ]
  },
  {
   "cell_type": "code",
   "execution_count": null,
   "metadata": {},
   "outputs": [],
   "source": [
    "violent_arrests_09_14['%change'] = (violent_arrests_09_14['violent_arrests_14'] - violent_arrests_09_14['violent_arrests_09'])/violent_arrests_09_14['violent_arrests_09']"
   ]
  },
  {
   "cell_type": "code",
   "execution_count": null,
   "metadata": {},
   "outputs": [],
   "source": [
    "violent_arrests_09_14.head()"
   ]
  },
  {
   "cell_type": "code",
   "execution_count": null,
   "metadata": {},
   "outputs": [],
   "source": [
    "violent_arrests_09_14.describe()"
   ]
  },
  {
   "cell_type": "code",
   "execution_count": null,
   "metadata": {},
   "outputs": [],
   "source": [
    "violent_arrests_09_14['MODEL_allocation_14'] = round((violent_arrests_09_14['violent_arrests_14']/\\\n",
    "                        (violent_arrests_09_14['violent_arrests_14'].sum()))*20000)"
   ]
  },
  {
   "cell_type": "code",
   "execution_count": null,
   "metadata": {},
   "outputs": [],
   "source": [
    "violent_arrests_09_14.head()"
   ]
  },
  {
   "cell_type": "code",
   "execution_count": null,
   "metadata": {},
   "outputs": [],
   "source": [
    "violent_arrests_09_14.sort_values('MODEL_allocation_14').head(5)"
   ]
  },
  {
   "cell_type": "code",
   "execution_count": null,
   "metadata": {},
   "outputs": [],
   "source": [
    "#import precinct shapefile\n",
    "\n",
    "url = 'https://data.cityofnewyork.us/api/geospatial/78dh-3ptz?method=export&format=Shapefile'\n",
    "precinct = gp.GeoDataFrame.from_file(url)\n",
    "precinct.head(2)"
   ]
  },
  {
   "cell_type": "code",
   "execution_count": null,
   "metadata": {},
   "outputs": [],
   "source": [
    "#join to model data\n",
    "\n",
    "precinct = precinct.merge(violent_arrests_09_14,left_on='precinct', right_on='ARREST_PRECINCT', how='left')\n",
    "\n",
    "precinct.shape"
   ]
  },
  {
   "cell_type": "code",
   "execution_count": null,
   "metadata": {},
   "outputs": [],
   "source": [
    "precinct.replace(np.nan,0,inplace=True)\n",
    "\n",
    "nan = precinct[precinct['MODEL_allocation_14'].isnull()]\n",
    "nan"
   ]
  },
  {
   "cell_type": "code",
   "execution_count": null,
   "metadata": {},
   "outputs": [],
   "source": [
    "precinct.to_crs(epsg=2263, inplace=True)\n",
    "precinct.crs"
   ]
  },
  {
   "cell_type": "code",
   "execution_count": null,
   "metadata": {},
   "outputs": [],
   "source": [
    "#make cloropleth of precincts shaded by allocation in this model \n",
    "\n",
    "f,ax = plt.subplots(figsize=(10,10))\n",
    "precinct.plot(column='MODEL_allocation_14', cmap=\"Blues\", edgecolor=\"grey\",ax=ax,\n",
    "              scheme='quantiles',k=10, lw=.5, legend=True)\n",
    "ax.axis('off')\n",
    "plt.title('Violent Crime Model' ,fontsize=(20))\n",
    "\n",
    "leg = ax.get_legend()\n",
    "leg.set_bbox_to_anchor((0,-.08,.25,1));"
   ]
  },
  {
   "cell_type": "code",
   "execution_count": null,
   "metadata": {},
   "outputs": [],
   "source": [
    "violent_arrests_09_14.to_csv('violent_crime_MODEL.csv')"
   ]
  },
  {
   "cell_type": "code",
   "execution_count": null,
   "metadata": {},
   "outputs": [],
   "source": []
  }
 ],
 "metadata": {
  "kernelspec": {
   "display_name": "Python 3",
   "language": "python",
   "name": "python3"
  },
  "language_info": {
   "codemirror_mode": {
    "name": "ipython",
    "version": 3
   },
   "file_extension": ".py",
   "mimetype": "text/x-python",
   "name": "python",
   "nbconvert_exporter": "python",
   "pygments_lexer": "ipython3",
   "version": "3.6.5"
  }
 },
 "nbformat": 4,
 "nbformat_minor": 2
}
