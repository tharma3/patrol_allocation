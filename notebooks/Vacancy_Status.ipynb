{
 "cells": [
  {
   "cell_type": "code",
   "execution_count": 323,
   "metadata": {},
   "outputs": [
    {
     "name": "stdout",
     "output_type": "stream",
     "text": [
      "Populating the interactive namespace from numpy and matplotlib\n"
     ]
    }
   ],
   "source": [
    "from __future__ import print_function\n",
    "import geopandas as gpd\n",
    "import pandas as pd\n",
    "import numpy as np\n",
    "import urllib\n",
    "import requests\n",
    "import os\n",
    "import io\n",
    "import json\n",
    "import pylab as pl\n",
    "import shapely\n",
    "import shapely.wkt\n",
    "from shapely.geometry import Point\n",
    "from fiona.crs import from_epsg\n",
    "import sys\n",
    "import choropleth as cp\n",
    "from censusapi import myapi\n",
    "%pylab inline"
   ]
  },
  {
   "cell_type": "markdown",
   "metadata": {},
   "source": [
    "## Downloading shapefile for Census Tracts "
   ]
  },
  {
   "cell_type": "code",
   "execution_count": 272,
   "metadata": {},
   "outputs": [
    {
     "name": "stdout",
     "output_type": "stream",
     "text": [
      "Archive:  file.gz\n",
      "  inflating: /nfshome/cb4221/PUIdata/geo_export_561dfd54-713b-4db1-b9f1-1d80b6628047.dbf  \n",
      "  inflating: /nfshome/cb4221/PUIdata/geo_export_561dfd54-713b-4db1-b9f1-1d80b6628047.shp  \n",
      "  inflating: /nfshome/cb4221/PUIdata/geo_export_561dfd54-713b-4db1-b9f1-1d80b6628047.shx  \n",
      "  inflating: /nfshome/cb4221/PUIdata/geo_export_561dfd54-713b-4db1-b9f1-1d80b6628047.prj  \n"
     ]
    }
   ],
   "source": [
    "url = 'https://data.cityofnewyork.us/api/geospatial/fxpq-c8ku?method=export&format=Shapefile'\n",
    "urllib.request.urlretrieve(url, \"file.gz\")\n",
    "# unpacking into $PUIDATA\n",
    "!unzip file.gz -d $PUIDATA"
   ]
  },
  {
   "cell_type": "code",
   "execution_count": 273,
   "metadata": {},
   "outputs": [],
   "source": [
    "tracts = gpd.GeoDataFrame.from_file(\"%s/geo_export_bfc6efa1-df03-48d2-a9ea-3b3db53d4be8.shp\"%os.getenv(\"PUIDATA\"))"
   ]
  },
  {
   "cell_type": "code",
   "execution_count": 274,
   "metadata": {},
   "outputs": [
    {
     "data": {
      "text/html": [
       "<div>\n",
       "<table border=\"1\" class=\"dataframe\">\n",
       "  <thead>\n",
       "    <tr style=\"text-align: right;\">\n",
       "      <th></th>\n",
       "      <th>boro_code</th>\n",
       "      <th>boro_ct201</th>\n",
       "      <th>boro_name</th>\n",
       "      <th>cdeligibil</th>\n",
       "      <th>ct2010</th>\n",
       "      <th>ctlabel</th>\n",
       "      <th>ntacode</th>\n",
       "      <th>ntaname</th>\n",
       "      <th>puma</th>\n",
       "      <th>shape_area</th>\n",
       "      <th>shape_leng</th>\n",
       "      <th>geometry</th>\n",
       "    </tr>\n",
       "  </thead>\n",
       "  <tbody>\n",
       "    <tr>\n",
       "      <th>0</th>\n",
       "      <td>5</td>\n",
       "      <td>5000900</td>\n",
       "      <td>Staten Island</td>\n",
       "      <td>I</td>\n",
       "      <td>000900</td>\n",
       "      <td>9</td>\n",
       "      <td>SI22</td>\n",
       "      <td>West New Brighton-New Brighton-St. George</td>\n",
       "      <td>3903</td>\n",
       "      <td>2.497010e+06</td>\n",
       "      <td>7729.016794</td>\n",
       "      <td>POLYGON ((-74.07920577013245 40.64343078374567...</td>\n",
       "    </tr>\n",
       "    <tr>\n",
       "      <th>1</th>\n",
       "      <td>1</td>\n",
       "      <td>1009800</td>\n",
       "      <td>Manhattan</td>\n",
       "      <td>I</td>\n",
       "      <td>009800</td>\n",
       "      <td>98</td>\n",
       "      <td>MN19</td>\n",
       "      <td>Turtle Bay-East Midtown</td>\n",
       "      <td>3808</td>\n",
       "      <td>1.906016e+06</td>\n",
       "      <td>5534.199811</td>\n",
       "      <td>POLYGON ((-73.96432543478758 40.75638153099091...</td>\n",
       "    </tr>\n",
       "  </tbody>\n",
       "</table>\n",
       "</div>"
      ],
      "text/plain": [
       "  boro_code boro_ct201      boro_name cdeligibil  ct2010 ctlabel ntacode  \\\n",
       "0         5    5000900  Staten Island          I  000900       9    SI22   \n",
       "1         1    1009800      Manhattan          I  009800      98    MN19   \n",
       "\n",
       "                                     ntaname  puma    shape_area   shape_leng  \\\n",
       "0  West New Brighton-New Brighton-St. George  3903  2.497010e+06  7729.016794   \n",
       "1                    Turtle Bay-East Midtown  3808  1.906016e+06  5534.199811   \n",
       "\n",
       "                                            geometry  \n",
       "0  POLYGON ((-74.07920577013245 40.64343078374567...  \n",
       "1  POLYGON ((-73.96432543478758 40.75638153099091...  "
      ]
     },
     "execution_count": 274,
     "metadata": {},
     "output_type": "execute_result"
    }
   ],
   "source": [
    "tracts.head(2)"
   ]
  },
  {
   "cell_type": "markdown",
   "metadata": {},
   "source": [
    "## Download police precincts shapefile"
   ]
  },
  {
   "cell_type": "code",
   "execution_count": 275,
   "metadata": {},
   "outputs": [
    {
     "name": "stdout",
     "output_type": "stream",
     "text": [
      "Archive:  file.gz\n",
      "  inflating: /nfshome/cb4221/PUIdata/geo_export_dee92f77-245d-4615-b14f-28dec73bee7b.dbf  \n",
      "  inflating: /nfshome/cb4221/PUIdata/geo_export_dee92f77-245d-4615-b14f-28dec73bee7b.shp  \n",
      "  inflating: /nfshome/cb4221/PUIdata/geo_export_dee92f77-245d-4615-b14f-28dec73bee7b.shx  \n",
      "  inflating: /nfshome/cb4221/PUIdata/geo_export_dee92f77-245d-4615-b14f-28dec73bee7b.prj  \n"
     ]
    }
   ],
   "source": [
    "url = 'https://data.cityofnewyork.us/api/geospatial/78dh-3ptz?method=export&format=Shapefile'\n",
    "urllib.request.urlretrieve(url, \"file.gz\")\n",
    "!unzip file.gz -d $PUIDATA"
   ]
  },
  {
   "cell_type": "code",
   "execution_count": 276,
   "metadata": {},
   "outputs": [],
   "source": [
    "precincts = gpd.GeoDataFrame.from_file(\"%s/geo_export_5ae57718-dcea-4aac-afac-286bc14b8682.shp\"%os.getenv('PUIDATA'))"
   ]
  },
  {
   "cell_type": "code",
   "execution_count": 277,
   "metadata": {},
   "outputs": [
    {
     "data": {
      "text/html": [
       "<div>\n",
       "<table border=\"1\" class=\"dataframe\">\n",
       "  <thead>\n",
       "    <tr style=\"text-align: right;\">\n",
       "      <th></th>\n",
       "      <th>precinct</th>\n",
       "      <th>shape_area</th>\n",
       "      <th>shape_leng</th>\n",
       "      <th>geometry</th>\n",
       "    </tr>\n",
       "  </thead>\n",
       "  <tbody>\n",
       "    <tr>\n",
       "      <th>0</th>\n",
       "      <td>1.0</td>\n",
       "      <td>4.730176e+07</td>\n",
       "      <td>80586.154615</td>\n",
       "      <td>(POLYGON ((-74.0438776157395 40.69018767637665...</td>\n",
       "    </tr>\n",
       "    <tr>\n",
       "      <th>1</th>\n",
       "      <td>5.0</td>\n",
       "      <td>1.808880e+07</td>\n",
       "      <td>18676.124259</td>\n",
       "      <td>POLYGON ((-73.98863862848766 40.72293372026369...</td>\n",
       "    </tr>\n",
       "    <tr>\n",
       "      <th>2</th>\n",
       "      <td>6.0</td>\n",
       "      <td>2.209819e+07</td>\n",
       "      <td>26402.900669</td>\n",
       "      <td>POLYGON ((-73.99968392160721 40.73855224865976...</td>\n",
       "    </tr>\n",
       "    <tr>\n",
       "      <th>3</th>\n",
       "      <td>71.0</td>\n",
       "      <td>4.533179e+07</td>\n",
       "      <td>29978.094261</td>\n",
       "      <td>POLYGON ((-73.92854313809303 40.66457328584737...</td>\n",
       "    </tr>\n",
       "    <tr>\n",
       "      <th>4</th>\n",
       "      <td>72.0</td>\n",
       "      <td>1.046213e+08</td>\n",
       "      <td>87968.194520</td>\n",
       "      <td>POLYGON ((-73.99840899113158 40.67186872303234...</td>\n",
       "    </tr>\n",
       "  </tbody>\n",
       "</table>\n",
       "</div>"
      ],
      "text/plain": [
       "   precinct    shape_area    shape_leng  \\\n",
       "0       1.0  4.730176e+07  80586.154615   \n",
       "1       5.0  1.808880e+07  18676.124259   \n",
       "2       6.0  2.209819e+07  26402.900669   \n",
       "3      71.0  4.533179e+07  29978.094261   \n",
       "4      72.0  1.046213e+08  87968.194520   \n",
       "\n",
       "                                            geometry  \n",
       "0  (POLYGON ((-74.0438776157395 40.69018767637665...  \n",
       "1  POLYGON ((-73.98863862848766 40.72293372026369...  \n",
       "2  POLYGON ((-73.99968392160721 40.73855224865976...  \n",
       "3  POLYGON ((-73.92854313809303 40.66457328584737...  \n",
       "4  POLYGON ((-73.99840899113158 40.67186872303234...  "
      ]
     },
     "execution_count": 277,
     "metadata": {},
     "output_type": "execute_result"
    }
   ],
   "source": [
    "precincts.head()"
   ]
  },
  {
   "cell_type": "markdown",
   "metadata": {},
   "source": [
    "## Reading in vacancy data, downloaded directly from FactFinder\n",
    "To download:\n",
    "- go to https://factfinder.census.gov/faces/nav/jsf/pages/index.xhtml\n",
    "- select advanced search\n",
    "- search for table B25004\n",
    "- select 2017 5-year estimates\n",
    "- in Add/Remove Geographies, select Census Tract, New York state\n",
    "- Select all census tracts within these counties: Bronx, Kings, New York, Queens, and Richmond"
   ]
  },
  {
   "cell_type": "markdown",
   "metadata": {},
   "source": [
    "FIPS codes for 5 boroughs\n",
    "- 005 - Bronx\n",
    "- 047 - Kings (Brooklyn)\n",
    "- 061 - New York (Manhattan)\n",
    "- 081 - Queens\n",
    "- 085 - Richmond (Staten Island) "
   ]
  },
  {
   "cell_type": "code",
   "execution_count": 278,
   "metadata": {},
   "outputs": [],
   "source": [
    "vacancy = pd.read_csv('ACS_17_5YR_B25004.csv')\n",
    "vacancy.drop(0, axis=0, inplace=True) # dropping information first row"
   ]
  },
  {
   "cell_type": "code",
   "execution_count": 336,
   "metadata": {},
   "outputs": [],
   "source": [
    "# # API call, but just provides one column\n",
    "\n",
    "# url = \"https://api.census.gov/data/2017/acs/acs5?get=\" + 'B25004_001E' + \\\n",
    "# \",NAME&for=tract:*&in=state:36&in=county:005&key=\" + myapi\n",
    "# resp = requests.request('GET', url).content\n",
    "# total = pd.read_csv(io.StringIO(resp.decode('utf-8').replace('[','').replace(']','')))"
   ]
  },
  {
   "cell_type": "code",
   "execution_count": 337,
   "metadata": {},
   "outputs": [],
   "source": [
    "# total.head()"
   ]
  },
  {
   "cell_type": "markdown",
   "metadata": {},
   "source": [
    "## Creating common column\n",
    "Vacancy and Tracts need to be joined on common column, but don't have one. My solution is to create a boro_code in vacancy and slice part of the GEO id to create two columns to merge on, since I cannot create one unique column"
   ]
  },
  {
   "cell_type": "markdown",
   "metadata": {},
   "source": [
    "- Manhattan = 1\n",
    "- Bronx = 2\n",
    "- Brooklyn = 3\n",
    "- Queens = 4\n",
    "- Staten Island = 5"
   ]
  },
  {
   "cell_type": "markdown",
   "metadata": {},
   "source": [
    "## Add borough code to vacancy df"
   ]
  },
  {
   "cell_type": "code",
   "execution_count": 279,
   "metadata": {},
   "outputs": [],
   "source": [
    "# splitting 'Geo display label' into 3 parts\n",
    "vacancy[['tract', 'county', 'state']] = pd.DataFrame([ x.split(',') for x in vacancy['GEO.display-label'].tolist()])"
   ]
  },
  {
   "cell_type": "code",
   "execution_count": 280,
   "metadata": {},
   "outputs": [
    {
     "data": {
      "text/plain": [
       "array([' Bronx County', ' Kings County', ' New York County',\n",
       "       ' Queens County', ' Richmond County', nan], dtype=object)"
      ]
     },
     "execution_count": 280,
     "metadata": {},
     "output_type": "execute_result"
    }
   ],
   "source": [
    "vacancy.county.unique()"
   ]
  },
  {
   "cell_type": "code",
   "execution_count": 281,
   "metadata": {},
   "outputs": [],
   "source": [
    "vacancy.county = vacancy.county.astype(str)"
   ]
  },
  {
   "cell_type": "code",
   "execution_count": 282,
   "metadata": {},
   "outputs": [],
   "source": [
    "mymap = {' New York County': 1, ' Bronx County': 2, ' Kings County':3, ' Queens County':4, \n",
    "          ' Richmond County':5}"
   ]
  },
  {
   "cell_type": "code",
   "execution_count": 283,
   "metadata": {},
   "outputs": [
    {
     "data": {
      "text/html": [
       "<div>\n",
       "<table border=\"1\" class=\"dataframe\">\n",
       "  <thead>\n",
       "    <tr style=\"text-align: right;\">\n",
       "      <th></th>\n",
       "      <th>GEO.id</th>\n",
       "      <th>GEO.id2</th>\n",
       "      <th>GEO.display-label</th>\n",
       "      <th>HD01_VD01</th>\n",
       "      <th>HD01_VD02</th>\n",
       "      <th>HD01_VD03</th>\n",
       "      <th>HD01_VD04</th>\n",
       "      <th>HD01_VD05</th>\n",
       "      <th>HD01_VD06</th>\n",
       "      <th>HD01_VD07</th>\n",
       "      <th>HD01_VD08</th>\n",
       "      <th>tract</th>\n",
       "      <th>county</th>\n",
       "      <th>state</th>\n",
       "    </tr>\n",
       "  </thead>\n",
       "  <tbody>\n",
       "    <tr>\n",
       "      <th>1</th>\n",
       "      <td>1400000US36005000100</td>\n",
       "      <td>36005000100</td>\n",
       "      <td>Census Tract 1, Bronx County, New York</td>\n",
       "      <td>0</td>\n",
       "      <td>0</td>\n",
       "      <td>0</td>\n",
       "      <td>0</td>\n",
       "      <td>0</td>\n",
       "      <td>0</td>\n",
       "      <td>0</td>\n",
       "      <td>0</td>\n",
       "      <td>Census Tract 2</td>\n",
       "      <td>2</td>\n",
       "      <td>New York</td>\n",
       "    </tr>\n",
       "    <tr>\n",
       "      <th>2</th>\n",
       "      <td>1400000US36005000200</td>\n",
       "      <td>36005000200</td>\n",
       "      <td>Census Tract 2, Bronx County, New York</td>\n",
       "      <td>144</td>\n",
       "      <td>0</td>\n",
       "      <td>0</td>\n",
       "      <td>16</td>\n",
       "      <td>0</td>\n",
       "      <td>0</td>\n",
       "      <td>0</td>\n",
       "      <td>128</td>\n",
       "      <td>Census Tract 4</td>\n",
       "      <td>2</td>\n",
       "      <td>New York</td>\n",
       "    </tr>\n",
       "    <tr>\n",
       "      <th>3</th>\n",
       "      <td>1400000US36005000400</td>\n",
       "      <td>36005000400</td>\n",
       "      <td>Census Tract 4, Bronx County, New York</td>\n",
       "      <td>183</td>\n",
       "      <td>72</td>\n",
       "      <td>0</td>\n",
       "      <td>31</td>\n",
       "      <td>35</td>\n",
       "      <td>0</td>\n",
       "      <td>0</td>\n",
       "      <td>45</td>\n",
       "      <td>Census Tract 16</td>\n",
       "      <td>2</td>\n",
       "      <td>New York</td>\n",
       "    </tr>\n",
       "    <tr>\n",
       "      <th>4</th>\n",
       "      <td>1400000US36005001600</td>\n",
       "      <td>36005001600</td>\n",
       "      <td>Census Tract 16, Bronx County, New York</td>\n",
       "      <td>83</td>\n",
       "      <td>22</td>\n",
       "      <td>41</td>\n",
       "      <td>0</td>\n",
       "      <td>0</td>\n",
       "      <td>0</td>\n",
       "      <td>0</td>\n",
       "      <td>20</td>\n",
       "      <td>Census Tract 19</td>\n",
       "      <td>2</td>\n",
       "      <td>New York</td>\n",
       "    </tr>\n",
       "    <tr>\n",
       "      <th>5</th>\n",
       "      <td>1400000US36005001900</td>\n",
       "      <td>36005001900</td>\n",
       "      <td>Census Tract 19, Bronx County, New York</td>\n",
       "      <td>48</td>\n",
       "      <td>10</td>\n",
       "      <td>0</td>\n",
       "      <td>0</td>\n",
       "      <td>0</td>\n",
       "      <td>10</td>\n",
       "      <td>0</td>\n",
       "      <td>28</td>\n",
       "      <td>Census Tract 20</td>\n",
       "      <td>2</td>\n",
       "      <td>New York</td>\n",
       "    </tr>\n",
       "  </tbody>\n",
       "</table>\n",
       "</div>"
      ],
      "text/plain": [
       "                 GEO.id      GEO.id2                        GEO.display-label  \\\n",
       "1  1400000US36005000100  36005000100   Census Tract 1, Bronx County, New York   \n",
       "2  1400000US36005000200  36005000200   Census Tract 2, Bronx County, New York   \n",
       "3  1400000US36005000400  36005000400   Census Tract 4, Bronx County, New York   \n",
       "4  1400000US36005001600  36005001600  Census Tract 16, Bronx County, New York   \n",
       "5  1400000US36005001900  36005001900  Census Tract 19, Bronx County, New York   \n",
       "\n",
       "  HD01_VD01 HD01_VD02 HD01_VD03 HD01_VD04 HD01_VD05 HD01_VD06 HD01_VD07  \\\n",
       "1         0         0         0         0         0         0         0   \n",
       "2       144         0         0        16         0         0         0   \n",
       "3       183        72         0        31        35         0         0   \n",
       "4        83        22        41         0         0         0         0   \n",
       "5        48        10         0         0         0        10         0   \n",
       "\n",
       "  HD01_VD08            tract county      state  \n",
       "1         0   Census Tract 2      2   New York  \n",
       "2       128   Census Tract 4      2   New York  \n",
       "3        45  Census Tract 16      2   New York  \n",
       "4        20  Census Tract 19      2   New York  \n",
       "5        28  Census Tract 20      2   New York  "
      ]
     },
     "execution_count": 283,
     "metadata": {},
     "output_type": "execute_result"
    }
   ],
   "source": [
    "# replaces 'New York County' etc. with corresponding mapped number \n",
    "vacancyR = vacancy.applymap(lambda s: mymap.get(s) if s in mymap else s)\n",
    "vacancyR.head()"
   ]
  },
  {
   "cell_type": "markdown",
   "metadata": {},
   "source": [
    "# taking slice of GEO.id2 to match 'ct2010' column in tracts "
   ]
  },
  {
   "cell_type": "code",
   "execution_count": 284,
   "metadata": {},
   "outputs": [],
   "source": [
    "vacancyR['ct2010'] = vacancyR['GEO.id2'].str[5:]"
   ]
  },
  {
   "cell_type": "code",
   "execution_count": 285,
   "metadata": {},
   "outputs": [
    {
     "data": {
      "text/html": [
       "<div>\n",
       "<table border=\"1\" class=\"dataframe\">\n",
       "  <thead>\n",
       "    <tr style=\"text-align: right;\">\n",
       "      <th></th>\n",
       "      <th>GEO.id</th>\n",
       "      <th>GEO.id2</th>\n",
       "      <th>GEO.display-label</th>\n",
       "      <th>HD01_VD01</th>\n",
       "      <th>HD01_VD02</th>\n",
       "      <th>HD01_VD03</th>\n",
       "      <th>HD01_VD04</th>\n",
       "      <th>HD01_VD05</th>\n",
       "      <th>HD01_VD06</th>\n",
       "      <th>HD01_VD07</th>\n",
       "      <th>HD01_VD08</th>\n",
       "      <th>tract</th>\n",
       "      <th>county</th>\n",
       "      <th>state</th>\n",
       "      <th>ct2010</th>\n",
       "    </tr>\n",
       "  </thead>\n",
       "  <tbody>\n",
       "    <tr>\n",
       "      <th>1</th>\n",
       "      <td>1400000US36005000100</td>\n",
       "      <td>36005000100</td>\n",
       "      <td>Census Tract 1, Bronx County, New York</td>\n",
       "      <td>0</td>\n",
       "      <td>0</td>\n",
       "      <td>0</td>\n",
       "      <td>0</td>\n",
       "      <td>0</td>\n",
       "      <td>0</td>\n",
       "      <td>0</td>\n",
       "      <td>0</td>\n",
       "      <td>Census Tract 2</td>\n",
       "      <td>2</td>\n",
       "      <td>New York</td>\n",
       "      <td>000100</td>\n",
       "    </tr>\n",
       "    <tr>\n",
       "      <th>2</th>\n",
       "      <td>1400000US36005000200</td>\n",
       "      <td>36005000200</td>\n",
       "      <td>Census Tract 2, Bronx County, New York</td>\n",
       "      <td>144</td>\n",
       "      <td>0</td>\n",
       "      <td>0</td>\n",
       "      <td>16</td>\n",
       "      <td>0</td>\n",
       "      <td>0</td>\n",
       "      <td>0</td>\n",
       "      <td>128</td>\n",
       "      <td>Census Tract 4</td>\n",
       "      <td>2</td>\n",
       "      <td>New York</td>\n",
       "      <td>000200</td>\n",
       "    </tr>\n",
       "    <tr>\n",
       "      <th>3</th>\n",
       "      <td>1400000US36005000400</td>\n",
       "      <td>36005000400</td>\n",
       "      <td>Census Tract 4, Bronx County, New York</td>\n",
       "      <td>183</td>\n",
       "      <td>72</td>\n",
       "      <td>0</td>\n",
       "      <td>31</td>\n",
       "      <td>35</td>\n",
       "      <td>0</td>\n",
       "      <td>0</td>\n",
       "      <td>45</td>\n",
       "      <td>Census Tract 16</td>\n",
       "      <td>2</td>\n",
       "      <td>New York</td>\n",
       "      <td>000400</td>\n",
       "    </tr>\n",
       "    <tr>\n",
       "      <th>4</th>\n",
       "      <td>1400000US36005001600</td>\n",
       "      <td>36005001600</td>\n",
       "      <td>Census Tract 16, Bronx County, New York</td>\n",
       "      <td>83</td>\n",
       "      <td>22</td>\n",
       "      <td>41</td>\n",
       "      <td>0</td>\n",
       "      <td>0</td>\n",
       "      <td>0</td>\n",
       "      <td>0</td>\n",
       "      <td>20</td>\n",
       "      <td>Census Tract 19</td>\n",
       "      <td>2</td>\n",
       "      <td>New York</td>\n",
       "      <td>001600</td>\n",
       "    </tr>\n",
       "    <tr>\n",
       "      <th>5</th>\n",
       "      <td>1400000US36005001900</td>\n",
       "      <td>36005001900</td>\n",
       "      <td>Census Tract 19, Bronx County, New York</td>\n",
       "      <td>48</td>\n",
       "      <td>10</td>\n",
       "      <td>0</td>\n",
       "      <td>0</td>\n",
       "      <td>0</td>\n",
       "      <td>10</td>\n",
       "      <td>0</td>\n",
       "      <td>28</td>\n",
       "      <td>Census Tract 20</td>\n",
       "      <td>2</td>\n",
       "      <td>New York</td>\n",
       "      <td>001900</td>\n",
       "    </tr>\n",
       "  </tbody>\n",
       "</table>\n",
       "</div>"
      ],
      "text/plain": [
       "                 GEO.id      GEO.id2                        GEO.display-label  \\\n",
       "1  1400000US36005000100  36005000100   Census Tract 1, Bronx County, New York   \n",
       "2  1400000US36005000200  36005000200   Census Tract 2, Bronx County, New York   \n",
       "3  1400000US36005000400  36005000400   Census Tract 4, Bronx County, New York   \n",
       "4  1400000US36005001600  36005001600  Census Tract 16, Bronx County, New York   \n",
       "5  1400000US36005001900  36005001900  Census Tract 19, Bronx County, New York   \n",
       "\n",
       "  HD01_VD01 HD01_VD02 HD01_VD03 HD01_VD04 HD01_VD05 HD01_VD06 HD01_VD07  \\\n",
       "1         0         0         0         0         0         0         0   \n",
       "2       144         0         0        16         0         0         0   \n",
       "3       183        72         0        31        35         0         0   \n",
       "4        83        22        41         0         0         0         0   \n",
       "5        48        10         0         0         0        10         0   \n",
       "\n",
       "  HD01_VD08            tract county      state  ct2010  \n",
       "1         0   Census Tract 2      2   New York  000100  \n",
       "2       128   Census Tract 4      2   New York  000200  \n",
       "3        45  Census Tract 16      2   New York  000400  \n",
       "4        20  Census Tract 19      2   New York  001600  \n",
       "5        28  Census Tract 20      2   New York  001900  "
      ]
     },
     "execution_count": 285,
     "metadata": {},
     "output_type": "execute_result"
    }
   ],
   "source": [
    "vacancyR.head()"
   ]
  },
  {
   "cell_type": "code",
   "execution_count": 286,
   "metadata": {},
   "outputs": [
    {
     "data": {
      "text/plain": [
       "(2167, 15)"
      ]
     },
     "execution_count": 286,
     "metadata": {},
     "output_type": "execute_result"
    }
   ],
   "source": [
    "vacancyR.shape"
   ]
  },
  {
   "cell_type": "code",
   "execution_count": 287,
   "metadata": {},
   "outputs": [
    {
     "data": {
      "text/plain": [
       "(2166, 12)"
      ]
     },
     "execution_count": 287,
     "metadata": {},
     "output_type": "execute_result"
    }
   ],
   "source": [
    "tracts.shape"
   ]
  },
  {
   "cell_type": "code",
   "execution_count": 288,
   "metadata": {},
   "outputs": [],
   "source": [
    "vacancyR.dropna(axis=0, how='any', inplace=True) # there was one NaN"
   ]
  },
  {
   "cell_type": "markdown",
   "metadata": {},
   "source": [
    "# making sure I have all the same data types"
   ]
  },
  {
   "cell_type": "code",
   "execution_count": 289,
   "metadata": {},
   "outputs": [],
   "source": [
    "vacancyR.ct2010 = vacancyR.ct2010.astype(int)"
   ]
  },
  {
   "cell_type": "code",
   "execution_count": 290,
   "metadata": {},
   "outputs": [],
   "source": [
    "vacancyR.county = vacancyR.county.astype(int)"
   ]
  },
  {
   "cell_type": "code",
   "execution_count": 291,
   "metadata": {},
   "outputs": [],
   "source": [
    "tracts.boro_code = tracts.boro_code.astype(int)"
   ]
  },
  {
   "cell_type": "code",
   "execution_count": 292,
   "metadata": {},
   "outputs": [],
   "source": [
    "tracts.ct2010 = tracts.ct2010.astype(int)"
   ]
  },
  {
   "cell_type": "markdown",
   "metadata": {},
   "source": [
    "## Merging on two common columns, ct2010 and boro/county code\n",
    "- also column renaming"
   ]
  },
  {
   "cell_type": "code",
   "execution_count": 293,
   "metadata": {},
   "outputs": [],
   "source": [
    "vacancyTracts = pd.merge(vacancyR, tracts,  how='inner', \n",
    "                         left_on=['ct2010', 'county'], right_on = ['ct2010','boro_code'])"
   ]
  },
  {
   "cell_type": "code",
   "execution_count": 294,
   "metadata": {},
   "outputs": [
    {
     "data": {
      "text/plain": [
       "(2163, 26)"
      ]
     },
     "execution_count": 294,
     "metadata": {},
     "output_type": "execute_result"
    }
   ],
   "source": [
    "vacancyTracts.shape"
   ]
  },
  {
   "cell_type": "code",
   "execution_count": 295,
   "metadata": {},
   "outputs": [
    {
     "data": {
      "text/plain": [
       "Index(['GEO.id', 'GEO.id2', 'GEO.display-label', 'HD01_VD01', 'HD01_VD02',\n",
       "       'HD01_VD03', 'HD01_VD04', 'HD01_VD05', 'HD01_VD06', 'HD01_VD07',\n",
       "       'HD01_VD08', 'tract', 'county', 'state', 'ct2010', 'boro_code',\n",
       "       'boro_ct201', 'boro_name', 'cdeligibil', 'ctlabel', 'ntacode',\n",
       "       'ntaname', 'puma', 'shape_area', 'shape_leng', 'geometry'],\n",
       "      dtype='object')"
      ]
     },
     "execution_count": 295,
     "metadata": {},
     "output_type": "execute_result"
    }
   ],
   "source": [
    "vacancyTracts.columns"
   ]
  },
  {
   "cell_type": "code",
   "execution_count": 296,
   "metadata": {},
   "outputs": [],
   "source": [
    "vacancyTracts = vacancyTracts[['GEO.display-label', 'HD01_VD01', 'HD01_VD02',\n",
    "       'HD01_VD03', 'HD01_VD04', 'HD01_VD05', 'HD01_VD06', 'HD01_VD07',\n",
    "       'HD01_VD08', 'shape_area', 'shape_leng', 'geometry']]"
   ]
  },
  {
   "cell_type": "code",
   "execution_count": 297,
   "metadata": {},
   "outputs": [],
   "source": [
    "vacancyTracts.rename(columns={'HD01_VD01':'total', 'HD01_VD02':'rentals', 'HD01_VD03':'rented_vacant', \n",
    "                        'HD01_VD04':'for_sale', 'HD01_VD05':'sold_vacanct', 'HD01_VD06':'seasonal',\n",
    "                       'HD01_VD07':'migrant_wrks', 'HD01_VD08':'other'}, inplace=True)"
   ]
  },
  {
   "cell_type": "code",
   "execution_count": 298,
   "metadata": {},
   "outputs": [
    {
     "data": {
      "text/html": [
       "<div>\n",
       "<table border=\"1\" class=\"dataframe\">\n",
       "  <thead>\n",
       "    <tr style=\"text-align: right;\">\n",
       "      <th></th>\n",
       "      <th>GEO.display-label</th>\n",
       "      <th>total</th>\n",
       "      <th>rentals</th>\n",
       "      <th>rented_vacant</th>\n",
       "      <th>for_sale</th>\n",
       "      <th>sold_vacanct</th>\n",
       "      <th>seasonal</th>\n",
       "      <th>migrant_wrks</th>\n",
       "      <th>other</th>\n",
       "      <th>shape_area</th>\n",
       "      <th>shape_leng</th>\n",
       "      <th>geometry</th>\n",
       "    </tr>\n",
       "  </thead>\n",
       "  <tbody>\n",
       "    <tr>\n",
       "      <th>0</th>\n",
       "      <td>Census Tract 1, Bronx County, New York</td>\n",
       "      <td>0</td>\n",
       "      <td>0</td>\n",
       "      <td>0</td>\n",
       "      <td>0</td>\n",
       "      <td>0</td>\n",
       "      <td>0</td>\n",
       "      <td>0</td>\n",
       "      <td>0</td>\n",
       "      <td>1.816383e+07</td>\n",
       "      <td>18898.116621</td>\n",
       "      <td>POLYGON ((-73.87287195903875 40.78597502780474...</td>\n",
       "    </tr>\n",
       "    <tr>\n",
       "      <th>1</th>\n",
       "      <td>Census Tract 2, Bronx County, New York</td>\n",
       "      <td>144</td>\n",
       "      <td>0</td>\n",
       "      <td>0</td>\n",
       "      <td>16</td>\n",
       "      <td>0</td>\n",
       "      <td>0</td>\n",
       "      <td>0</td>\n",
       "      <td>128</td>\n",
       "      <td>5.006558e+06</td>\n",
       "      <td>15610.702268</td>\n",
       "      <td>POLYGON ((-73.85651604096793 40.80524122047598...</td>\n",
       "    </tr>\n",
       "    <tr>\n",
       "      <th>2</th>\n",
       "      <td>Census Tract 4, Bronx County, New York</td>\n",
       "      <td>183</td>\n",
       "      <td>72</td>\n",
       "      <td>0</td>\n",
       "      <td>31</td>\n",
       "      <td>35</td>\n",
       "      <td>0</td>\n",
       "      <td>0</td>\n",
       "      <td>45</td>\n",
       "      <td>8.561175e+06</td>\n",
       "      <td>24725.471690</td>\n",
       "      <td>POLYGON ((-73.84610660457847 40.81309998920543...</td>\n",
       "    </tr>\n",
       "    <tr>\n",
       "      <th>3</th>\n",
       "      <td>Census Tract 16, Bronx County, New York</td>\n",
       "      <td>83</td>\n",
       "      <td>22</td>\n",
       "      <td>41</td>\n",
       "      <td>0</td>\n",
       "      <td>0</td>\n",
       "      <td>0</td>\n",
       "      <td>0</td>\n",
       "      <td>20</td>\n",
       "      <td>5.221330e+06</td>\n",
       "      <td>9671.306205</td>\n",
       "      <td>POLYGON ((-73.85513639815333 40.82243618931003...</td>\n",
       "    </tr>\n",
       "    <tr>\n",
       "      <th>4</th>\n",
       "      <td>Census Tract 19, Bronx County, New York</td>\n",
       "      <td>48</td>\n",
       "      <td>10</td>\n",
       "      <td>0</td>\n",
       "      <td>0</td>\n",
       "      <td>0</td>\n",
       "      <td>10</td>\n",
       "      <td>0</td>\n",
       "      <td>28</td>\n",
       "      <td>1.796136e+07</td>\n",
       "      <td>29999.575405</td>\n",
       "      <td>(POLYGON ((-73.89680883223774 40.7958084451597...</td>\n",
       "    </tr>\n",
       "  </tbody>\n",
       "</table>\n",
       "</div>"
      ],
      "text/plain": [
       "                         GEO.display-label total rentals rented_vacant  \\\n",
       "0   Census Tract 1, Bronx County, New York     0       0             0   \n",
       "1   Census Tract 2, Bronx County, New York   144       0             0   \n",
       "2   Census Tract 4, Bronx County, New York   183      72             0   \n",
       "3  Census Tract 16, Bronx County, New York    83      22            41   \n",
       "4  Census Tract 19, Bronx County, New York    48      10             0   \n",
       "\n",
       "  for_sale sold_vacanct seasonal migrant_wrks other    shape_area  \\\n",
       "0        0            0        0            0     0  1.816383e+07   \n",
       "1       16            0        0            0   128  5.006558e+06   \n",
       "2       31           35        0            0    45  8.561175e+06   \n",
       "3        0            0        0            0    20  5.221330e+06   \n",
       "4        0            0       10            0    28  1.796136e+07   \n",
       "\n",
       "     shape_leng                                           geometry  \n",
       "0  18898.116621  POLYGON ((-73.87287195903875 40.78597502780474...  \n",
       "1  15610.702268  POLYGON ((-73.85651604096793 40.80524122047598...  \n",
       "2  24725.471690  POLYGON ((-73.84610660457847 40.81309998920543...  \n",
       "3   9671.306205  POLYGON ((-73.85513639815333 40.82243618931003...  \n",
       "4  29999.575405  (POLYGON ((-73.89680883223774 40.7958084451597...  "
      ]
     },
     "execution_count": 298,
     "metadata": {},
     "output_type": "execute_result"
    }
   ],
   "source": [
    "vacancyTracts.head()"
   ]
  },
  {
   "cell_type": "code",
   "execution_count": 299,
   "metadata": {},
   "outputs": [
    {
     "data": {
      "text/plain": [
       "geopandas.geodataframe.GeoDataFrame"
      ]
     },
     "execution_count": 299,
     "metadata": {},
     "output_type": "execute_result"
    }
   ],
   "source": [
    "type(precincts)"
   ]
  },
  {
   "cell_type": "code",
   "execution_count": 300,
   "metadata": {},
   "outputs": [
    {
     "data": {
      "text/plain": [
       "pandas.core.frame.DataFrame"
      ]
     },
     "execution_count": 300,
     "metadata": {},
     "output_type": "execute_result"
    }
   ],
   "source": [
    "type(vacancyTracts)"
   ]
  },
  {
   "cell_type": "markdown",
   "metadata": {},
   "source": [
    "# Merging vacancy info at tract level with precincts "
   ]
  },
  {
   "cell_type": "code",
   "execution_count": 301,
   "metadata": {},
   "outputs": [],
   "source": [
    "# first turning into gdf\n",
    "vacancyTractsG = gpd.GeoDataFrame(vacancyTracts, geometry='geometry')"
   ]
  },
  {
   "cell_type": "code",
   "execution_count": 305,
   "metadata": {},
   "outputs": [],
   "source": [
    "vacancyTractsG.crs"
   ]
  },
  {
   "cell_type": "code",
   "execution_count": 306,
   "metadata": {},
   "outputs": [],
   "source": [
    "vacancyTractsG.crs = from_epsg(4326)\n",
    "vacancyTractsG.to_crs(epsg=2263, inplace=True)"
   ]
  },
  {
   "cell_type": "code",
   "execution_count": 308,
   "metadata": {},
   "outputs": [],
   "source": [
    "precincts.crs = from_epsg(4326)\n",
    "precincts.to_crs(epsg=2263, inplace=True)"
   ]
  },
  {
   "cell_type": "code",
   "execution_count": 317,
   "metadata": {},
   "outputs": [],
   "source": [
    "# merging\n",
    "vacancy_by_precinct2 = gpd.sjoin(precincts, vacancyTractsG, how=\"inner\", op='contains')"
   ]
  },
  {
   "cell_type": "code",
   "execution_count": 321,
   "metadata": {},
   "outputs": [
    {
     "data": {
      "text/html": [
       "<div>\n",
       "<table border=\"1\" class=\"dataframe\">\n",
       "  <thead>\n",
       "    <tr style=\"text-align: right;\">\n",
       "      <th></th>\n",
       "      <th>precinct</th>\n",
       "      <th>shape_area_left</th>\n",
       "      <th>shape_leng_left</th>\n",
       "      <th>geometry</th>\n",
       "      <th>index_right</th>\n",
       "      <th>GEO.display-label</th>\n",
       "      <th>total</th>\n",
       "      <th>rentals</th>\n",
       "      <th>rented_vacant</th>\n",
       "      <th>for_sale</th>\n",
       "      <th>sold_vacanct</th>\n",
       "      <th>seasonal</th>\n",
       "      <th>migrant_wrks</th>\n",
       "      <th>other</th>\n",
       "      <th>shape_area_right</th>\n",
       "      <th>shape_leng_right</th>\n",
       "    </tr>\n",
       "  </thead>\n",
       "  <tbody>\n",
       "    <tr>\n",
       "      <th>0</th>\n",
       "      <td>1.0</td>\n",
       "      <td>4.730176e+07</td>\n",
       "      <td>80586.154615</td>\n",
       "      <td>(POLYGON ((972081.7882080087 190733.4674071776...</td>\n",
       "      <td>1109</td>\n",
       "      <td>Census Tract 13, New York County, New York</td>\n",
       "      <td>592</td>\n",
       "      <td>116</td>\n",
       "      <td>57</td>\n",
       "      <td>40</td>\n",
       "      <td>102</td>\n",
       "      <td>209</td>\n",
       "      <td>0</td>\n",
       "      <td>68</td>\n",
       "      <td>3.516583e+06</td>\n",
       "      <td>8906.314403</td>\n",
       "    </tr>\n",
       "    <tr>\n",
       "      <th>1</th>\n",
       "      <td>5.0</td>\n",
       "      <td>1.808880e+07</td>\n",
       "      <td>18676.124259</td>\n",
       "      <td>POLYGON ((987399.20678711 202660.9920043435, 9...</td>\n",
       "      <td>1121</td>\n",
       "      <td>Census Tract 25, New York County, New York</td>\n",
       "      <td>29</td>\n",
       "      <td>7</td>\n",
       "      <td>0</td>\n",
       "      <td>0</td>\n",
       "      <td>0</td>\n",
       "      <td>0</td>\n",
       "      <td>0</td>\n",
       "      <td>22</td>\n",
       "      <td>1.439388e+06</td>\n",
       "      <td>4763.702704</td>\n",
       "    </tr>\n",
       "    <tr>\n",
       "      <th>1</th>\n",
       "      <td>5.0</td>\n",
       "      <td>1.808880e+07</td>\n",
       "      <td>18676.124259</td>\n",
       "      <td>POLYGON ((987399.20678711 202660.9920043435, 9...</td>\n",
       "      <td>1124</td>\n",
       "      <td>Census Tract 27, New York County, New York</td>\n",
       "      <td>76</td>\n",
       "      <td>17</td>\n",
       "      <td>0</td>\n",
       "      <td>0</td>\n",
       "      <td>8</td>\n",
       "      <td>22</td>\n",
       "      <td>0</td>\n",
       "      <td>29</td>\n",
       "      <td>6.392992e+05</td>\n",
       "      <td>3685.315982</td>\n",
       "    </tr>\n",
       "    <tr>\n",
       "      <th>1</th>\n",
       "      <td>5.0</td>\n",
       "      <td>1.808880e+07</td>\n",
       "      <td>18676.124259</td>\n",
       "      <td>POLYGON ((987399.20678711 202660.9920043435, 9...</td>\n",
       "      <td>1139</td>\n",
       "      <td>Census Tract 41, New York County, New York</td>\n",
       "      <td>395</td>\n",
       "      <td>45</td>\n",
       "      <td>31</td>\n",
       "      <td>0</td>\n",
       "      <td>0</td>\n",
       "      <td>277</td>\n",
       "      <td>0</td>\n",
       "      <td>42</td>\n",
       "      <td>2.058620e+06</td>\n",
       "      <td>5913.871153</td>\n",
       "    </tr>\n",
       "    <tr>\n",
       "      <th>2</th>\n",
       "      <td>6.0</td>\n",
       "      <td>2.209819e+07</td>\n",
       "      <td>26402.900669</td>\n",
       "      <td>POLYGON ((984337.591796876 208351.1055907656, ...</td>\n",
       "      <td>1150</td>\n",
       "      <td>Census Tract 55.01, New York County, New York</td>\n",
       "      <td>307</td>\n",
       "      <td>48</td>\n",
       "      <td>49</td>\n",
       "      <td>0</td>\n",
       "      <td>0</td>\n",
       "      <td>163</td>\n",
       "      <td>0</td>\n",
       "      <td>47</td>\n",
       "      <td>1.338497e+06</td>\n",
       "      <td>4650.767118</td>\n",
       "    </tr>\n",
       "    <tr>\n",
       "      <th>2</th>\n",
       "      <td>6.0</td>\n",
       "      <td>2.209819e+07</td>\n",
       "      <td>26402.900669</td>\n",
       "      <td>POLYGON ((984337.591796876 208351.1055907656, ...</td>\n",
       "      <td>1161</td>\n",
       "      <td>Census Tract 65, New York County, New York</td>\n",
       "      <td>437</td>\n",
       "      <td>185</td>\n",
       "      <td>35</td>\n",
       "      <td>0</td>\n",
       "      <td>0</td>\n",
       "      <td>111</td>\n",
       "      <td>0</td>\n",
       "      <td>106</td>\n",
       "      <td>2.167562e+06</td>\n",
       "      <td>6351.231521</td>\n",
       "    </tr>\n",
       "    <tr>\n",
       "      <th>2</th>\n",
       "      <td>6.0</td>\n",
       "      <td>2.209819e+07</td>\n",
       "      <td>26402.900669</td>\n",
       "      <td>POLYGON ((984337.591796876 208351.1055907656, ...</td>\n",
       "      <td>1163</td>\n",
       "      <td>Census Tract 67, New York County, New York</td>\n",
       "      <td>486</td>\n",
       "      <td>164</td>\n",
       "      <td>60</td>\n",
       "      <td>0</td>\n",
       "      <td>124</td>\n",
       "      <td>0</td>\n",
       "      <td>0</td>\n",
       "      <td>138</td>\n",
       "      <td>1.812692e+06</td>\n",
       "      <td>5458.908916</td>\n",
       "    </tr>\n",
       "    <tr>\n",
       "      <th>2</th>\n",
       "      <td>6.0</td>\n",
       "      <td>2.209819e+07</td>\n",
       "      <td>26402.900669</td>\n",
       "      <td>POLYGON ((984337.591796876 208351.1055907656, ...</td>\n",
       "      <td>1155</td>\n",
       "      <td>Census Tract 59, New York County, New York</td>\n",
       "      <td>398</td>\n",
       "      <td>130</td>\n",
       "      <td>0</td>\n",
       "      <td>0</td>\n",
       "      <td>0</td>\n",
       "      <td>216</td>\n",
       "      <td>0</td>\n",
       "      <td>52</td>\n",
       "      <td>1.250316e+06</td>\n",
       "      <td>5280.102496</td>\n",
       "    </tr>\n",
       "    <tr>\n",
       "      <th>2</th>\n",
       "      <td>6.0</td>\n",
       "      <td>2.209819e+07</td>\n",
       "      <td>26402.900669</td>\n",
       "      <td>POLYGON ((984337.591796876 208351.1055907656, ...</td>\n",
       "      <td>1169</td>\n",
       "      <td>Census Tract 73, New York County, New York</td>\n",
       "      <td>851</td>\n",
       "      <td>118</td>\n",
       "      <td>127</td>\n",
       "      <td>124</td>\n",
       "      <td>0</td>\n",
       "      <td>341</td>\n",
       "      <td>0</td>\n",
       "      <td>141</td>\n",
       "      <td>1.778584e+06</td>\n",
       "      <td>5754.134334</td>\n",
       "    </tr>\n",
       "    <tr>\n",
       "      <th>3</th>\n",
       "      <td>71.0</td>\n",
       "      <td>4.533179e+07</td>\n",
       "      <td>29978.094261</td>\n",
       "      <td>POLYGON ((1004074.144409176 181406.4476317891,...</td>\n",
       "      <td>973</td>\n",
       "      <td>Census Tract 874.01, Kings County, New York</td>\n",
       "      <td>126</td>\n",
       "      <td>0</td>\n",
       "      <td>0</td>\n",
       "      <td>0</td>\n",
       "      <td>0</td>\n",
       "      <td>0</td>\n",
       "      <td>0</td>\n",
       "      <td>126</td>\n",
       "      <td>1.405623e+06</td>\n",
       "      <td>5380.177876</td>\n",
       "    </tr>\n",
       "    <tr>\n",
       "      <th>3</th>\n",
       "      <td>71.0</td>\n",
       "      <td>4.533179e+07</td>\n",
       "      <td>29978.094261</td>\n",
       "      <td>POLYGON ((1004074.144409176 181406.4476317891,...</td>\n",
       "      <td>974</td>\n",
       "      <td>Census Tract 876, Kings County, New York</td>\n",
       "      <td>62</td>\n",
       "      <td>19</td>\n",
       "      <td>10</td>\n",
       "      <td>0</td>\n",
       "      <td>0</td>\n",
       "      <td>0</td>\n",
       "      <td>0</td>\n",
       "      <td>33</td>\n",
       "      <td>1.530933e+06</td>\n",
       "      <td>5395.103287</td>\n",
       "    </tr>\n",
       "    <tr>\n",
       "      <th>3</th>\n",
       "      <td>71.0</td>\n",
       "      <td>4.533179e+07</td>\n",
       "      <td>29978.094261</td>\n",
       "      <td>POLYGON ((1004074.144409176 181406.4476317891,...</td>\n",
       "      <td>940</td>\n",
       "      <td>Census Tract 802, Kings County, New York</td>\n",
       "      <td>44</td>\n",
       "      <td>22</td>\n",
       "      <td>22</td>\n",
       "      <td>0</td>\n",
       "      <td>0</td>\n",
       "      <td>0</td>\n",
       "      <td>0</td>\n",
       "      <td>0</td>\n",
       "      <td>1.994115e+06</td>\n",
       "      <td>5767.215923</td>\n",
       "    </tr>\n",
       "    <tr>\n",
       "      <th>3</th>\n",
       "      <td>71.0</td>\n",
       "      <td>4.533179e+07</td>\n",
       "      <td>29978.094261</td>\n",
       "      <td>POLYGON ((1004074.144409176 181406.4476317891,...</td>\n",
       "      <td>941</td>\n",
       "      <td>Census Tract 804, Kings County, New York</td>\n",
       "      <td>147</td>\n",
       "      <td>53</td>\n",
       "      <td>0</td>\n",
       "      <td>0</td>\n",
       "      <td>0</td>\n",
       "      <td>0</td>\n",
       "      <td>0</td>\n",
       "      <td>94</td>\n",
       "      <td>2.042543e+06</td>\n",
       "      <td>6685.941426</td>\n",
       "    </tr>\n",
       "    <tr>\n",
       "      <th>3</th>\n",
       "      <td>71.0</td>\n",
       "      <td>4.533179e+07</td>\n",
       "      <td>29978.094261</td>\n",
       "      <td>POLYGON ((1004074.144409176 181406.4476317891,...</td>\n",
       "      <td>944</td>\n",
       "      <td>Census Tract 810, Kings County, New York</td>\n",
       "      <td>189</td>\n",
       "      <td>28</td>\n",
       "      <td>18</td>\n",
       "      <td>0</td>\n",
       "      <td>12</td>\n",
       "      <td>5</td>\n",
       "      <td>0</td>\n",
       "      <td>126</td>\n",
       "      <td>1.748352e+06</td>\n",
       "      <td>6573.868749</td>\n",
       "    </tr>\n",
       "    <tr>\n",
       "      <th>3</th>\n",
       "      <td>71.0</td>\n",
       "      <td>4.533179e+07</td>\n",
       "      <td>29978.094261</td>\n",
       "      <td>POLYGON ((1004074.144409176 181406.4476317891,...</td>\n",
       "      <td>937</td>\n",
       "      <td>Census Tract 798.01, Kings County, New York</td>\n",
       "      <td>113</td>\n",
       "      <td>24</td>\n",
       "      <td>21</td>\n",
       "      <td>0</td>\n",
       "      <td>44</td>\n",
       "      <td>0</td>\n",
       "      <td>0</td>\n",
       "      <td>24</td>\n",
       "      <td>1.397209e+06</td>\n",
       "      <td>4764.353050</td>\n",
       "    </tr>\n",
       "    <tr>\n",
       "      <th>3</th>\n",
       "      <td>71.0</td>\n",
       "      <td>4.533179e+07</td>\n",
       "      <td>29978.094261</td>\n",
       "      <td>POLYGON ((1004074.144409176 181406.4476317891,...</td>\n",
       "      <td>939</td>\n",
       "      <td>Census Tract 800, Kings County, New York</td>\n",
       "      <td>135</td>\n",
       "      <td>84</td>\n",
       "      <td>0</td>\n",
       "      <td>0</td>\n",
       "      <td>0</td>\n",
       "      <td>0</td>\n",
       "      <td>0</td>\n",
       "      <td>51</td>\n",
       "      <td>1.869357e+06</td>\n",
       "      <td>5625.230504</td>\n",
       "    </tr>\n",
       "    <tr>\n",
       "      <th>3</th>\n",
       "      <td>71.0</td>\n",
       "      <td>4.533179e+07</td>\n",
       "      <td>29978.094261</td>\n",
       "      <td>POLYGON ((1004074.144409176 181406.4476317891,...</td>\n",
       "      <td>942</td>\n",
       "      <td>Census Tract 806, Kings County, New York</td>\n",
       "      <td>75</td>\n",
       "      <td>34</td>\n",
       "      <td>0</td>\n",
       "      <td>0</td>\n",
       "      <td>0</td>\n",
       "      <td>0</td>\n",
       "      <td>0</td>\n",
       "      <td>41</td>\n",
       "      <td>1.790089e+06</td>\n",
       "      <td>6017.656695</td>\n",
       "    </tr>\n",
       "    <tr>\n",
       "      <th>3</th>\n",
       "      <td>71.0</td>\n",
       "      <td>4.533179e+07</td>\n",
       "      <td>29978.094261</td>\n",
       "      <td>POLYGON ((1004074.144409176 181406.4476317891,...</td>\n",
       "      <td>613</td>\n",
       "      <td>Census Tract 329, Kings County, New York</td>\n",
       "      <td>139</td>\n",
       "      <td>56</td>\n",
       "      <td>31</td>\n",
       "      <td>0</td>\n",
       "      <td>0</td>\n",
       "      <td>0</td>\n",
       "      <td>0</td>\n",
       "      <td>52</td>\n",
       "      <td>1.683543e+06</td>\n",
       "      <td>7138.852588</td>\n",
       "    </tr>\n",
       "    <tr>\n",
       "      <th>3</th>\n",
       "      <td>71.0</td>\n",
       "      <td>4.533179e+07</td>\n",
       "      <td>29978.094261</td>\n",
       "      <td>POLYGON ((1004074.144409176 181406.4476317891,...</td>\n",
       "      <td>615</td>\n",
       "      <td>Census Tract 331, Kings County, New York</td>\n",
       "      <td>77</td>\n",
       "      <td>0</td>\n",
       "      <td>0</td>\n",
       "      <td>0</td>\n",
       "      <td>0</td>\n",
       "      <td>0</td>\n",
       "      <td>0</td>\n",
       "      <td>77</td>\n",
       "      <td>1.533547e+06</td>\n",
       "      <td>7551.856927</td>\n",
       "    </tr>\n",
       "    <tr>\n",
       "      <th>3</th>\n",
       "      <td>71.0</td>\n",
       "      <td>4.533179e+07</td>\n",
       "      <td>29978.094261</td>\n",
       "      <td>POLYGON ((1004074.144409176 181406.4476317891,...</td>\n",
       "      <td>616</td>\n",
       "      <td>Census Tract 333, Kings County, New York</td>\n",
       "      <td>102</td>\n",
       "      <td>0</td>\n",
       "      <td>35</td>\n",
       "      <td>0</td>\n",
       "      <td>0</td>\n",
       "      <td>14</td>\n",
       "      <td>0</td>\n",
       "      <td>53</td>\n",
       "      <td>2.005663e+06</td>\n",
       "      <td>7463.479920</td>\n",
       "    </tr>\n",
       "  </tbody>\n",
       "</table>\n",
       "</div>"
      ],
      "text/plain": [
       "   precinct  shape_area_left  shape_leng_left  \\\n",
       "0       1.0     4.730176e+07     80586.154615   \n",
       "1       5.0     1.808880e+07     18676.124259   \n",
       "1       5.0     1.808880e+07     18676.124259   \n",
       "1       5.0     1.808880e+07     18676.124259   \n",
       "2       6.0     2.209819e+07     26402.900669   \n",
       "2       6.0     2.209819e+07     26402.900669   \n",
       "2       6.0     2.209819e+07     26402.900669   \n",
       "2       6.0     2.209819e+07     26402.900669   \n",
       "2       6.0     2.209819e+07     26402.900669   \n",
       "3      71.0     4.533179e+07     29978.094261   \n",
       "3      71.0     4.533179e+07     29978.094261   \n",
       "3      71.0     4.533179e+07     29978.094261   \n",
       "3      71.0     4.533179e+07     29978.094261   \n",
       "3      71.0     4.533179e+07     29978.094261   \n",
       "3      71.0     4.533179e+07     29978.094261   \n",
       "3      71.0     4.533179e+07     29978.094261   \n",
       "3      71.0     4.533179e+07     29978.094261   \n",
       "3      71.0     4.533179e+07     29978.094261   \n",
       "3      71.0     4.533179e+07     29978.094261   \n",
       "3      71.0     4.533179e+07     29978.094261   \n",
       "\n",
       "                                            geometry  index_right  \\\n",
       "0  (POLYGON ((972081.7882080087 190733.4674071776...         1109   \n",
       "1  POLYGON ((987399.20678711 202660.9920043435, 9...         1121   \n",
       "1  POLYGON ((987399.20678711 202660.9920043435, 9...         1124   \n",
       "1  POLYGON ((987399.20678711 202660.9920043435, 9...         1139   \n",
       "2  POLYGON ((984337.591796876 208351.1055907656, ...         1150   \n",
       "2  POLYGON ((984337.591796876 208351.1055907656, ...         1161   \n",
       "2  POLYGON ((984337.591796876 208351.1055907656, ...         1163   \n",
       "2  POLYGON ((984337.591796876 208351.1055907656, ...         1155   \n",
       "2  POLYGON ((984337.591796876 208351.1055907656, ...         1169   \n",
       "3  POLYGON ((1004074.144409176 181406.4476317891,...          973   \n",
       "3  POLYGON ((1004074.144409176 181406.4476317891,...          974   \n",
       "3  POLYGON ((1004074.144409176 181406.4476317891,...          940   \n",
       "3  POLYGON ((1004074.144409176 181406.4476317891,...          941   \n",
       "3  POLYGON ((1004074.144409176 181406.4476317891,...          944   \n",
       "3  POLYGON ((1004074.144409176 181406.4476317891,...          937   \n",
       "3  POLYGON ((1004074.144409176 181406.4476317891,...          939   \n",
       "3  POLYGON ((1004074.144409176 181406.4476317891,...          942   \n",
       "3  POLYGON ((1004074.144409176 181406.4476317891,...          613   \n",
       "3  POLYGON ((1004074.144409176 181406.4476317891,...          615   \n",
       "3  POLYGON ((1004074.144409176 181406.4476317891,...          616   \n",
       "\n",
       "                               GEO.display-label total rentals rented_vacant  \\\n",
       "0     Census Tract 13, New York County, New York   592     116            57   \n",
       "1     Census Tract 25, New York County, New York    29       7             0   \n",
       "1     Census Tract 27, New York County, New York    76      17             0   \n",
       "1     Census Tract 41, New York County, New York   395      45            31   \n",
       "2  Census Tract 55.01, New York County, New York   307      48            49   \n",
       "2     Census Tract 65, New York County, New York   437     185            35   \n",
       "2     Census Tract 67, New York County, New York   486     164            60   \n",
       "2     Census Tract 59, New York County, New York   398     130             0   \n",
       "2     Census Tract 73, New York County, New York   851     118           127   \n",
       "3    Census Tract 874.01, Kings County, New York   126       0             0   \n",
       "3       Census Tract 876, Kings County, New York    62      19            10   \n",
       "3       Census Tract 802, Kings County, New York    44      22            22   \n",
       "3       Census Tract 804, Kings County, New York   147      53             0   \n",
       "3       Census Tract 810, Kings County, New York   189      28            18   \n",
       "3    Census Tract 798.01, Kings County, New York   113      24            21   \n",
       "3       Census Tract 800, Kings County, New York   135      84             0   \n",
       "3       Census Tract 806, Kings County, New York    75      34             0   \n",
       "3       Census Tract 329, Kings County, New York   139      56            31   \n",
       "3       Census Tract 331, Kings County, New York    77       0             0   \n",
       "3       Census Tract 333, Kings County, New York   102       0            35   \n",
       "\n",
       "  for_sale sold_vacanct seasonal migrant_wrks other  shape_area_right  \\\n",
       "0       40          102      209            0    68      3.516583e+06   \n",
       "1        0            0        0            0    22      1.439388e+06   \n",
       "1        0            8       22            0    29      6.392992e+05   \n",
       "1        0            0      277            0    42      2.058620e+06   \n",
       "2        0            0      163            0    47      1.338497e+06   \n",
       "2        0            0      111            0   106      2.167562e+06   \n",
       "2        0          124        0            0   138      1.812692e+06   \n",
       "2        0            0      216            0    52      1.250316e+06   \n",
       "2      124            0      341            0   141      1.778584e+06   \n",
       "3        0            0        0            0   126      1.405623e+06   \n",
       "3        0            0        0            0    33      1.530933e+06   \n",
       "3        0            0        0            0     0      1.994115e+06   \n",
       "3        0            0        0            0    94      2.042543e+06   \n",
       "3        0           12        5            0   126      1.748352e+06   \n",
       "3        0           44        0            0    24      1.397209e+06   \n",
       "3        0            0        0            0    51      1.869357e+06   \n",
       "3        0            0        0            0    41      1.790089e+06   \n",
       "3        0            0        0            0    52      1.683543e+06   \n",
       "3        0            0        0            0    77      1.533547e+06   \n",
       "3        0            0       14            0    53      2.005663e+06   \n",
       "\n",
       "   shape_leng_right  \n",
       "0       8906.314403  \n",
       "1       4763.702704  \n",
       "1       3685.315982  \n",
       "1       5913.871153  \n",
       "2       4650.767118  \n",
       "2       6351.231521  \n",
       "2       5458.908916  \n",
       "2       5280.102496  \n",
       "2       5754.134334  \n",
       "3       5380.177876  \n",
       "3       5395.103287  \n",
       "3       5767.215923  \n",
       "3       6685.941426  \n",
       "3       6573.868749  \n",
       "3       4764.353050  \n",
       "3       5625.230504  \n",
       "3       6017.656695  \n",
       "3       7138.852588  \n",
       "3       7551.856927  \n",
       "3       7463.479920  "
      ]
     },
     "execution_count": 321,
     "metadata": {},
     "output_type": "execute_result"
    }
   ],
   "source": [
    "vacancy_by_precinct2.head(20)"
   ]
  },
  {
   "cell_type": "code",
   "execution_count": null,
   "metadata": {},
   "outputs": [],
   "source": []
  }
 ],
 "metadata": {
  "kernelspec": {
   "display_name": "PUI2016_Python3",
   "language": "python",
   "name": "pui2016_python3"
  },
  "language_info": {
   "codemirror_mode": {
    "name": "ipython",
    "version": 3
   },
   "file_extension": ".py",
   "mimetype": "text/x-python",
   "name": "python",
   "nbconvert_exporter": "python",
   "pygments_lexer": "ipython3",
   "version": "3.5.4"
  }
 },
 "nbformat": 4,
 "nbformat_minor": 2
}
