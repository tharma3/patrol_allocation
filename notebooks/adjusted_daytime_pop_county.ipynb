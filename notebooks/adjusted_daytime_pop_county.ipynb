{
 "cells": [
  {
   "cell_type": "code",
   "execution_count": 109,
   "metadata": {},
   "outputs": [],
   "source": [
    "import pandas as pd\n",
    "import urllib\n",
    "import requests\n",
    "import json\n",
    "import sys\n",
    "import io\n",
    "import shapely\n",
    "import base64\n",
    "import urllib.request\n",
    "import functools\n",
    "import geopandas as gp\n",
    "import fiona\n",
    "import numpy as np\n",
    "\n",
    "%matplotlib inline"
   ]
  },
  {
   "cell_type": "code",
   "execution_count": 110,
   "metadata": {},
   "outputs": [],
   "source": [
    "myAPI = '90341a28f02794c77f6e3abb153a4952a0bb480b'"
   ]
  },
  {
   "cell_type": "code",
   "execution_count": 111,
   "metadata": {},
   "outputs": [],
   "source": [
    "keypop = 'B01003_001E'\n",
    "keywpop = 'B08604_001E'\n",
    "key_same_county = 'B08007_003E'"
   ]
  },
  {
   "cell_type": "code",
   "execution_count": 112,
   "metadata": {},
   "outputs": [],
   "source": [
    "#read in in the variables available. the info you need is in the 1year ACS data\n",
    "url = \"https://api.census.gov/data/2016/acs/acs5/variables.json\"\n",
    "resp = requests.request('GET', url)\n",
    "aff1y = json.loads(resp.text)"
   ]
  },
  {
   "cell_type": "code",
   "execution_count": 113,
   "metadata": {},
   "outputs": [],
   "source": [
    "affkeys = np.array(list(aff1y['variables'].keys()))"
   ]
  },
  {
   "cell_type": "code",
   "execution_count": 114,
   "metadata": {},
   "outputs": [
    {
     "data": {
      "text/plain": [
       "[('B08007_010E', 'Estimate!!Total!!Male!!Worked outside state of residence'),\n",
       " ('B08007_011E', 'Estimate!!Total!!Female'),\n",
       " ('B08007_012E', 'Estimate!!Total!!Female!!Worked in state of residence'),\n",
       " ('B08007_013E',\n",
       "  'Estimate!!Total!!Female!!Worked in state of residence!!Worked in county of residence'),\n",
       " ('B08007_014E',\n",
       "  'Estimate!!Total!!Female!!Worked in state of residence!!Worked outside county of residence'),\n",
       " ('B08007_015E', 'Estimate!!Total!!Female!!Worked outside state of residence'),\n",
       " ('B08007_007E', 'Estimate!!Total!!Male!!Worked in state of residence'),\n",
       " ('B08007_008E',\n",
       "  'Estimate!!Total!!Male!!Worked in state of residence!!Worked in county of residence'),\n",
       " ('B08007_009E',\n",
       "  'Estimate!!Total!!Male!!Worked in state of residence!!Worked outside county of residence'),\n",
       " ('B08007_005E', 'Estimate!!Total!!Worked outside state of residence'),\n",
       " ('B08007_006E', 'Estimate!!Total!!Male'),\n",
       " ('B08007_003E',\n",
       "  'Estimate!!Total!!Worked in state of residence!!Worked in county of residence'),\n",
       " ('B08007_004E',\n",
       "  'Estimate!!Total!!Worked in state of residence!!Worked outside county of residence'),\n",
       " ('B08007_001E', 'Estimate!!Total'),\n",
       " ('B08007_002E', 'Estimate!!Total!!Worked in state of residence')]"
      ]
     },
     "execution_count": 114,
     "metadata": {},
     "output_type": "execute_result"
    }
   ],
   "source": [
    "#extracting variables of B28002 that contain \"broadband\"\n",
    "[(k, aff1y['variables'][k]['label'])  for k in affkeys if k.startswith (\"B08007\") ]"
   ]
  },
  {
   "cell_type": "code",
   "execution_count": 115,
   "metadata": {},
   "outputs": [
    {
     "data": {
      "text/plain": [
       "{'label': 'Estimate!!Total!!Worked in state of residence!!Worked in county of residence',\n",
       " 'concept': 'SEX OF WORKERS BY PLACE OF WORK--STATE AND COUNTY LEVEL',\n",
       " 'predicateType': 'int',\n",
       " 'group': 'B08007',\n",
       " 'limit': 0,\n",
       " 'attributes': 'B08007_003M,B08007_003MA,B08007_003EA'}"
      ]
     },
     "execution_count": 115,
     "metadata": {},
     "output_type": "execute_result"
    }
   ],
   "source": [
    "aff1y['variables'][key_same_county]"
   ]
  },
  {
   "cell_type": "code",
   "execution_count": 116,
   "metadata": {},
   "outputs": [
    {
     "data": {
      "text/html": [
       "<div>\n",
       "<style scoped>\n",
       "    .dataframe tbody tr th:only-of-type {\n",
       "        vertical-align: middle;\n",
       "    }\n",
       "\n",
       "    .dataframe tbody tr th {\n",
       "        vertical-align: top;\n",
       "    }\n",
       "\n",
       "    .dataframe thead th {\n",
       "        text-align: right;\n",
       "    }\n",
       "</style>\n",
       "<table border=\"1\" class=\"dataframe\">\n",
       "  <thead>\n",
       "    <tr style=\"text-align: right;\">\n",
       "      <th></th>\n",
       "      <th>worker_pop</th>\n",
       "      <th>county</th>\n",
       "    </tr>\n",
       "  </thead>\n",
       "  <tbody>\n",
       "    <tr>\n",
       "      <th>2</th>\n",
       "      <td>368562</td>\n",
       "      <td>5</td>\n",
       "    </tr>\n",
       "  </tbody>\n",
       "</table>\n",
       "</div>"
      ],
      "text/plain": [
       "   worker_pop  county\n",
       "2      368562       5"
      ]
     },
     "execution_count": 116,
     "metadata": {},
     "output_type": "execute_result"
    }
   ],
   "source": [
    "year = '2013'\n",
    "counties = [ 5, 47, 61, 81, 85]\n",
    "\n",
    "url = \"https://api.census.gov/data/\" + year + \"/acs/acs5?get=\" + keywpop +\\\n",
    "            \",NAME&for=county:*&in=state:36&key=\" + myAPI\n",
    "resp = requests.request('GET', url).content\n",
    "pop_work = pd.read_csv(io.StringIO(resp.decode('utf-8').replace('[','').replace(']','')))\n",
    "\n",
    "pop_work = pop_work[pop_work['county'].isin(counties)]\n",
    "pop_work.drop(columns=['NAME', 'state','Unnamed: 4'], inplace=True)\n",
    "pop_work.rename(columns={'B08604_001E':'worker_pop'}, inplace=True)\n",
    "\n",
    "pop_work.head(1)"
   ]
  },
  {
   "cell_type": "code",
   "execution_count": 117,
   "metadata": {},
   "outputs": [
    {
     "data": {
      "text/html": [
       "<div>\n",
       "<style scoped>\n",
       "    .dataframe tbody tr th:only-of-type {\n",
       "        vertical-align: middle;\n",
       "    }\n",
       "\n",
       "    .dataframe tbody tr th {\n",
       "        vertical-align: top;\n",
       "    }\n",
       "\n",
       "    .dataframe thead th {\n",
       "        text-align: right;\n",
       "    }\n",
       "</style>\n",
       "<table border=\"1\" class=\"dataframe\">\n",
       "  <thead>\n",
       "    <tr style=\"text-align: right;\">\n",
       "      <th></th>\n",
       "      <th>resident_pop</th>\n",
       "      <th>NAME</th>\n",
       "      <th>state</th>\n",
       "      <th>county</th>\n",
       "      <th>worker_pop</th>\n",
       "    </tr>\n",
       "  </thead>\n",
       "  <tbody>\n",
       "    <tr>\n",
       "      <th>0</th>\n",
       "      <td>1397315</td>\n",
       "      <td>Bronx County, New York</td>\n",
       "      <td>36</td>\n",
       "      <td>5</td>\n",
       "      <td>368562</td>\n",
       "    </tr>\n",
       "  </tbody>\n",
       "</table>\n",
       "</div>"
      ],
      "text/plain": [
       "   resident_pop                    NAME  state  county  worker_pop\n",
       "0       1397315  Bronx County, New York     36       5      368562"
      ]
     },
     "execution_count": 117,
     "metadata": {},
     "output_type": "execute_result"
    }
   ],
   "source": [
    "year = '2013'\n",
    "\n",
    "url = \"https://api.census.gov/data/\" + year + \"/acs/acs5?get=\" + keypop +\\\n",
    "            \",NAME&for=county:*&in=state:36&key=\" + myAPI\n",
    "resp = requests.request('GET', url).content\n",
    "pop = pd.read_csv(io.StringIO(resp.decode('utf-8').replace('[','').replace(']','')))\n",
    "\n",
    "\n",
    "pop = pop[pop['county'].isin(counties)]\n",
    "\n",
    "pop.drop(columns=['Unnamed: 4'], inplace=True)\n",
    "pop.rename(columns={'B01003_001E':'resident_pop'}, inplace=True)\n",
    "\n",
    "pop = pop.merge(pop_work, on=\"county\")\n",
    "\n",
    "pop.head(1)"
   ]
  },
  {
   "cell_type": "code",
   "execution_count": 118,
   "metadata": {},
   "outputs": [
    {
     "data": {
      "text/html": [
       "<div>\n",
       "<style scoped>\n",
       "    .dataframe tbody tr th:only-of-type {\n",
       "        vertical-align: middle;\n",
       "    }\n",
       "\n",
       "    .dataframe tbody tr th {\n",
       "        vertical-align: top;\n",
       "    }\n",
       "\n",
       "    .dataframe thead th {\n",
       "        text-align: right;\n",
       "    }\n",
       "</style>\n",
       "<table border=\"1\" class=\"dataframe\">\n",
       "  <thead>\n",
       "    <tr style=\"text-align: right;\">\n",
       "      <th></th>\n",
       "      <th>resident_pop</th>\n",
       "      <th>NAME</th>\n",
       "      <th>state</th>\n",
       "      <th>county</th>\n",
       "      <th>worker_pop</th>\n",
       "      <th>same_res_work</th>\n",
       "    </tr>\n",
       "  </thead>\n",
       "  <tbody>\n",
       "    <tr>\n",
       "      <th>0</th>\n",
       "      <td>1397315</td>\n",
       "      <td>Bronx County, New York</td>\n",
       "      <td>36</td>\n",
       "      <td>5</td>\n",
       "      <td>368562</td>\n",
       "      <td>231832</td>\n",
       "    </tr>\n",
       "  </tbody>\n",
       "</table>\n",
       "</div>"
      ],
      "text/plain": [
       "   resident_pop                    NAME  state  county  worker_pop  \\\n",
       "0       1397315  Bronx County, New York     36       5      368562   \n",
       "\n",
       "   same_res_work  \n",
       "0         231832  "
      ]
     },
     "execution_count": 118,
     "metadata": {},
     "output_type": "execute_result"
    }
   ],
   "source": [
    "year = '2013'\n",
    "\n",
    "url = \"https://api.census.gov/data/\" + year + \"/acs/acs5?get=\" + key_same_county +\\\n",
    "            \",NAME&for=county:*&in=state:36&key=\" + myAPI\n",
    "resp = requests.request('GET', url).content\n",
    "same = pd.read_csv(io.StringIO(resp.decode('utf-8').replace('[','').replace(']','')))\n",
    "\n",
    "\n",
    "same = same[same['county'].isin(counties)]\n",
    "\n",
    "same.drop(columns=['NAME', 'state','Unnamed: 4'], inplace=True)\n",
    "same.rename(columns={'B08007_003E':'same_res_work'}, inplace=True)\n",
    "\n",
    "pop = pop.merge(same, on=\"county\")\n",
    "\n",
    "pop.head(1)"
   ]
  },
  {
   "cell_type": "code",
   "execution_count": 122,
   "metadata": {},
   "outputs": [],
   "source": [
    "pop['adjusted_day'] = pop['resident_pop'] + pop['worker_pop'] - pop['same_res_work']\n",
    "pop['extra_day_people'] = pop['adjusted_day'] - pop['resident_pop'] "
   ]
  },
  {
   "cell_type": "code",
   "execution_count": 123,
   "metadata": {},
   "outputs": [
    {
     "data": {
      "text/html": [
       "<div>\n",
       "<style scoped>\n",
       "    .dataframe tbody tr th:only-of-type {\n",
       "        vertical-align: middle;\n",
       "    }\n",
       "\n",
       "    .dataframe tbody tr th {\n",
       "        vertical-align: top;\n",
       "    }\n",
       "\n",
       "    .dataframe thead th {\n",
       "        text-align: right;\n",
       "    }\n",
       "</style>\n",
       "<table border=\"1\" class=\"dataframe\">\n",
       "  <thead>\n",
       "    <tr style=\"text-align: right;\">\n",
       "      <th></th>\n",
       "      <th>resident_pop</th>\n",
       "      <th>NAME</th>\n",
       "      <th>state</th>\n",
       "      <th>county</th>\n",
       "      <th>worker_pop</th>\n",
       "      <th>same_res_work</th>\n",
       "      <th>adjusted_day</th>\n",
       "      <th>extra_day_people</th>\n",
       "    </tr>\n",
       "  </thead>\n",
       "  <tbody>\n",
       "    <tr>\n",
       "      <th>0</th>\n",
       "      <td>1397315</td>\n",
       "      <td>Bronx County, New York</td>\n",
       "      <td>36</td>\n",
       "      <td>5</td>\n",
       "      <td>368562</td>\n",
       "      <td>231832</td>\n",
       "      <td>1534045</td>\n",
       "      <td>136730</td>\n",
       "    </tr>\n",
       "    <tr>\n",
       "      <th>1</th>\n",
       "      <td>2539789</td>\n",
       "      <td>Kings County, New York</td>\n",
       "      <td>36</td>\n",
       "      <td>47</td>\n",
       "      <td>806893</td>\n",
       "      <td>550814</td>\n",
       "      <td>2795868</td>\n",
       "      <td>256079</td>\n",
       "    </tr>\n",
       "    <tr>\n",
       "      <th>2</th>\n",
       "      <td>1605272</td>\n",
       "      <td>New York County, New York</td>\n",
       "      <td>36</td>\n",
       "      <td>61</td>\n",
       "      <td>2341135</td>\n",
       "      <td>705133</td>\n",
       "      <td>3241274</td>\n",
       "      <td>1636002</td>\n",
       "    </tr>\n",
       "    <tr>\n",
       "      <th>3</th>\n",
       "      <td>2256400</td>\n",
       "      <td>Queens County, New York</td>\n",
       "      <td>36</td>\n",
       "      <td>81</td>\n",
       "      <td>694443</td>\n",
       "      <td>441400</td>\n",
       "      <td>2509443</td>\n",
       "      <td>253043</td>\n",
       "    </tr>\n",
       "    <tr>\n",
       "      <th>4</th>\n",
       "      <td>470223</td>\n",
       "      <td>Richmond County, New York</td>\n",
       "      <td>36</td>\n",
       "      <td>85</td>\n",
       "      <td>126249</td>\n",
       "      <td>101300</td>\n",
       "      <td>495172</td>\n",
       "      <td>24949</td>\n",
       "    </tr>\n",
       "  </tbody>\n",
       "</table>\n",
       "</div>"
      ],
      "text/plain": [
       "   resident_pop                       NAME  state  county  worker_pop  \\\n",
       "0       1397315     Bronx County, New York     36       5      368562   \n",
       "1       2539789     Kings County, New York     36      47      806893   \n",
       "2       1605272  New York County, New York     36      61     2341135   \n",
       "3       2256400    Queens County, New York     36      81      694443   \n",
       "4        470223  Richmond County, New York     36      85      126249   \n",
       "\n",
       "   same_res_work  adjusted_day  extra_day_people  \n",
       "0         231832       1534045            136730  \n",
       "1         550814       2795868            256079  \n",
       "2         705133       3241274           1636002  \n",
       "3         441400       2509443            253043  \n",
       "4         101300        495172             24949  "
      ]
     },
     "execution_count": 123,
     "metadata": {},
     "output_type": "execute_result"
    }
   ],
   "source": [
    "pop"
   ]
  },
  {
   "cell_type": "code",
   "execution_count": null,
   "metadata": {},
   "outputs": [],
   "source": []
  }
 ],
 "metadata": {
  "kernelspec": {
   "display_name": "Python 3",
   "language": "python",
   "name": "python3"
  },
  "language_info": {
   "codemirror_mode": {
    "name": "ipython",
    "version": 3
   },
   "file_extension": ".py",
   "mimetype": "text/x-python",
   "name": "python",
   "nbconvert_exporter": "python",
   "pygments_lexer": "ipython3",
   "version": "3.6.5"
  }
 },
 "nbformat": 4,
 "nbformat_minor": 2
}
