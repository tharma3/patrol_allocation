{
 "cells": [
  {
   "cell_type": "code",
   "execution_count": 1,
   "metadata": {},
   "outputs": [],
   "source": [
    "import pandas as pd\n",
    "import numpy as numpy\n",
    "import json \n",
    "import os \n",
    "import pylab as pl\n",
    "import urllib\n",
    "import requests\n",
    "import geopandas as gp\n",
    "import fiona\n",
    "import shapely\n",
    "from fiona.crs import from_epsg\n",
    "import os\n",
    "import pandas as pd\n",
    "import urllib\n",
    "import requests\n",
    "import json\n",
    "import sys\n",
    "import io\n",
    "import shapely\n",
    "import base64\n",
    "import urllib.request\n",
    "import functools\n",
    "import geopandas as gp\n",
    "import fiona\n",
    "import numpy as np\n",
    "import matplotlib.pylab as plt\n",
    "\n",
    "pd.set_option('display.max_rows', 500)\n",
    "pd.set_option('display.max_columns', 500)\n",
    "%matplotlib inline"
   ]
  },
  {
   "cell_type": "code",
   "execution_count": null,
   "metadata": {},
   "outputs": [],
   "source": [
    "url = 'https://data.cityofnewyork.us/api/views/8h9b-rp9u/rows.csv?accessType=DOWNLOAD'\n",
    "arrests = pd.read_csv(url)\n",
    "arrests.head()"
   ]
  },
  {
   "cell_type": "code",
   "execution_count": null,
   "metadata": {},
   "outputs": [],
   "source": [
    "violent = [139,140,153,155,157,164,166,168,175,176\n",
    "          ,177,178,179,180,183,185,187,261,263,379\n",
    "           ,380,397,586,639,640,665,104,105,106,\n",
    "          107,109,112,122,123,124,125,129]\n",
    "qol = [789,566,258,610, 612, 614, 616, 622, 803, 862]"
   ]
  },
  {
   "cell_type": "markdown",
   "metadata": {},
   "source": [
    "violations = 789,566,258,604,617,600,602,610, 612, 614, 616, 622, 803, 862,625\n",
    "firework possession, marijuana possession,possession of graffiti instruments,loitering -use control substance,\n",
    "loitering-prostitution, loitering-sexual deviation, loitering-gambling in a public place, \n",
    ", in public under influence of narcotics, alcohol under 21, public consumption of alc, unreasonable noise"
   ]
  },
  {
   "cell_type": "code",
   "execution_count": null,
   "metadata": {},
   "outputs": [],
   "source": [
    "arrests['year'] = arrests['ARREST_DATE'].str[-2:]\n",
    "arrests.head()"
   ]
  },
  {
   "cell_type": "code",
   "execution_count": null,
   "metadata": {},
   "outputs": [],
   "source": [
    "arrests = arrests[(arrests['PD_CD'].isin(violent))|(arrests['PD_CD'].isin(qol))]"
   ]
  },
  {
   "cell_type": "code",
   "execution_count": null,
   "metadata": {},
   "outputs": [],
   "source": [
    "arrests.shape"
   ]
  },
  {
   "cell_type": "code",
   "execution_count": null,
   "metadata": {},
   "outputs": [],
   "source": [
    "arrests.loc[arrests['PD_CD'].isin(violent), 'category'] = 'vio'\n",
    "arrests.loc[arrests['PD_CD'].isin(qol), 'category'] = 'qol'"
   ]
  },
  {
   "cell_type": "code",
   "execution_count": null,
   "metadata": {},
   "outputs": [],
   "source": [
    "arrests.head()"
   ]
  },
  {
   "cell_type": "code",
   "execution_count": null,
   "metadata": {},
   "outputs": [],
   "source": [
    "grouped = arrests.groupby(['ARREST_PRECINCT','category']).count().reset_index()\n",
    "grouped.head()"
   ]
  },
  {
   "cell_type": "code",
   "execution_count": null,
   "metadata": {},
   "outputs": [],
   "source": [
    "grouped = grouped[['ARREST_PRECINCT','category','ARREST_KEY']]"
   ]
  },
  {
   "cell_type": "code",
   "execution_count": null,
   "metadata": {},
   "outputs": [],
   "source": [
    "grouped = grouped.pivot(index='ARREST_PRECINCT', columns='category', values='ARREST_KEY')\n",
    "grouped.head()"
   ]
  },
  {
   "cell_type": "code",
   "execution_count": null,
   "metadata": {},
   "outputs": [],
   "source": [
    "grouped['qol_vio_ratio'] = grouped['qol']/grouped['vio']\n",
    "\n",
    "grouped.describe()"
   ]
  },
  {
   "cell_type": "code",
   "execution_count": null,
   "metadata": {},
   "outputs": [],
   "source": [
    "#import precinct shapefile\n",
    "\n",
    "url = 'https://data.cityofnewyork.us/api/geospatial/78dh-3ptz?method=export&format=Shapefile'\n",
    "precinct = gp.GeoDataFrame.from_file(url)\n",
    "precinct.head(2)"
   ]
  },
  {
   "cell_type": "code",
   "execution_count": null,
   "metadata": {},
   "outputs": [],
   "source": [
    "#join to model data\n",
    "\n",
    "precinct = precinct.merge(grouped,left_on='precinct', right_on='ARREST_PRECINCT')\n",
    "\n",
    "precinct.shape"
   ]
  },
  {
   "cell_type": "code",
   "execution_count": null,
   "metadata": {},
   "outputs": [],
   "source": [
    "path = '/Users/katharinevoorhees/patrol_allocation/precinct_population_dayadjust.csv'\n",
    "\n",
    "pop = pd.read_csv(path)\n",
    "\n",
    "pop.head()"
   ]
  },
  {
   "cell_type": "code",
   "execution_count": null,
   "metadata": {},
   "outputs": [],
   "source": [
    "precinct = precinct.merge(pop, on='precinct')"
   ]
  },
  {
   "cell_type": "code",
   "execution_count": null,
   "metadata": {},
   "outputs": [],
   "source": [
    "precinct.head()"
   ]
  },
  {
   "cell_type": "code",
   "execution_count": null,
   "metadata": {},
   "outputs": [],
   "source": [
    "precinct['percapita_day'] = (precinct['qol']/\\\n",
    "        precinct['adjusted_day_precinct_x'])*10000"
   ]
  },
  {
   "cell_type": "code",
   "execution_count": null,
   "metadata": {},
   "outputs": [],
   "source": [
    "precinct = precinct[precinct.precinct != 22]"
   ]
  },
  {
   "cell_type": "code",
   "execution_count": null,
   "metadata": {},
   "outputs": [],
   "source": [
    "precinct.to_crs(epsg=2263, inplace=True)"
   ]
  },
  {
   "cell_type": "code",
   "execution_count": null,
   "metadata": {},
   "outputs": [],
   "source": [
    " #make cloropleth of precincts shaded by allocation in this model \n",
    "\n",
    "f,ax = plt.subplots(figsize=(10,10))\n",
    "precinct.plot(column='percapita_day', cmap=\"Blues\", edgecolor=\"grey\",ax=ax,\n",
    "              scheme='quantiles',k=10, lw=.5, legend=True)\n",
    "ax.axis('off')\n",
    "plt.title('Ratio' ,fontsize=(20))\n",
    "\n",
    "leg = ax.get_legend()\n",
    "leg.set_bbox_to_anchor((0,-.1,.25,1));"
   ]
  },
  {
   "cell_type": "code",
   "execution_count": null,
   "metadata": {},
   "outputs": [],
   "source": [
    "precinct.sort_values('qol_vio_ratio', ascending=False)"
   ]
  },
  {
   "cell_type": "code",
   "execution_count": null,
   "metadata": {},
   "outputs": [],
   "source": [
    "path = '/Users/katharinevoorhees/Downloads/stopfrisk_noarrest_rate.csv'\n",
    "stopfrisk = pd.read_csv(path)"
   ]
  },
  {
   "cell_type": "code",
   "execution_count": null,
   "metadata": {},
   "outputs": [],
   "source": [
    "stopfrisk.head()"
   ]
  },
  {
   "cell_type": "code",
   "execution_count": null,
   "metadata": {},
   "outputs": [],
   "source": [
    "stopfrisk['2018_no_rate'].hist(bins=30)"
   ]
  },
  {
   "cell_type": "code",
   "execution_count": null,
   "metadata": {},
   "outputs": [],
   "source": [
    "precinct = precinct.merge(stopfrisk) \n",
    "precinct.head()"
   ]
  },
  {
   "cell_type": "code",
   "execution_count": null,
   "metadata": {},
   "outputs": [],
   "source": [
    "precinct['switch'] = 1 - precinct['2018_no_rate']"
   ]
  },
  {
   "cell_type": "code",
   "execution_count": null,
   "metadata": {},
   "outputs": [],
   "source": [
    "#make cloropleth of precincts shaded by allocation in this model \n",
    "\n",
    "f,ax = plt.subplots(figsize=(10,10))\n",
    "precinct.plot(column='2018_no_rate', cmap=\"Blues\", edgecolor=\"grey\",ax=ax,\n",
    "              scheme='quantiles',k=10, lw=.5, legend=True)\n",
    "ax.axis('off')\n",
    "plt.title('Ratio' ,fontsize=(20))\n",
    "\n",
    "leg = ax.get_legend()\n",
    "leg.set_bbox_to_anchor((0,-.1,.25,1));"
   ]
  },
  {
   "cell_type": "code",
   "execution_count": null,
   "metadata": {},
   "outputs": [],
   "source": [
    "#look specifically at stop and frisks for suspicion of un-super-scary crimes"
   ]
  }
 ],
 "metadata": {
  "kernelspec": {
   "display_name": "Python 3",
   "language": "python",
   "name": "python3"
  },
  "language_info": {
   "codemirror_mode": {
    "name": "ipython",
    "version": 3
   },
   "file_extension": ".py",
   "mimetype": "text/x-python",
   "name": "python",
   "nbconvert_exporter": "python",
   "pygments_lexer": "ipython3",
   "version": "3.6.5"
  }
 },
 "nbformat": 4,
 "nbformat_minor": 2
}
