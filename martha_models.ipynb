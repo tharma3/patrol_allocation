{
 "cells": [
  {
   "cell_type": "code",
   "execution_count": 36,
   "metadata": {},
   "outputs": [],
   "source": [
    "import pandas as pd\n",
    "import os\n",
    "import matplotlib.pyplot as plt"
   ]
  },
  {
   "cell_type": "code",
   "execution_count": 2,
   "metadata": {},
   "outputs": [
    {
     "data": {
      "text/plain": [
       "'/nfshome/mrn291/patrol_allocation'"
      ]
     },
     "execution_count": 2,
     "metadata": {},
     "output_type": "execute_result"
    }
   ],
   "source": [
    "os.getcwd()"
   ]
  },
  {
   "cell_type": "code",
   "execution_count": 3,
   "metadata": {},
   "outputs": [],
   "source": [
    "files = os.listdir()"
   ]
  },
  {
   "cell_type": "code",
   "execution_count": 4,
   "metadata": {},
   "outputs": [],
   "source": [
    "files = [file for file in files if file[-3:]=='csv']\n",
    "names = [file[:-4] for file in files]"
   ]
  },
  {
   "cell_type": "code",
   "execution_count": 5,
   "metadata": {},
   "outputs": [],
   "source": [
    "frames = []\n",
    "for file, name in zip(files, names):\n",
    "    name = pd.read_csv(file)\n",
    "    frames.append(name)"
   ]
  },
  {
   "cell_type": "code",
   "execution_count": 6,
   "metadata": {},
   "outputs": [
    {
     "data": {
      "text/plain": [
       "['pluto.csv',\n",
       " 'seven_majors.csv',\n",
       " 'precinct_pop_m.csv',\n",
       " 'area_model_results.csv',\n",
       " 'crash_data.csv',\n",
       " 'vacancy_only.csv',\n",
       " 'felonies_09_14.csv',\n",
       " 'complaint_data.csv',\n",
       " 'calls_by_precinct.csv',\n",
       " 'tract_precinct_key.csv',\n",
       " 'age_precinct.csv',\n",
       " 'gentrification_model_results.csv',\n",
       " 'precinct_population_dayadjust.csv',\n",
       " 'noise_complaints_aggregated.csv',\n",
       " 'plutoSums.csv',\n",
       " 'violent_crime_MODEL.csv',\n",
       " '2016_estimations.csv',\n",
       " 'acs_other_demo_data.csv',\n",
       " 'StopFrisk_10thru18R.csv',\n",
       " 'adjusted_day_MODEL_RESULTS.csv']"
      ]
     },
     "execution_count": 6,
     "metadata": {},
     "output_type": "execute_result"
    }
   ],
   "source": [
    "files"
   ]
  },
  {
   "cell_type": "markdown",
   "metadata": {},
   "source": [
    "### Model 1: Calls for Service + Violent Crime"
   ]
  },
  {
   "cell_type": "code",
   "execution_count": 12,
   "metadata": {},
   "outputs": [],
   "source": [
    "calls = pd.read_csv('calls_by_precinct.csv')\n",
    "violent = pd.read_csv('seven_majors.csv')"
   ]
  },
  {
   "cell_type": "code",
   "execution_count": 13,
   "metadata": {},
   "outputs": [],
   "source": [
    "violent.columns = violent.columns.str.strip()"
   ]
  },
  {
   "cell_type": "code",
   "execution_count": 16,
   "metadata": {},
   "outputs": [],
   "source": [
    "violent = violent.loc[:,['Precinct','2018_FELONY ASSAULT','2018_MURDER & NON NEGL. MANSLAUGHTER', '2018_RAPE','2018_ROBBERY']]"
   ]
  },
  {
   "cell_type": "code",
   "execution_count": 17,
   "metadata": {},
   "outputs": [
    {
     "data": {
      "text/plain": [
       "Index(['Precinct', '2018_FELONY ASSAULT',\n",
       "       '2018_MURDER & NON NEGL. MANSLAUGHTER', '2018_RAPE', '2018_ROBBERY'],\n",
       "      dtype='object')"
      ]
     },
     "execution_count": 17,
     "metadata": {},
     "output_type": "execute_result"
    }
   ],
   "source": [
    "violent.columns"
   ]
  },
  {
   "cell_type": "code",
   "execution_count": 18,
   "metadata": {},
   "outputs": [],
   "source": [
    "violent['total_violent'] = violent.drop('Precinct', axis=1).sum(axis=1)"
   ]
  },
  {
   "cell_type": "code",
   "execution_count": 19,
   "metadata": {},
   "outputs": [
    {
     "data": {
      "text/html": [
       "<div>\n",
       "<style scoped>\n",
       "    .dataframe tbody tr th:only-of-type {\n",
       "        vertical-align: middle;\n",
       "    }\n",
       "\n",
       "    .dataframe tbody tr th {\n",
       "        vertical-align: top;\n",
       "    }\n",
       "\n",
       "    .dataframe thead th {\n",
       "        text-align: right;\n",
       "    }\n",
       "</style>\n",
       "<table border=\"1\" class=\"dataframe\">\n",
       "  <thead>\n",
       "    <tr style=\"text-align: right;\">\n",
       "      <th></th>\n",
       "      <th>Precinct</th>\n",
       "      <th>2018_FELONY ASSAULT</th>\n",
       "      <th>2018_MURDER &amp; NON NEGL. MANSLAUGHTER</th>\n",
       "      <th>2018_RAPE</th>\n",
       "      <th>2018_ROBBERY</th>\n",
       "      <th>total_violent</th>\n",
       "    </tr>\n",
       "  </thead>\n",
       "  <tbody>\n",
       "    <tr>\n",
       "      <th>0</th>\n",
       "      <td>1</td>\n",
       "      <td>61</td>\n",
       "      <td>1</td>\n",
       "      <td>23</td>\n",
       "      <td>80</td>\n",
       "      <td>165</td>\n",
       "    </tr>\n",
       "    <tr>\n",
       "      <th>1</th>\n",
       "      <td>5</td>\n",
       "      <td>122</td>\n",
       "      <td>1</td>\n",
       "      <td>7</td>\n",
       "      <td>85</td>\n",
       "      <td>215</td>\n",
       "    </tr>\n",
       "    <tr>\n",
       "      <th>2</th>\n",
       "      <td>6</td>\n",
       "      <td>121</td>\n",
       "      <td>1</td>\n",
       "      <td>20</td>\n",
       "      <td>153</td>\n",
       "      <td>295</td>\n",
       "    </tr>\n",
       "    <tr>\n",
       "      <th>3</th>\n",
       "      <td>7</td>\n",
       "      <td>153</td>\n",
       "      <td>0</td>\n",
       "      <td>15</td>\n",
       "      <td>118</td>\n",
       "      <td>286</td>\n",
       "    </tr>\n",
       "    <tr>\n",
       "      <th>4</th>\n",
       "      <td>9</td>\n",
       "      <td>149</td>\n",
       "      <td>0</td>\n",
       "      <td>40</td>\n",
       "      <td>85</td>\n",
       "      <td>274</td>\n",
       "    </tr>\n",
       "  </tbody>\n",
       "</table>\n",
       "</div>"
      ],
      "text/plain": [
       "   Precinct  2018_FELONY ASSAULT  2018_MURDER & NON NEGL. MANSLAUGHTER  \\\n",
       "0         1                   61                                     1   \n",
       "1         5                  122                                     1   \n",
       "2         6                  121                                     1   \n",
       "3         7                  153                                     0   \n",
       "4         9                  149                                     0   \n",
       "\n",
       "   2018_RAPE  2018_ROBBERY  total_violent  \n",
       "0         23            80            165  \n",
       "1          7            85            215  \n",
       "2         20           153            295  \n",
       "3         15           118            286  \n",
       "4         40            85            274  "
      ]
     },
     "execution_count": 19,
     "metadata": {},
     "output_type": "execute_result"
    }
   ],
   "source": [
    "violent.head()"
   ]
  },
  {
   "cell_type": "code",
   "execution_count": 20,
   "metadata": {},
   "outputs": [
    {
     "data": {
      "text/html": [
       "<div>\n",
       "<style scoped>\n",
       "    .dataframe tbody tr th:only-of-type {\n",
       "        vertical-align: middle;\n",
       "    }\n",
       "\n",
       "    .dataframe tbody tr th {\n",
       "        vertical-align: top;\n",
       "    }\n",
       "\n",
       "    .dataframe thead th {\n",
       "        text-align: right;\n",
       "    }\n",
       "</style>\n",
       "<table border=\"1\" class=\"dataframe\">\n",
       "  <thead>\n",
       "    <tr style=\"text-align: right;\">\n",
       "      <th></th>\n",
       "      <th>Precinct</th>\n",
       "      <th>january</th>\n",
       "      <th>february</th>\n",
       "      <th>march</th>\n",
       "      <th>april</th>\n",
       "      <th>may</th>\n",
       "      <th>june</th>\n",
       "      <th>july</th>\n",
       "      <th>august</th>\n",
       "      <th>september</th>\n",
       "      <th>october</th>\n",
       "      <th>november</th>\n",
       "      <th>december</th>\n",
       "      <th>total</th>\n",
       "    </tr>\n",
       "  </thead>\n",
       "  <tbody>\n",
       "    <tr>\n",
       "      <th>0</th>\n",
       "      <td>1</td>\n",
       "      <td>13566</td>\n",
       "      <td>12094</td>\n",
       "      <td>13341</td>\n",
       "      <td>13834</td>\n",
       "      <td>14805</td>\n",
       "      <td>14038</td>\n",
       "      <td>14456</td>\n",
       "      <td>14608</td>\n",
       "      <td>13823</td>\n",
       "      <td>14026</td>\n",
       "      <td>12946</td>\n",
       "      <td>12413</td>\n",
       "      <td>163950</td>\n",
       "    </tr>\n",
       "    <tr>\n",
       "      <th>1</th>\n",
       "      <td>10</td>\n",
       "      <td>5474</td>\n",
       "      <td>4985</td>\n",
       "      <td>5748</td>\n",
       "      <td>5714</td>\n",
       "      <td>6550</td>\n",
       "      <td>6827</td>\n",
       "      <td>7281</td>\n",
       "      <td>7077</td>\n",
       "      <td>7158</td>\n",
       "      <td>7543</td>\n",
       "      <td>6166</td>\n",
       "      <td>6583</td>\n",
       "      <td>77106</td>\n",
       "    </tr>\n",
       "    <tr>\n",
       "      <th>2</th>\n",
       "      <td>100</td>\n",
       "      <td>2651</td>\n",
       "      <td>2048</td>\n",
       "      <td>2635</td>\n",
       "      <td>2441</td>\n",
       "      <td>3053</td>\n",
       "      <td>2991</td>\n",
       "      <td>3713</td>\n",
       "      <td>3354</td>\n",
       "      <td>2916</td>\n",
       "      <td>2781</td>\n",
       "      <td>2655</td>\n",
       "      <td>2658</td>\n",
       "      <td>33896</td>\n",
       "    </tr>\n",
       "    <tr>\n",
       "      <th>3</th>\n",
       "      <td>101</td>\n",
       "      <td>5110</td>\n",
       "      <td>4108</td>\n",
       "      <td>4805</td>\n",
       "      <td>4583</td>\n",
       "      <td>4908</td>\n",
       "      <td>5284</td>\n",
       "      <td>5846</td>\n",
       "      <td>5426</td>\n",
       "      <td>5940</td>\n",
       "      <td>5227</td>\n",
       "      <td>5405</td>\n",
       "      <td>4869</td>\n",
       "      <td>61511</td>\n",
       "    </tr>\n",
       "    <tr>\n",
       "      <th>4</th>\n",
       "      <td>102</td>\n",
       "      <td>9277</td>\n",
       "      <td>8768</td>\n",
       "      <td>9915</td>\n",
       "      <td>8639</td>\n",
       "      <td>9810</td>\n",
       "      <td>9322</td>\n",
       "      <td>9818</td>\n",
       "      <td>9939</td>\n",
       "      <td>8940</td>\n",
       "      <td>8951</td>\n",
       "      <td>8121</td>\n",
       "      <td>8326</td>\n",
       "      <td>109826</td>\n",
       "    </tr>\n",
       "  </tbody>\n",
       "</table>\n",
       "</div>"
      ],
      "text/plain": [
       "   Precinct  january  february  march  april    may   june   july  august  \\\n",
       "0         1    13566     12094  13341  13834  14805  14038  14456   14608   \n",
       "1        10     5474      4985   5748   5714   6550   6827   7281    7077   \n",
       "2       100     2651      2048   2635   2441   3053   2991   3713    3354   \n",
       "3       101     5110      4108   4805   4583   4908   5284   5846    5426   \n",
       "4       102     9277      8768   9915   8639   9810   9322   9818    9939   \n",
       "\n",
       "   september  october  november  december   total  \n",
       "0      13823    14026     12946     12413  163950  \n",
       "1       7158     7543      6166      6583   77106  \n",
       "2       2916     2781      2655      2658   33896  \n",
       "3       5940     5227      5405      4869   61511  \n",
       "4       8940     8951      8121      8326  109826  "
      ]
     },
     "execution_count": 20,
     "metadata": {},
     "output_type": "execute_result"
    }
   ],
   "source": [
    "calls.head()"
   ]
  },
  {
   "cell_type": "code",
   "execution_count": 21,
   "metadata": {},
   "outputs": [],
   "source": [
    "calls_violence_2018 = pd.merge(violent, calls, left_on='Precinct', right_on='Precinct')"
   ]
  },
  {
   "cell_type": "code",
   "execution_count": 24,
   "metadata": {},
   "outputs": [],
   "source": [
    "calls_violence_2018 = calls_violence_2018.loc[:,['Precinct','total','total_violent']]"
   ]
  },
  {
   "cell_type": "code",
   "execution_count": 27,
   "metadata": {},
   "outputs": [],
   "source": [
    "calls_violence_2018.rename(columns={'total':'total_calls_for_service'}, inplace=True)"
   ]
  },
  {
   "cell_type": "code",
   "execution_count": 29,
   "metadata": {},
   "outputs": [],
   "source": [
    "calls_violence_2018['total'] = calls_violence_2018.total_calls_for_service + calls_violence_2018.total_violent\n",
    "denom = calls_violence_2018.total.sum()"
   ]
  },
  {
   "cell_type": "code",
   "execution_count": 30,
   "metadata": {},
   "outputs": [],
   "source": [
    "calls_violence_2018['share'] = calls_violence_2018.total.astype(float) / denom"
   ]
  },
  {
   "cell_type": "code",
   "execution_count": 32,
   "metadata": {},
   "outputs": [],
   "source": [
    "calls_violence_2018['officers'] = round(calls_violence_2018.share * 20000)"
   ]
  },
  {
   "cell_type": "code",
   "execution_count": 34,
   "metadata": {},
   "outputs": [
    {
     "data": {
      "text/html": [
       "<div>\n",
       "<style scoped>\n",
       "    .dataframe tbody tr th:only-of-type {\n",
       "        vertical-align: middle;\n",
       "    }\n",
       "\n",
       "    .dataframe tbody tr th {\n",
       "        vertical-align: top;\n",
       "    }\n",
       "\n",
       "    .dataframe thead th {\n",
       "        text-align: right;\n",
       "    }\n",
       "</style>\n",
       "<table border=\"1\" class=\"dataframe\">\n",
       "  <thead>\n",
       "    <tr style=\"text-align: right;\">\n",
       "      <th></th>\n",
       "      <th>Precinct</th>\n",
       "      <th>total_calls_for_service</th>\n",
       "      <th>total_violent</th>\n",
       "      <th>total</th>\n",
       "      <th>share</th>\n",
       "      <th>officers</th>\n",
       "    </tr>\n",
       "  </thead>\n",
       "  <tbody>\n",
       "    <tr>\n",
       "      <th>0</th>\n",
       "      <td>1</td>\n",
       "      <td>163950</td>\n",
       "      <td>165</td>\n",
       "      <td>164115</td>\n",
       "      <td>0.019832</td>\n",
       "      <td>397.0</td>\n",
       "    </tr>\n",
       "    <tr>\n",
       "      <th>1</th>\n",
       "      <td>5</td>\n",
       "      <td>80676</td>\n",
       "      <td>215</td>\n",
       "      <td>80891</td>\n",
       "      <td>0.009775</td>\n",
       "      <td>195.0</td>\n",
       "    </tr>\n",
       "    <tr>\n",
       "      <th>2</th>\n",
       "      <td>6</td>\n",
       "      <td>61731</td>\n",
       "      <td>295</td>\n",
       "      <td>62026</td>\n",
       "      <td>0.007495</td>\n",
       "      <td>150.0</td>\n",
       "    </tr>\n",
       "    <tr>\n",
       "      <th>3</th>\n",
       "      <td>7</td>\n",
       "      <td>56264</td>\n",
       "      <td>286</td>\n",
       "      <td>56550</td>\n",
       "      <td>0.006834</td>\n",
       "      <td>137.0</td>\n",
       "    </tr>\n",
       "    <tr>\n",
       "      <th>4</th>\n",
       "      <td>9</td>\n",
       "      <td>83233</td>\n",
       "      <td>274</td>\n",
       "      <td>83507</td>\n",
       "      <td>0.010091</td>\n",
       "      <td>202.0</td>\n",
       "    </tr>\n",
       "  </tbody>\n",
       "</table>\n",
       "</div>"
      ],
      "text/plain": [
       "   Precinct  total_calls_for_service  total_violent   total     share  \\\n",
       "0         1                   163950            165  164115  0.019832   \n",
       "1         5                    80676            215   80891  0.009775   \n",
       "2         6                    61731            295   62026  0.007495   \n",
       "3         7                    56264            286   56550  0.006834   \n",
       "4         9                    83233            274   83507  0.010091   \n",
       "\n",
       "   officers  \n",
       "0     397.0  \n",
       "1     195.0  \n",
       "2     150.0  \n",
       "3     137.0  \n",
       "4     202.0  "
      ]
     },
     "execution_count": 34,
     "metadata": {},
     "output_type": "execute_result"
    }
   ],
   "source": [
    "calls_violence_2018.head()"
   ]
  },
  {
   "cell_type": "code",
   "execution_count": 38,
   "metadata": {},
   "outputs": [
    {
     "data": {
      "text/plain": [
       "<matplotlib.axes._subplots.AxesSubplot at 0x7f2b3ca81518>"
      ]
     },
     "execution_count": 38,
     "metadata": {},
     "output_type": "execute_result"
    },
    {
     "data": {
      "image/png": "[encoded data removed]",
      "text/plain": [
       "<Figure size 432x288 with 1 Axes>"
      ]
     },
     "metadata": {
      "needs_background": "light"
     },
     "output_type": "display_data"
    }
   ],
   "source": [
    "calls_violence_2018.officers.hist()"
   ]
  },
  {
   "cell_type": "markdown",
   "metadata": {},
   "source": [
    "### Model 2: Crashes"
   ]
  },
  {
   "cell_type": "code",
   "execution_count": 39,
   "metadata": {},
   "outputs": [],
   "source": [
    "crashes = pd.read_csv('crash_data.csv')"
   ]
  },
  {
   "cell_type": "code",
   "execution_count": 41,
   "metadata": {},
   "outputs": [],
   "source": [
    "crashes = crashes.loc[:,['precinct','injuries2018','deaths2018']]"
   ]
  },
  {
   "cell_type": "code",
   "execution_count": 42,
   "metadata": {},
   "outputs": [],
   "source": [
    "crashes['total'] = crashes.drop('precinct', axis=1).sum(axis=1)"
   ]
  },
  {
   "cell_type": "code",
   "execution_count": 43,
   "metadata": {},
   "outputs": [],
   "source": [
    "denom = crashes.total.sum()"
   ]
  },
  {
   "cell_type": "code",
   "execution_count": 44,
   "metadata": {},
   "outputs": [],
   "source": [
    "crashes['share'] = crashes.total.astype(float) / denom\n",
    "crashes['officers'] = round(crashes.share * 20000)"
   ]
  },
  {
   "cell_type": "code",
   "execution_count": 45,
   "metadata": {},
   "outputs": [
    {
     "data": {
      "text/plain": [
       "<matplotlib.axes._subplots.AxesSubplot at 0x7f2b3ca4da58>"
      ]
     },
     "execution_count": 45,
     "metadata": {},
     "output_type": "execute_result"
    },
    {
     "data": {
      "image/png": "[encoded data removed]",
      "text/plain": [
       "<Figure size 432x288 with 1 Axes>"
      ]
     },
     "metadata": {
      "needs_background": "light"
     },
     "output_type": "display_data"
    }
   ],
   "source": [
    "crashes.officers.hist()"
   ]
  },
  {
   "cell_type": "markdown",
   "metadata": {},
   "source": [
    "### Model 3: Arrests and Violations"
   ]
  },
  {
   "cell_type": "code",
   "execution_count": 46,
   "metadata": {},
   "outputs": [],
   "source": [
    "arrests = pd.read_csv('arrests_2018.csv')"
   ]
  },
  {
   "cell_type": "code",
   "execution_count": 50,
   "metadata": {},
   "outputs": [],
   "source": [
    "violations = pd.read_csv('complaint_data.csv')"
   ]
  },
  {
   "cell_type": "code",
   "execution_count": 52,
   "metadata": {},
   "outputs": [],
   "source": [
    "violations = violations.loc[:,['ADDR_PCT_CD','2017 VIOLATION']]"
   ]
  },
  {
   "cell_type": "code",
   "execution_count": 56,
   "metadata": {},
   "outputs": [],
   "source": [
    "arrest_violation = pd.merge(violations, arrests, left_on='ADDR_PCT_CD', right_on='ARREST_PRECINCT')"
   ]
  },
  {
   "cell_type": "code",
   "execution_count": 57,
   "metadata": {},
   "outputs": [
    {
     "data": {
      "text/html": [
       "<div>\n",
       "<style scoped>\n",
       "    .dataframe tbody tr th:only-of-type {\n",
       "        vertical-align: middle;\n",
       "    }\n",
       "\n",
       "    .dataframe tbody tr th {\n",
       "        vertical-align: top;\n",
       "    }\n",
       "\n",
       "    .dataframe thead th {\n",
       "        text-align: right;\n",
       "    }\n",
       "</style>\n",
       "<table border=\"1\" class=\"dataframe\">\n",
       "  <thead>\n",
       "    <tr style=\"text-align: right;\">\n",
       "      <th></th>\n",
       "      <th>ADDR_PCT_CD</th>\n",
       "      <th>2017 VIOLATION</th>\n",
       "      <th>ARREST_PRECINCT</th>\n",
       "      <th>ARREST_KEY</th>\n",
       "    </tr>\n",
       "  </thead>\n",
       "  <tbody>\n",
       "    <tr>\n",
       "      <th>0</th>\n",
       "      <td>1</td>\n",
       "      <td>716.0</td>\n",
       "      <td>1</td>\n",
       "      <td>2792</td>\n",
       "    </tr>\n",
       "    <tr>\n",
       "      <th>1</th>\n",
       "      <td>10</td>\n",
       "      <td>446.0</td>\n",
       "      <td>10</td>\n",
       "      <td>1954</td>\n",
       "    </tr>\n",
       "    <tr>\n",
       "      <th>2</th>\n",
       "      <td>100</td>\n",
       "      <td>381.0</td>\n",
       "      <td>100</td>\n",
       "      <td>1552</td>\n",
       "    </tr>\n",
       "    <tr>\n",
       "      <th>3</th>\n",
       "      <td>101</td>\n",
       "      <td>737.0</td>\n",
       "      <td>101</td>\n",
       "      <td>2701</td>\n",
       "    </tr>\n",
       "    <tr>\n",
       "      <th>4</th>\n",
       "      <td>102</td>\n",
       "      <td>868.0</td>\n",
       "      <td>102</td>\n",
       "      <td>3496</td>\n",
       "    </tr>\n",
       "  </tbody>\n",
       "</table>\n",
       "</div>"
      ],
      "text/plain": [
       "   ADDR_PCT_CD  2017 VIOLATION  ARREST_PRECINCT  ARREST_KEY\n",
       "0            1           716.0                1        2792\n",
       "1           10           446.0               10        1954\n",
       "2          100           381.0              100        1552\n",
       "3          101           737.0              101        2701\n",
       "4          102           868.0              102        3496"
      ]
     },
     "execution_count": 57,
     "metadata": {},
     "output_type": "execute_result"
    }
   ],
   "source": [
    "arrest_violation.total = arrest_violation['2017 VIOLATION'] + "
   ]
  },
  {
   "cell_type": "code",
   "execution_count": null,
   "metadata": {},
   "outputs": [],
   "source": []
  }
 ],
 "metadata": {
  "kernelspec": {
   "display_name": "DAJCS_Project",
   "language": "python",
   "name": "dajcs_project"
  },
  "language_info": {
   "codemirror_mode": {
    "name": "ipython",
    "version": 3
   },
   "file_extension": ".py",
   "mimetype": "text/x-python",
   "name": "python",
   "nbconvert_exporter": "python",
   "pygments_lexer": "ipython3",
   "version": "3.7.2"
  }
 },
 "nbformat": 4,
 "nbformat_minor": 2
}
